{
 "metadata": {
  "name": "",
  "signature": "sha256:653bea38f4a48e178cc86fbc9c2dbd74101cca87f82727d7850da26a5284b60c"
 },
 "nbformat": 3,
 "nbformat_minor": 0,
 "worksheets": [
  {
   "cells": [
    {
     "cell_type": "code",
     "collapsed": false,
     "input": [
      "import graphlab\n",
      "import numpy as np"
     ],
     "language": "python",
     "metadata": {},
     "outputs": [],
     "prompt_number": 1
    },
    {
     "cell_type": "heading",
     "level": 1,
     "metadata": {},
     "source": [
      "Movie Recommendation with GraphLab - ML 100k"
     ]
    },
    {
     "cell_type": "heading",
     "level": 2,
     "metadata": {},
     "source": [
      "Loading Data"
     ]
    },
    {
     "cell_type": "code",
     "collapsed": false,
     "input": [
      "def loadFileML100(filename):\n",
      "    data = graphlab.SFrame.read_csv(filename,verbose=False,delimiter=\"\\t\",header=False,column_type_hints=[int,int,int,int])\n",
      "    data.remove_column('X4')\n",
      "    data.rename({'X1':\"user_id\",'X2':\"item_id\",'X3':\"rating\"})\n",
      "    return data"
     ],
     "language": "python",
     "metadata": {},
     "outputs": [],
     "prompt_number": 74
    },
    {
     "cell_type": "code",
     "collapsed": false,
     "input": [
      "#Usage: for train, test in ml100Files():\n",
      "def ml100Files():\n",
      "    for i in xrange(1,6):\n",
      "        yield (loadFileML100(\"ml-100k/u\"+str(i)+\".base\"),loadFileML100(\"ml-100k/u\"+str(i)+\".test\"))"
     ],
     "language": "python",
     "metadata": {},
     "outputs": [],
     "prompt_number": 50
    },
    {
     "cell_type": "heading",
     "level": 2,
     "metadata": {},
     "source": [
      "Similarity Recommendation"
     ]
    },
    {
     "cell_type": "code",
     "collapsed": false,
     "input": [
      "RMSE = []\n",
      "\n",
      "for i,(train, test) in enumerate(ml100Files()):\n",
      "    sim = graphlab.recommender.item_similarity_recommender.create(train,user_id=\"user_id\",item_id=\"item_id\",similarity_type=\"pearson\",only_top_k=10,target=\"rating\",verbose=False)\n",
      "    print \"RMSE = \"+str(sim.evaluate_rmse(test,target=\"rating\")[\"rmse_overall\"])\n",
      "    #RMSE.append()\n"
     ],
     "language": "python",
     "metadata": {},
     "outputs": [
      {
       "html": [
        "<pre>PROGRESS: Recsys training: model = item_similarity</pre>"
       ],
       "metadata": {},
       "output_type": "display_data",
       "text": [
        "PROGRESS: Recsys training: model = item_similarity"
       ]
      },
      {
       "html": [
        "<pre>PROGRESS: Finished prediction in 0.011677s</pre>"
       ],
       "metadata": {},
       "output_type": "display_data",
       "text": [
        "PROGRESS: Finished prediction in 0.011677s"
       ]
      },
      {
       "html": [
        "<pre>PROGRESS: Recsys training: model = item_similarity</pre>"
       ],
       "metadata": {},
       "output_type": "display_data",
       "text": [
        "PROGRESS: Recsys training: model = item_similarity"
       ]
      },
      {
       "html": [
        "<pre>PROGRESS: Finished prediction in 0.014189s</pre>"
       ],
       "metadata": {},
       "output_type": "display_data",
       "text": [
        "PROGRESS: Finished prediction in 0.014189s"
       ]
      },
      {
       "output_type": "stream",
       "stream": "stdout",
       "text": [
        "RMSE = 1.05420327355\n",
        "RMSE = 1.04664283772"
       ]
      },
      {
       "html": [
        "<pre>PROGRESS: Recsys training: model = item_similarity</pre>"
       ],
       "metadata": {},
       "output_type": "display_data",
       "text": [
        "PROGRESS: Recsys training: model = item_similarity"
       ]
      },
      {
       "html": [
        "<pre>PROGRESS: Finished prediction in 0.015881s</pre>"
       ],
       "metadata": {},
       "output_type": "display_data",
       "text": [
        "PROGRESS: Finished prediction in 0.015881s"
       ]
      },
      {
       "output_type": "stream",
       "stream": "stdout",
       "text": [
        "\n",
        "RMSE = 1.03827603834"
       ]
      },
      {
       "html": [
        "<pre>PROGRESS: Recsys training: model = item_similarity</pre>"
       ],
       "metadata": {},
       "output_type": "display_data",
       "text": [
        "PROGRESS: Recsys training: model = item_similarity"
       ]
      },
      {
       "html": [
        "<pre>PROGRESS: Finished prediction in 0.015411s</pre>"
       ],
       "metadata": {},
       "output_type": "display_data",
       "text": [
        "PROGRESS: Finished prediction in 0.015411s"
       ]
      },
      {
       "output_type": "stream",
       "stream": "stdout",
       "text": [
        "\n",
        "RMSE = 1.04089675228"
       ]
      },
      {
       "html": [
        "<pre>PROGRESS: Recsys training: model = item_similarity</pre>"
       ],
       "metadata": {},
       "output_type": "display_data",
       "text": [
        "PROGRESS: Recsys training: model = item_similarity"
       ]
      },
      {
       "html": [
        "<pre>PROGRESS: Finished prediction in 0.015909s</pre>"
       ],
       "metadata": {},
       "output_type": "display_data",
       "text": [
        "PROGRESS: Finished prediction in 0.015909s"
       ]
      },
      {
       "output_type": "stream",
       "stream": "stdout",
       "text": [
        "\n",
        "RMSE = 1.04694900986"
       ]
      },
      {
       "output_type": "stream",
       "stream": "stdout",
       "text": [
        "\n"
       ]
      }
     ],
     "prompt_number": 85
    },
    {
     "cell_type": "code",
     "collapsed": false,
     "input": [],
     "language": "python",
     "metadata": {},
     "outputs": []
    }
   ],
   "metadata": {}
  }
 ]
}