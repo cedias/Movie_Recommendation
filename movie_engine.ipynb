{
 "metadata": {
  "name": "",
  "signature": "sha256:653bea38f4a48e178cc86fbc9c2dbd74101cca87f82727d7850da26a5284b60c"
 },
 "nbformat": 3,
 "nbformat_minor": 0,
 "worksheets": [
  {
   "cells": [
    {
     "cell_type": "code",
     "collapsed": false,
     "input": [
      "import graphlab\n",
      "import numpy as np\n",
      "import matplotlib.pyplot as plt\n",
      "import pandas as pd"
     ],
     "language": "python",
     "metadata": {},
     "outputs": [],
     "prompt_number": 1
    },
    {
     "cell_type": "heading",
     "level": 2,
     "metadata": {},
     "source": [
      "Base Line"
     ]
    },
    {
     "cell_type": "code",
     "collapsed": false,
     "input": [
      "def biais_hist(uid,iid,filename=\"recoBias.pdf\"):\n",
      "    plt.figure()\n",
      "    plt.subplot(211)\n",
      "    plt.hist(uid,100)\n",
      "    plt.title('Utilisateur')\n",
      "    plt.subplot(212)\n",
      "    plt.hist(iid,100)\n",
      "    plt.title('Item')\n",
      "    plt.savefig(filename)\n",
      "\n",
      "def meanBias():\n",
      "    meanErrU=0\n",
      "    meanErrI=0\n",
      "    \n",
      "    for i in xrange(1,6):\n",
      "        sumErrU = 0\n",
      "        sumErrI = 0\n",
      "        fbase = open(\"ml-100k/u\"+str(i)+\".base\")\n",
      "        ftest = open(\"ml-100k/u\"+str(i)+\".test\")\n",
      "        \n",
      "        dataBase = np.loadtxt(fbase, dtype=int) #All the data's\n",
      "        dataTest = np.loadtxt(ftest, dtype=int) #All the data's\n",
      "        \n",
      "        frame = pd.DataFrame(dataBase,columns=['uid', 'iid','rating','timestamp'],dtype=\"int\")\n",
      "        \n",
      "        uid_rating = frame[['uid','rating']]\n",
      "        iid_rating = frame[['iid','rating']]\n",
      "       \n",
      "        uid_biais = uid_rating.groupby('uid').mean().to_dict()[\"rating\"]\n",
      "        iid_biais = iid_rating.groupby('iid').mean().to_dict()[\"rating\"]\n",
      "        \n",
      "        for row in xrange(0,len(dataTest)):\n",
      "            uid = dataTest[row][0]\n",
      "            iid = dataTest[row][1]\n",
      "            rating = dataTest[row][2]\n",
      "            try:\n",
      "                scoringI = iid_biais[iid]\n",
      "                scoringU = uid_biais[uid]\n",
      "            except:\n",
      "                scoringI = 0\n",
      "                scoringU = 0\n",
      "                \n",
      "            errU = (scoringU-rating)**2\n",
      "            errI = (scoringI-rating)**2  \n",
      "            sumErrU += errU\n",
      "            sumErrI += errI\n",
      "            \n",
      "        biais_hist(uid_biais.values(),iid_biais.values())\n",
      "        \n",
      "        sumErrU/=len(dataTest)\n",
      "        sumErrI/=len(dataTest)\n",
      "        meanErrU += sumErrU\n",
      "        meanErrI += sumErrI\n",
      "        print \"Set numero %d - MSE_User: %f - MSE_Item: %f\" %(i,sumErrU,sumErrI)\n",
      "        \n",
      "    print \"Moyenne CV 5-FOLD MSE_User: %f - MSE_Item: %f\" %(meanErrU/5,meanErrI/5)\n"
     ],
     "language": "python",
     "metadata": {},
     "outputs": [],
     "prompt_number": 3
    },
    {
     "cell_type": "code",
     "collapsed": false,
     "input": [
      "meanBias()"
     ],
     "language": "python",
     "metadata": {},
     "outputs": [
      {
       "output_type": "stream",
       "stream": "stderr",
       "text": [
        "[INFO] Start server at: ipc:///tmp/graphlab_server-3127 - Server binary: /usr/local/lib/python2.7/dist-packages/graphlab/unity_server - Server log: /tmp/graphlab_server_1415190741.log\n"
       ]
      },
      {
       "output_type": "stream",
       "stream": "stderr",
       "text": [
        "[INFO] GraphLab Server Version: 1.0.1\n"
       ]
      },
      {
       "output_type": "stream",
       "stream": "stdout",
       "text": [
        "Set numero 1 - MSE_User: 1.138932 - MSE_Item: 1.073424\n",
        "Set numero 2 - MSE_User: 1.103284 - MSE_Item: 1.063846"
       ]
      },
      {
       "output_type": "stream",
       "stream": "stdout",
       "text": [
        "\n",
        "Set numero 3 - MSE_User: 1.078298 - MSE_Item: 1.049049"
       ]
      },
      {
       "output_type": "stream",
       "stream": "stdout",
       "text": [
        "\n",
        "Set numero 4 - MSE_User: 1.082282 - MSE_Item: 1.039101"
       ]
      },
      {
       "output_type": "stream",
       "stream": "stdout",
       "text": [
        "\n",
        "Set numero 5 - MSE_User: 1.094064 - MSE_Item: 1.056976"
       ]
      },
      {
       "output_type": "stream",
       "stream": "stdout",
       "text": [
        "\n",
        "Moyenne CV 5-FOLD MSE_User: 1.099372 - MSE_Item: 1.056479\n"
       ]
      },
      {
       "metadata": {},
       "output_type": "display_data",
       "png": "[encoded data removed]",
       "text": [
        "<matplotlib.figure.Figure at 0x7f3b46ad0290>"
       ]
      },
      {
       "metadata": {},
       "output_type": "display_data",
       "png": "[encoded data removed]",
       "text": [
        "<matplotlib.figure.Figure at 0x7f3b5921f1d0>"
       ]
      },
      {
       "metadata": {},
       "output_type": "display_data",
       "png": "[encoded data removed]",
       "text": [
        "<matplotlib.figure.Figure at 0x7f3b45d8b710>"
       ]
      },
      {
       "metadata": {},
       "output_type": "display_data",
       "png": "[encoded data removed]",
       "text": [
        "<matplotlib.figure.Figure at 0x7f3b45916d10>"
       ]
      },
      {
       "metadata": {},
       "output_type": "display_data",
       "png": "[encoded data removed]",
       "text": [
        "<matplotlib.figure.Figure at 0x7f3b45d940d0>"
       ]
      }
     ],
     "prompt_number": 4
    },
    {
     "cell_type": "heading",
     "level": 1,
     "metadata": {},
     "source": [
      "Movie Recommendation with GraphLab - ML 100k"
     ]
    },
    {
     "cell_type": "heading",
     "level": 2,
     "metadata": {},
     "source": [
      "Loading Data"
     ]
    },
    {
     "cell_type": "code",
     "collapsed": false,
     "input": [
      "def loadFileML100(filename):\n",
      "    data = graphlab.SFrame.read_csv(filename,verbose=False,delimiter=\"\\t\",header=False,column_type_hints=[int,int,int,int])\n",
      "    data.remove_column('X4')\n",
      "    data.rename({'X1':\"user_id\",'X2':\"item_id\",'X3':\"rating\"})\n",
      "    return data"
     ],
     "language": "python",
     "metadata": {},
     "outputs": [],
     "prompt_number": 2
    },
    {
     "cell_type": "code",
     "collapsed": false,
     "input": [
      "#Usage: for train, test in ml100Files():\n",
      "def ml100Files():\n",
      "    for i in xrange(1,6):\n",
      "        yield (loadFileML100(\"ml-100k/u\"+str(i)+\".base\"),loadFileML100(\"ml-100k/u\"+str(i)+\".test\"))"
     ],
     "language": "python",
     "metadata": {},
     "outputs": [],
     "prompt_number": 3
    },
    {
     "cell_type": "heading",
     "level": 2,
     "metadata": {},
     "source": [
      "Similarity Recommendation"
     ]
    },
    {
     "cell_type": "code",
     "collapsed": false,
     "input": [
      "data = loadFileML100(\"ml-100k/u.data\")\n",
      "RSE = {\"jaccard\":[],\"cosine\":[],\"pearson\":[]}\n",
      "for method in [\"jaccard\",\"cosine\",\"pearson\"]:\n",
      "    for k in xrange(5,200,5):\n",
      "        sim = graphlab.recommender.item_similarity_recommender.create(data,user_id=\"user_id\",item_id=\"item_id\",similarity_type=method,only_top_k=k,target=\"rating\",verbose=False)\n",
      "        RSE[method].append(sim.evaluate_rmse(data,target=\"rating\")[\"rmse_overall\"])\n",
      "        \n",
      "for method in [\"jaccard\",\"cosine\",\"pearson\"]:\n",
      "    plt.plot(range(5,200,5),RSE[method],label=method)\n"
     ],
     "language": "python",
     "metadata": {},
     "outputs": [
      {
       "output_type": "stream",
       "stream": "stderr",
       "text": [
        "[INFO] Start server at: ipc:///tmp/graphlab_server-2689 - Server binary: /usr/local/lib/python2.7/dist-packages/graphlab/unity_server - Server log: /tmp/graphlab_server_1415221482.log\n"
       ]
      },
      {
       "output_type": "stream",
       "stream": "stderr",
       "text": [
        "[INFO] GraphLab Server Version: 1.0.1\n"
       ]
      },
      {
       "html": [
        "<pre>PROGRESS: Recsys training: model = item_similarity</pre>"
       ],
       "metadata": {},
       "output_type": "display_data",
       "text": [
        "PROGRESS: Recsys training: model = item_similarity"
       ]
      },
      {
       "html": [
        "<pre>PROGRESS: Finished prediction in 0.027033s</pre>"
       ],
       "metadata": {},
       "output_type": "display_data",
       "text": [
        "PROGRESS: Finished prediction in 0.027033s"
       ]
      },
      {
       "html": [
        "<pre>PROGRESS: Recsys training: model = item_similarity</pre>"
       ],
       "metadata": {},
       "output_type": "display_data",
       "text": [
        "PROGRESS: Recsys training: model = item_similarity"
       ]
      },
      {
       "html": [
        "<pre>PROGRESS: Finished prediction in 0.028s</pre>"
       ],
       "metadata": {},
       "output_type": "display_data",
       "text": [
        "PROGRESS: Finished prediction in 0.028s"
       ]
      },
      {
       "html": [
        "<pre>PROGRESS: Recsys training: model = item_similarity</pre>"
       ],
       "metadata": {},
       "output_type": "display_data",
       "text": [
        "PROGRESS: Recsys training: model = item_similarity"
       ]
      },
      {
       "html": [
        "<pre>PROGRESS: Finished prediction in 0.028562s</pre>"
       ],
       "metadata": {},
       "output_type": "display_data",
       "text": [
        "PROGRESS: Finished prediction in 0.028562s"
       ]
      },
      {
       "html": [
        "<pre>PROGRESS: Recsys training: model = item_similarity</pre>"
       ],
       "metadata": {},
       "output_type": "display_data",
       "text": [
        "PROGRESS: Recsys training: model = item_similarity"
       ]
      },
      {
       "html": [
        "<pre>PROGRESS: Finished prediction in 0.032881s</pre>"
       ],
       "metadata": {},
       "output_type": "display_data",
       "text": [
        "PROGRESS: Finished prediction in 0.032881s"
       ]
      },
      {
       "html": [
        "<pre>PROGRESS: Recsys training: model = item_similarity</pre>"
       ],
       "metadata": {},
       "output_type": "display_data",
       "text": [
        "PROGRESS: Recsys training: model = item_similarity"
       ]
      },
      {
       "html": [
        "<pre>PROGRESS: Finished prediction in 0.033297s</pre>"
       ],
       "metadata": {},
       "output_type": "display_data",
       "text": [
        "PROGRESS: Finished prediction in 0.033297s"
       ]
      },
      {
       "html": [
        "<pre>PROGRESS: Recsys training: model = item_similarity</pre>"
       ],
       "metadata": {},
       "output_type": "display_data",
       "text": [
        "PROGRESS: Recsys training: model = item_similarity"
       ]
      },
      {
       "html": [
        "<pre>PROGRESS: Finished prediction in 0.03688s</pre>"
       ],
       "metadata": {},
       "output_type": "display_data",
       "text": [
        "PROGRESS: Finished prediction in 0.03688s"
       ]
      },
      {
       "html": [
        "<pre>PROGRESS: Recsys training: model = item_similarity</pre>"
       ],
       "metadata": {},
       "output_type": "display_data",
       "text": [
        "PROGRESS: Recsys training: model = item_similarity"
       ]
      },
      {
       "html": [
        "<pre>PROGRESS: Finished prediction in 0.035036s</pre>"
       ],
       "metadata": {},
       "output_type": "display_data",
       "text": [
        "PROGRESS: Finished prediction in 0.035036s"
       ]
      },
      {
       "html": [
        "<pre>PROGRESS: Recsys training: model = item_similarity</pre>"
       ],
       "metadata": {},
       "output_type": "display_data",
       "text": [
        "PROGRESS: Recsys training: model = item_similarity"
       ]
      },
      {
       "html": [
        "<pre>PROGRESS: Finished prediction in 0.037021s</pre>"
       ],
       "metadata": {},
       "output_type": "display_data",
       "text": [
        "PROGRESS: Finished prediction in 0.037021s"
       ]
      },
      {
       "html": [
        "<pre>PROGRESS: Recsys training: model = item_similarity</pre>"
       ],
       "metadata": {},
       "output_type": "display_data",
       "text": [
        "PROGRESS: Recsys training: model = item_similarity"
       ]
      },
      {
       "html": [
        "<pre>PROGRESS: Finished prediction in 0.04086s</pre>"
       ],
       "metadata": {},
       "output_type": "display_data",
       "text": [
        "PROGRESS: Finished prediction in 0.04086s"
       ]
      },
      {
       "html": [
        "<pre>PROGRESS: Recsys training: model = item_similarity</pre>"
       ],
       "metadata": {},
       "output_type": "display_data",
       "text": [
        "PROGRESS: Recsys training: model = item_similarity"
       ]
      },
      {
       "html": [
        "<pre>PROGRESS: Finished prediction in 0.040749s</pre>"
       ],
       "metadata": {},
       "output_type": "display_data",
       "text": [
        "PROGRESS: Finished prediction in 0.040749s"
       ]
      },
      {
       "html": [
        "<pre>PROGRESS: Recsys training: model = item_similarity</pre>"
       ],
       "metadata": {},
       "output_type": "display_data",
       "text": [
        "PROGRESS: Recsys training: model = item_similarity"
       ]
      },
      {
       "html": [
        "<pre>PROGRESS: Finished prediction in 0.04053s</pre>"
       ],
       "metadata": {},
       "output_type": "display_data",
       "text": [
        "PROGRESS: Finished prediction in 0.04053s"
       ]
      },
      {
       "html": [
        "<pre>PROGRESS: Recsys training: model = item_similarity</pre>"
       ],
       "metadata": {},
       "output_type": "display_data",
       "text": [
        "PROGRESS: Recsys training: model = item_similarity"
       ]
      },
      {
       "html": [
        "<pre>PROGRESS: Finished prediction in 0.042044s</pre>"
       ],
       "metadata": {},
       "output_type": "display_data",
       "text": [
        "PROGRESS: Finished prediction in 0.042044s"
       ]
      },
      {
       "html": [
        "<pre>PROGRESS: Recsys training: model = item_similarity</pre>"
       ],
       "metadata": {},
       "output_type": "display_data",
       "text": [
        "PROGRESS: Recsys training: model = item_similarity"
       ]
      },
      {
       "html": [
        "<pre>PROGRESS: Finished prediction in 0.045772s</pre>"
       ],
       "metadata": {},
       "output_type": "display_data",
       "text": [
        "PROGRESS: Finished prediction in 0.045772s"
       ]
      },
      {
       "html": [
        "<pre>PROGRESS: Recsys training: model = item_similarity</pre>"
       ],
       "metadata": {},
       "output_type": "display_data",
       "text": [
        "PROGRESS: Recsys training: model = item_similarity"
       ]
      },
      {
       "html": [
        "<pre>PROGRESS: Finished prediction in 0.045469s</pre>"
       ],
       "metadata": {},
       "output_type": "display_data",
       "text": [
        "PROGRESS: Finished prediction in 0.045469s"
       ]
      },
      {
       "html": [
        "<pre>PROGRESS: Recsys training: model = item_similarity</pre>"
       ],
       "metadata": {},
       "output_type": "display_data",
       "text": [
        "PROGRESS: Recsys training: model = item_similarity"
       ]
      },
      {
       "html": [
        "<pre>PROGRESS: Finished prediction in 0.048345s</pre>"
       ],
       "metadata": {},
       "output_type": "display_data",
       "text": [
        "PROGRESS: Finished prediction in 0.048345s"
       ]
      },
      {
       "html": [
        "<pre>PROGRESS: Recsys training: model = item_similarity</pre>"
       ],
       "metadata": {},
       "output_type": "display_data",
       "text": [
        "PROGRESS: Recsys training: model = item_similarity"
       ]
      },
      {
       "html": [
        "<pre>PROGRESS: Finished prediction in 0.049002s</pre>"
       ],
       "metadata": {},
       "output_type": "display_data",
       "text": [
        "PROGRESS: Finished prediction in 0.049002s"
       ]
      },
      {
       "html": [
        "<pre>PROGRESS: Recsys training: model = item_similarity</pre>"
       ],
       "metadata": {},
       "output_type": "display_data",
       "text": [
        "PROGRESS: Recsys training: model = item_similarity"
       ]
      },
      {
       "html": [
        "<pre>PROGRESS: Finished prediction in 0.053121s</pre>"
       ],
       "metadata": {},
       "output_type": "display_data",
       "text": [
        "PROGRESS: Finished prediction in 0.053121s"
       ]
      },
      {
       "html": [
        "<pre>PROGRESS: Recsys training: model = item_similarity</pre>"
       ],
       "metadata": {},
       "output_type": "display_data",
       "text": [
        "PROGRESS: Recsys training: model = item_similarity"
       ]
      },
      {
       "html": [
        "<pre>PROGRESS: Finished prediction in 0.057782s</pre>"
       ],
       "metadata": {},
       "output_type": "display_data",
       "text": [
        "PROGRESS: Finished prediction in 0.057782s"
       ]
      },
      {
       "html": [
        "<pre>PROGRESS: Recsys training: model = item_similarity</pre>"
       ],
       "metadata": {},
       "output_type": "display_data",
       "text": [
        "PROGRESS: Recsys training: model = item_similarity"
       ]
      },
      {
       "html": [
        "<pre>PROGRESS: Finished prediction in 0.053831s</pre>"
       ],
       "metadata": {},
       "output_type": "display_data",
       "text": [
        "PROGRESS: Finished prediction in 0.053831s"
       ]
      },
      {
       "html": [
        "<pre>PROGRESS: Recsys training: model = item_similarity</pre>"
       ],
       "metadata": {},
       "output_type": "display_data",
       "text": [
        "PROGRESS: Recsys training: model = item_similarity"
       ]
      },
      {
       "html": [
        "<pre>PROGRESS: Finished prediction in 0.05688s</pre>"
       ],
       "metadata": {},
       "output_type": "display_data",
       "text": [
        "PROGRESS: Finished prediction in 0.05688s"
       ]
      },
      {
       "html": [
        "<pre>PROGRESS: Recsys training: model = item_similarity</pre>"
       ],
       "metadata": {},
       "output_type": "display_data",
       "text": [
        "PROGRESS: Recsys training: model = item_similarity"
       ]
      },
      {
       "html": [
        "<pre>PROGRESS: Finished prediction in 0.061963s</pre>"
       ],
       "metadata": {},
       "output_type": "display_data",
       "text": [
        "PROGRESS: Finished prediction in 0.061963s"
       ]
      },
      {
       "html": [
        "<pre>PROGRESS: Recsys training: model = item_similarity</pre>"
       ],
       "metadata": {},
       "output_type": "display_data",
       "text": [
        "PROGRESS: Recsys training: model = item_similarity"
       ]
      },
      {
       "html": [
        "<pre>PROGRESS: Finished prediction in 0.056223s</pre>"
       ],
       "metadata": {},
       "output_type": "display_data",
       "text": [
        "PROGRESS: Finished prediction in 0.056223s"
       ]
      },
      {
       "html": [
        "<pre>PROGRESS: Recsys training: model = item_similarity</pre>"
       ],
       "metadata": {},
       "output_type": "display_data",
       "text": [
        "PROGRESS: Recsys training: model = item_similarity"
       ]
      },
      {
       "html": [
        "<pre>PROGRESS: Finished prediction in 0.061897s</pre>"
       ],
       "metadata": {},
       "output_type": "display_data",
       "text": [
        "PROGRESS: Finished prediction in 0.061897s"
       ]
      },
      {
       "html": [
        "<pre>PROGRESS: Recsys training: model = item_similarity</pre>"
       ],
       "metadata": {},
       "output_type": "display_data",
       "text": [
        "PROGRESS: Recsys training: model = item_similarity"
       ]
      },
      {
       "html": [
        "<pre>PROGRESS: Finished prediction in 0.060025s</pre>"
       ],
       "metadata": {},
       "output_type": "display_data",
       "text": [
        "PROGRESS: Finished prediction in 0.060025s"
       ]
      },
      {
       "html": [
        "<pre>PROGRESS: Recsys training: model = item_similarity</pre>"
       ],
       "metadata": {},
       "output_type": "display_data",
       "text": [
        "PROGRESS: Recsys training: model = item_similarity"
       ]
      },
      {
       "html": [
        "<pre>PROGRESS: Finished prediction in 0.075997s</pre>"
       ],
       "metadata": {},
       "output_type": "display_data",
       "text": [
        "PROGRESS: Finished prediction in 0.075997s"
       ]
      },
      {
       "html": [
        "<pre>PROGRESS: Recsys training: model = item_similarity</pre>"
       ],
       "metadata": {},
       "output_type": "display_data",
       "text": [
        "PROGRESS: Recsys training: model = item_similarity"
       ]
      },
      {
       "html": [
        "<pre>PROGRESS: Finished prediction in 0.063348s</pre>"
       ],
       "metadata": {},
       "output_type": "display_data",
       "text": [
        "PROGRESS: Finished prediction in 0.063348s"
       ]
      },
      {
       "html": [
        "<pre>PROGRESS: Recsys training: model = item_similarity</pre>"
       ],
       "metadata": {},
       "output_type": "display_data",
       "text": [
        "PROGRESS: Recsys training: model = item_similarity"
       ]
      },
      {
       "html": [
        "<pre>PROGRESS: Finished prediction in 0.061461s</pre>"
       ],
       "metadata": {},
       "output_type": "display_data",
       "text": [
        "PROGRESS: Finished prediction in 0.061461s"
       ]
      },
      {
       "html": [
        "<pre>PROGRESS: Recsys training: model = item_similarity</pre>"
       ],
       "metadata": {},
       "output_type": "display_data",
       "text": [
        "PROGRESS: Recsys training: model = item_similarity"
       ]
      },
      {
       "html": [
        "<pre>PROGRESS: Finished prediction in 0.121304s</pre>"
       ],
       "metadata": {},
       "output_type": "display_data",
       "text": [
        "PROGRESS: Finished prediction in 0.121304s"
       ]
      },
      {
       "html": [
        "<pre>PROGRESS: Recsys training: model = item_similarity</pre>"
       ],
       "metadata": {},
       "output_type": "display_data",
       "text": [
        "PROGRESS: Recsys training: model = item_similarity"
       ]
      },
      {
       "html": [
        "<pre>PROGRESS: Finished prediction in 0.096889s</pre>"
       ],
       "metadata": {},
       "output_type": "display_data",
       "text": [
        "PROGRESS: Finished prediction in 0.096889s"
       ]
      },
      {
       "html": [
        "<pre>PROGRESS: Recsys training: model = item_similarity</pre>"
       ],
       "metadata": {},
       "output_type": "display_data",
       "text": [
        "PROGRESS: Recsys training: model = item_similarity"
       ]
      },
      {
       "html": [
        "<pre>PROGRESS: Finished prediction in 0.113227s</pre>"
       ],
       "metadata": {},
       "output_type": "display_data",
       "text": [
        "PROGRESS: Finished prediction in 0.113227s"
       ]
      },
      {
       "html": [
        "<pre>PROGRESS: Recsys training: model = item_similarity</pre>"
       ],
       "metadata": {},
       "output_type": "display_data",
       "text": [
        "PROGRESS: Recsys training: model = item_similarity"
       ]
      },
      {
       "html": [
        "<pre>PROGRESS: Finished prediction in 0.066194s</pre>"
       ],
       "metadata": {},
       "output_type": "display_data",
       "text": [
        "PROGRESS: Finished prediction in 0.066194s"
       ]
      },
      {
       "html": [
        "<pre>PROGRESS: Recsys training: model = item_similarity</pre>"
       ],
       "metadata": {},
       "output_type": "display_data",
       "text": [
        "PROGRESS: Recsys training: model = item_similarity"
       ]
      },
      {
       "html": [
        "<pre>PROGRESS: Finished prediction in 0.071457s</pre>"
       ],
       "metadata": {},
       "output_type": "display_data",
       "text": [
        "PROGRESS: Finished prediction in 0.071457s"
       ]
      },
      {
       "html": [
        "<pre>PROGRESS: Recsys training: model = item_similarity</pre>"
       ],
       "metadata": {},
       "output_type": "display_data",
       "text": [
        "PROGRESS: Recsys training: model = item_similarity"
       ]
      },
      {
       "html": [
        "<pre>PROGRESS: Finished prediction in 0.086753s</pre>"
       ],
       "metadata": {},
       "output_type": "display_data",
       "text": [
        "PROGRESS: Finished prediction in 0.086753s"
       ]
      },
      {
       "html": [
        "<pre>PROGRESS: Recsys training: model = item_similarity</pre>"
       ],
       "metadata": {},
       "output_type": "display_data",
       "text": [
        "PROGRESS: Recsys training: model = item_similarity"
       ]
      },
      {
       "html": [
        "<pre>PROGRESS: Finished prediction in 0.164816s</pre>"
       ],
       "metadata": {},
       "output_type": "display_data",
       "text": [
        "PROGRESS: Finished prediction in 0.164816s"
       ]
      },
      {
       "html": [
        "<pre>PROGRESS: Recsys training: model = item_similarity</pre>"
       ],
       "metadata": {},
       "output_type": "display_data",
       "text": [
        "PROGRESS: Recsys training: model = item_similarity"
       ]
      },
      {
       "html": [
        "<pre>PROGRESS: Finished prediction in 0.071339s</pre>"
       ],
       "metadata": {},
       "output_type": "display_data",
       "text": [
        "PROGRESS: Finished prediction in 0.071339s"
       ]
      },
      {
       "html": [
        "<pre>PROGRESS: Recsys training: model = item_similarity</pre>"
       ],
       "metadata": {},
       "output_type": "display_data",
       "text": [
        "PROGRESS: Recsys training: model = item_similarity"
       ]
      },
      {
       "html": [
        "<pre>PROGRESS: Finished prediction in 0.072728s</pre>"
       ],
       "metadata": {},
       "output_type": "display_data",
       "text": [
        "PROGRESS: Finished prediction in 0.072728s"
       ]
      },
      {
       "html": [
        "<pre>PROGRESS: Recsys training: model = item_similarity</pre>"
       ],
       "metadata": {},
       "output_type": "display_data",
       "text": [
        "PROGRESS: Recsys training: model = item_similarity"
       ]
      },
      {
       "html": [
        "<pre>PROGRESS: Finished prediction in 0.078287s</pre>"
       ],
       "metadata": {},
       "output_type": "display_data",
       "text": [
        "PROGRESS: Finished prediction in 0.078287s"
       ]
      },
      {
       "html": [
        "<pre>PROGRESS: Recsys training: model = item_similarity</pre>"
       ],
       "metadata": {},
       "output_type": "display_data",
       "text": [
        "PROGRESS: Recsys training: model = item_similarity"
       ]
      },
      {
       "html": [
        "<pre>PROGRESS: Finished prediction in 0.158975s</pre>"
       ],
       "metadata": {},
       "output_type": "display_data",
       "text": [
        "PROGRESS: Finished prediction in 0.158975s"
       ]
      },
      {
       "html": [
        "<pre>PROGRESS: Recsys training: model = item_similarity</pre>"
       ],
       "metadata": {},
       "output_type": "display_data",
       "text": [
        "PROGRESS: Recsys training: model = item_similarity"
       ]
      },
      {
       "html": [
        "<pre>PROGRESS: Finished prediction in 0.07489s</pre>"
       ],
       "metadata": {},
       "output_type": "display_data",
       "text": [
        "PROGRESS: Finished prediction in 0.07489s"
       ]
      },
      {
       "html": [
        "<pre>PROGRESS: Recsys training: model = item_similarity</pre>"
       ],
       "metadata": {},
       "output_type": "display_data",
       "text": [
        "PROGRESS: Recsys training: model = item_similarity"
       ]
      },
      {
       "html": [
        "<pre>PROGRESS: Finished prediction in 0.038423s</pre>"
       ],
       "metadata": {},
       "output_type": "display_data",
       "text": [
        "PROGRESS: Finished prediction in 0.038423s"
       ]
      },
      {
       "html": [
        "<pre>PROGRESS: Recsys training: model = item_similarity</pre>"
       ],
       "metadata": {},
       "output_type": "display_data",
       "text": [
        "PROGRESS: Recsys training: model = item_similarity"
       ]
      },
      {
       "html": [
        "<pre>PROGRESS: Finished prediction in 0.035135s</pre>"
       ],
       "metadata": {},
       "output_type": "display_data",
       "text": [
        "PROGRESS: Finished prediction in 0.035135s"
       ]
      },
      {
       "html": [
        "<pre>PROGRESS: Recsys training: model = item_similarity</pre>"
       ],
       "metadata": {},
       "output_type": "display_data",
       "text": [
        "PROGRESS: Recsys training: model = item_similarity"
       ]
      },
      {
       "html": [
        "<pre>PROGRESS: Finished prediction in 0.045303s</pre>"
       ],
       "metadata": {},
       "output_type": "display_data",
       "text": [
        "PROGRESS: Finished prediction in 0.045303s"
       ]
      },
      {
       "html": [
        "<pre>PROGRESS: Recsys training: model = item_similarity</pre>"
       ],
       "metadata": {},
       "output_type": "display_data",
       "text": [
        "PROGRESS: Recsys training: model = item_similarity"
       ]
      },
      {
       "html": [
        "<pre>PROGRESS: Finished prediction in 0.037905s</pre>"
       ],
       "metadata": {},
       "output_type": "display_data",
       "text": [
        "PROGRESS: Finished prediction in 0.037905s"
       ]
      },
      {
       "html": [
        "<pre>PROGRESS: Recsys training: model = item_similarity</pre>"
       ],
       "metadata": {},
       "output_type": "display_data",
       "text": [
        "PROGRESS: Recsys training: model = item_similarity"
       ]
      },
      {
       "html": [
        "<pre>PROGRESS: Finished prediction in 0.045894s</pre>"
       ],
       "metadata": {},
       "output_type": "display_data",
       "text": [
        "PROGRESS: Finished prediction in 0.045894s"
       ]
      },
      {
       "html": [
        "<pre>PROGRESS: Recsys training: model = item_similarity</pre>"
       ],
       "metadata": {},
       "output_type": "display_data",
       "text": [
        "PROGRESS: Recsys training: model = item_similarity"
       ]
      },
      {
       "html": [
        "<pre>PROGRESS: Finished prediction in 0.040642s</pre>"
       ],
       "metadata": {},
       "output_type": "display_data",
       "text": [
        "PROGRESS: Finished prediction in 0.040642s"
       ]
      },
      {
       "html": [
        "<pre>PROGRESS: Recsys training: model = item_similarity</pre>"
       ],
       "metadata": {},
       "output_type": "display_data",
       "text": [
        "PROGRESS: Recsys training: model = item_similarity"
       ]
      },
      {
       "html": [
        "<pre>PROGRESS: Finished prediction in 0.050555s</pre>"
       ],
       "metadata": {},
       "output_type": "display_data",
       "text": [
        "PROGRESS: Finished prediction in 0.050555s"
       ]
      },
      {
       "html": [
        "<pre>PROGRESS: Recsys training: model = item_similarity</pre>"
       ],
       "metadata": {},
       "output_type": "display_data",
       "text": [
        "PROGRESS: Recsys training: model = item_similarity"
       ]
      },
      {
       "html": [
        "<pre>PROGRESS: Finished prediction in 0.075873s</pre>"
       ],
       "metadata": {},
       "output_type": "display_data",
       "text": [
        "PROGRESS: Finished prediction in 0.075873s"
       ]
      },
      {
       "html": [
        "<pre>PROGRESS: Recsys training: model = item_similarity</pre>"
       ],
       "metadata": {},
       "output_type": "display_data",
       "text": [
        "PROGRESS: Recsys training: model = item_similarity"
       ]
      },
      {
       "html": [
        "<pre>PROGRESS: Finished prediction in 0.065403s</pre>"
       ],
       "metadata": {},
       "output_type": "display_data",
       "text": [
        "PROGRESS: Finished prediction in 0.065403s"
       ]
      },
      {
       "html": [
        "<pre>PROGRESS: Recsys training: model = item_similarity</pre>"
       ],
       "metadata": {},
       "output_type": "display_data",
       "text": [
        "PROGRESS: Recsys training: model = item_similarity"
       ]
      },
      {
       "html": [
        "<pre>PROGRESS: Finished prediction in 0.070997s</pre>"
       ],
       "metadata": {},
       "output_type": "display_data",
       "text": [
        "PROGRESS: Finished prediction in 0.070997s"
       ]
      },
      {
       "html": [
        "<pre>PROGRESS: Recsys training: model = item_similarity</pre>"
       ],
       "metadata": {},
       "output_type": "display_data",
       "text": [
        "PROGRESS: Recsys training: model = item_similarity"
       ]
      },
      {
       "html": [
        "<pre>PROGRESS: Finished prediction in 0.097135s</pre>"
       ],
       "metadata": {},
       "output_type": "display_data",
       "text": [
        "PROGRESS: Finished prediction in 0.097135s"
       ]
      },
      {
       "html": [
        "<pre>PROGRESS: Recsys training: model = item_similarity</pre>"
       ],
       "metadata": {},
       "output_type": "display_data",
       "text": [
        "PROGRESS: Recsys training: model = item_similarity"
       ]
      },
      {
       "html": [
        "<pre>PROGRESS: Finished prediction in 0.096981s</pre>"
       ],
       "metadata": {},
       "output_type": "display_data",
       "text": [
        "PROGRESS: Finished prediction in 0.096981s"
       ]
      },
      {
       "html": [
        "<pre>PROGRESS: Recsys training: model = item_similarity</pre>"
       ],
       "metadata": {},
       "output_type": "display_data",
       "text": [
        "PROGRESS: Recsys training: model = item_similarity"
       ]
      },
      {
       "html": [
        "<pre>PROGRESS: Finished prediction in 0.101108s</pre>"
       ],
       "metadata": {},
       "output_type": "display_data",
       "text": [
        "PROGRESS: Finished prediction in 0.101108s"
       ]
      },
      {
       "html": [
        "<pre>PROGRESS: Recsys training: model = item_similarity</pre>"
       ],
       "metadata": {},
       "output_type": "display_data",
       "text": [
        "PROGRESS: Recsys training: model = item_similarity"
       ]
      },
      {
       "html": [
        "<pre>PROGRESS: Finished prediction in 0.09946s</pre>"
       ],
       "metadata": {},
       "output_type": "display_data",
       "text": [
        "PROGRESS: Finished prediction in 0.09946s"
       ]
      },
      {
       "html": [
        "<pre>PROGRESS: Recsys training: model = item_similarity</pre>"
       ],
       "metadata": {},
       "output_type": "display_data",
       "text": [
        "PROGRESS: Recsys training: model = item_similarity"
       ]
      },
      {
       "html": [
        "<pre>PROGRESS: Finished prediction in 0.109864s</pre>"
       ],
       "metadata": {},
       "output_type": "display_data",
       "text": [
        "PROGRESS: Finished prediction in 0.109864s"
       ]
      },
      {
       "html": [
        "<pre>PROGRESS: Recsys training: model = item_similarity</pre>"
       ],
       "metadata": {},
       "output_type": "display_data",
       "text": [
        "PROGRESS: Recsys training: model = item_similarity"
       ]
      },
      {
       "html": [
        "<pre>PROGRESS: Finished prediction in 0.114774s</pre>"
       ],
       "metadata": {},
       "output_type": "display_data",
       "text": [
        "PROGRESS: Finished prediction in 0.114774s"
       ]
      },
      {
       "html": [
        "<pre>PROGRESS: Recsys training: model = item_similarity</pre>"
       ],
       "metadata": {},
       "output_type": "display_data",
       "text": [
        "PROGRESS: Recsys training: model = item_similarity"
       ]
      },
      {
       "html": [
        "<pre>PROGRESS: Finished prediction in 0.111767s</pre>"
       ],
       "metadata": {},
       "output_type": "display_data",
       "text": [
        "PROGRESS: Finished prediction in 0.111767s"
       ]
      },
      {
       "html": [
        "<pre>PROGRESS: Recsys training: model = item_similarity</pre>"
       ],
       "metadata": {},
       "output_type": "display_data",
       "text": [
        "PROGRESS: Recsys training: model = item_similarity"
       ]
      },
      {
       "html": [
        "<pre>PROGRESS: Finished prediction in 0.104993s</pre>"
       ],
       "metadata": {},
       "output_type": "display_data",
       "text": [
        "PROGRESS: Finished prediction in 0.104993s"
       ]
      },
      {
       "html": [
        "<pre>PROGRESS: Recsys training: model = item_similarity</pre>"
       ],
       "metadata": {},
       "output_type": "display_data",
       "text": [
        "PROGRESS: Recsys training: model = item_similarity"
       ]
      },
      {
       "html": [
        "<pre>PROGRESS: Finished prediction in 0.057813s</pre>"
       ],
       "metadata": {},
       "output_type": "display_data",
       "text": [
        "PROGRESS: Finished prediction in 0.057813s"
       ]
      },
      {
       "html": [
        "<pre>PROGRESS: Recsys training: model = item_similarity</pre>"
       ],
       "metadata": {},
       "output_type": "display_data",
       "text": [
        "PROGRESS: Recsys training: model = item_similarity"
       ]
      },
      {
       "html": [
        "<pre>PROGRESS: Finished prediction in 0.131973s</pre>"
       ],
       "metadata": {},
       "output_type": "display_data",
       "text": [
        "PROGRESS: Finished prediction in 0.131973s"
       ]
      },
      {
       "html": [
        "<pre>PROGRESS: Recsys training: model = item_similarity</pre>"
       ],
       "metadata": {},
       "output_type": "display_data",
       "text": [
        "PROGRESS: Recsys training: model = item_similarity"
       ]
      },
      {
       "html": [
        "<pre>PROGRESS: Finished prediction in 0.06631s</pre>"
       ],
       "metadata": {},
       "output_type": "display_data",
       "text": [
        "PROGRESS: Finished prediction in 0.06631s"
       ]
      },
      {
       "html": [
        "<pre>PROGRESS: Recsys training: model = item_similarity</pre>"
       ],
       "metadata": {},
       "output_type": "display_data",
       "text": [
        "PROGRESS: Recsys training: model = item_similarity"
       ]
      },
      {
       "html": [
        "<pre>PROGRESS: Finished prediction in 0.080054s</pre>"
       ],
       "metadata": {},
       "output_type": "display_data",
       "text": [
        "PROGRESS: Finished prediction in 0.080054s"
       ]
      },
      {
       "html": [
        "<pre>PROGRESS: Recsys training: model = item_similarity</pre>"
       ],
       "metadata": {},
       "output_type": "display_data",
       "text": [
        "PROGRESS: Recsys training: model = item_similarity"
       ]
      },
      {
       "html": [
        "<pre>PROGRESS: Finished prediction in 0.12737s</pre>"
       ],
       "metadata": {},
       "output_type": "display_data",
       "text": [
        "PROGRESS: Finished prediction in 0.12737s"
       ]
      },
      {
       "html": [
        "<pre>PROGRESS: Recsys training: model = item_similarity</pre>"
       ],
       "metadata": {},
       "output_type": "display_data",
       "text": [
        "PROGRESS: Recsys training: model = item_similarity"
       ]
      },
      {
       "html": [
        "<pre>PROGRESS: Finished prediction in 0.129838s</pre>"
       ],
       "metadata": {},
       "output_type": "display_data",
       "text": [
        "PROGRESS: Finished prediction in 0.129838s"
       ]
      },
      {
       "html": [
        "<pre>PROGRESS: Recsys training: model = item_similarity</pre>"
       ],
       "metadata": {},
       "output_type": "display_data",
       "text": [
        "PROGRESS: Recsys training: model = item_similarity"
       ]
      },
      {
       "html": [
        "<pre>PROGRESS: Finished prediction in 0.117571s</pre>"
       ],
       "metadata": {},
       "output_type": "display_data",
       "text": [
        "PROGRESS: Finished prediction in 0.117571s"
       ]
      },
      {
       "html": [
        "<pre>PROGRESS: Recsys training: model = item_similarity</pre>"
       ],
       "metadata": {},
       "output_type": "display_data",
       "text": [
        "PROGRESS: Recsys training: model = item_similarity"
       ]
      },
      {
       "html": [
        "<pre>PROGRESS: Finished prediction in 0.133943s</pre>"
       ],
       "metadata": {},
       "output_type": "display_data",
       "text": [
        "PROGRESS: Finished prediction in 0.133943s"
       ]
      },
      {
       "html": [
        "<pre>PROGRESS: Recsys training: model = item_similarity</pre>"
       ],
       "metadata": {},
       "output_type": "display_data",
       "text": [
        "PROGRESS: Recsys training: model = item_similarity"
       ]
      },
      {
       "html": [
        "<pre>PROGRESS: Finished prediction in 0.104996s</pre>"
       ],
       "metadata": {},
       "output_type": "display_data",
       "text": [
        "PROGRESS: Finished prediction in 0.104996s"
       ]
      },
      {
       "html": [
        "<pre>PROGRESS: Recsys training: model = item_similarity</pre>"
       ],
       "metadata": {},
       "output_type": "display_data",
       "text": [
        "PROGRESS: Recsys training: model = item_similarity"
       ]
      },
      {
       "html": [
        "<pre>PROGRESS: Finished prediction in 0.097145s</pre>"
       ],
       "metadata": {},
       "output_type": "display_data",
       "text": [
        "PROGRESS: Finished prediction in 0.097145s"
       ]
      },
      {
       "html": [
        "<pre>PROGRESS: Recsys training: model = item_similarity</pre>"
       ],
       "metadata": {},
       "output_type": "display_data",
       "text": [
        "PROGRESS: Recsys training: model = item_similarity"
       ]
      },
      {
       "html": [
        "<pre>PROGRESS: Finished prediction in 0.176545s</pre>"
       ],
       "metadata": {},
       "output_type": "display_data",
       "text": [
        "PROGRESS: Finished prediction in 0.176545s"
       ]
      },
      {
       "html": [
        "<pre>PROGRESS: Recsys training: model = item_similarity</pre>"
       ],
       "metadata": {},
       "output_type": "display_data",
       "text": [
        "PROGRESS: Recsys training: model = item_similarity"
       ]
      },
      {
       "html": [
        "<pre>PROGRESS: Finished prediction in 0.177661s</pre>"
       ],
       "metadata": {},
       "output_type": "display_data",
       "text": [
        "PROGRESS: Finished prediction in 0.177661s"
       ]
      },
      {
       "html": [
        "<pre>PROGRESS: Recsys training: model = item_similarity</pre>"
       ],
       "metadata": {},
       "output_type": "display_data",
       "text": [
        "PROGRESS: Recsys training: model = item_similarity"
       ]
      },
      {
       "html": [
        "<pre>PROGRESS: Finished prediction in 0.151684s</pre>"
       ],
       "metadata": {},
       "output_type": "display_data",
       "text": [
        "PROGRESS: Finished prediction in 0.151684s"
       ]
      },
      {
       "html": [
        "<pre>PROGRESS: Recsys training: model = item_similarity</pre>"
       ],
       "metadata": {},
       "output_type": "display_data",
       "text": [
        "PROGRESS: Recsys training: model = item_similarity"
       ]
      },
      {
       "html": [
        "<pre>PROGRESS: Finished prediction in 0.102947s</pre>"
       ],
       "metadata": {},
       "output_type": "display_data",
       "text": [
        "PROGRESS: Finished prediction in 0.102947s"
       ]
      },
      {
       "html": [
        "<pre>PROGRESS: Recsys training: model = item_similarity</pre>"
       ],
       "metadata": {},
       "output_type": "display_data",
       "text": [
        "PROGRESS: Recsys training: model = item_similarity"
       ]
      },
      {
       "html": [
        "<pre>PROGRESS: Finished prediction in 0.118955s</pre>"
       ],
       "metadata": {},
       "output_type": "display_data",
       "text": [
        "PROGRESS: Finished prediction in 0.118955s"
       ]
      },
      {
       "html": [
        "<pre>PROGRESS: Recsys training: model = item_similarity</pre>"
       ],
       "metadata": {},
       "output_type": "display_data",
       "text": [
        "PROGRESS: Recsys training: model = item_similarity"
       ]
      },
      {
       "html": [
        "<pre>PROGRESS: Finished prediction in 0.109924s</pre>"
       ],
       "metadata": {},
       "output_type": "display_data",
       "text": [
        "PROGRESS: Finished prediction in 0.109924s"
       ]
      },
      {
       "html": [
        "<pre>PROGRESS: Recsys training: model = item_similarity</pre>"
       ],
       "metadata": {},
       "output_type": "display_data",
       "text": [
        "PROGRESS: Recsys training: model = item_similarity"
       ]
      },
      {
       "html": [
        "<pre>PROGRESS: Finished prediction in 0.123883s</pre>"
       ],
       "metadata": {},
       "output_type": "display_data",
       "text": [
        "PROGRESS: Finished prediction in 0.123883s"
       ]
      },
      {
       "html": [
        "<pre>PROGRESS: Recsys training: model = item_similarity</pre>"
       ],
       "metadata": {},
       "output_type": "display_data",
       "text": [
        "PROGRESS: Recsys training: model = item_similarity"
       ]
      },
      {
       "html": [
        "<pre>PROGRESS: Finished prediction in 0.120846s</pre>"
       ],
       "metadata": {},
       "output_type": "display_data",
       "text": [
        "PROGRESS: Finished prediction in 0.120846s"
       ]
      },
      {
       "html": [
        "<pre>PROGRESS: Recsys training: model = item_similarity</pre>"
       ],
       "metadata": {},
       "output_type": "display_data",
       "text": [
        "PROGRESS: Recsys training: model = item_similarity"
       ]
      },
      {
       "html": [
        "<pre>PROGRESS: Finished prediction in 0.127215s</pre>"
       ],
       "metadata": {},
       "output_type": "display_data",
       "text": [
        "PROGRESS: Finished prediction in 0.127215s"
       ]
      },
      {
       "html": [
        "<pre>PROGRESS: Recsys training: model = item_similarity</pre>"
       ],
       "metadata": {},
       "output_type": "display_data",
       "text": [
        "PROGRESS: Recsys training: model = item_similarity"
       ]
      },
      {
       "html": [
        "<pre>PROGRESS: Finished prediction in 0.103638s</pre>"
       ],
       "metadata": {},
       "output_type": "display_data",
       "text": [
        "PROGRESS: Finished prediction in 0.103638s"
       ]
      },
      {
       "html": [
        "<pre>PROGRESS: Recsys training: model = item_similarity</pre>"
       ],
       "metadata": {},
       "output_type": "display_data",
       "text": [
        "PROGRESS: Recsys training: model = item_similarity"
       ]
      },
      {
       "html": [
        "<pre>PROGRESS: Finished prediction in 0.212117s</pre>"
       ],
       "metadata": {},
       "output_type": "display_data",
       "text": [
        "PROGRESS: Finished prediction in 0.212117s"
       ]
      },
      {
       "html": [
        "<pre>PROGRESS: Recsys training: model = item_similarity</pre>"
       ],
       "metadata": {},
       "output_type": "display_data",
       "text": [
        "PROGRESS: Recsys training: model = item_similarity"
       ]
      },
      {
       "html": [
        "<pre>PROGRESS: Finished prediction in 0.047489s</pre>"
       ],
       "metadata": {},
       "output_type": "display_data",
       "text": [
        "PROGRESS: Finished prediction in 0.047489s"
       ]
      },
      {
       "html": [
        "<pre>PROGRESS: Recsys training: model = item_similarity</pre>"
       ],
       "metadata": {},
       "output_type": "display_data",
       "text": [
        "PROGRESS: Recsys training: model = item_similarity"
       ]
      },
      {
       "html": [
        "<pre>PROGRESS: Finished prediction in 0.067902s</pre>"
       ],
       "metadata": {},
       "output_type": "display_data",
       "text": [
        "PROGRESS: Finished prediction in 0.067902s"
       ]
      },
      {
       "html": [
        "<pre>PROGRESS: Recsys training: model = item_similarity</pre>"
       ],
       "metadata": {},
       "output_type": "display_data",
       "text": [
        "PROGRESS: Recsys training: model = item_similarity"
       ]
      },
      {
       "html": [
        "<pre>PROGRESS: Finished prediction in 0.041235s</pre>"
       ],
       "metadata": {},
       "output_type": "display_data",
       "text": [
        "PROGRESS: Finished prediction in 0.041235s"
       ]
      },
      {
       "html": [
        "<pre>PROGRESS: Recsys training: model = item_similarity</pre>"
       ],
       "metadata": {},
       "output_type": "display_data",
       "text": [
        "PROGRESS: Recsys training: model = item_similarity"
       ]
      },
      {
       "html": [
        "<pre>PROGRESS: Finished prediction in 0.055603s</pre>"
       ],
       "metadata": {},
       "output_type": "display_data",
       "text": [
        "PROGRESS: Finished prediction in 0.055603s"
       ]
      },
      {
       "html": [
        "<pre>PROGRESS: Recsys training: model = item_similarity</pre>"
       ],
       "metadata": {},
       "output_type": "display_data",
       "text": [
        "PROGRESS: Recsys training: model = item_similarity"
       ]
      },
      {
       "html": [
        "<pre>PROGRESS: Finished prediction in 0.032805s</pre>"
       ],
       "metadata": {},
       "output_type": "display_data",
       "text": [
        "PROGRESS: Finished prediction in 0.032805s"
       ]
      },
      {
       "html": [
        "<pre>PROGRESS: Recsys training: model = item_similarity</pre>"
       ],
       "metadata": {},
       "output_type": "display_data",
       "text": [
        "PROGRESS: Recsys training: model = item_similarity"
       ]
      },
      {
       "html": [
        "<pre>PROGRESS: Finished prediction in 0.039707s</pre>"
       ],
       "metadata": {},
       "output_type": "display_data",
       "text": [
        "PROGRESS: Finished prediction in 0.039707s"
       ]
      },
      {
       "html": [
        "<pre>PROGRESS: Recsys training: model = item_similarity</pre>"
       ],
       "metadata": {},
       "output_type": "display_data",
       "text": [
        "PROGRESS: Recsys training: model = item_similarity"
       ]
      },
      {
       "html": [
        "<pre>PROGRESS: Finished prediction in 0.042284s</pre>"
       ],
       "metadata": {},
       "output_type": "display_data",
       "text": [
        "PROGRESS: Finished prediction in 0.042284s"
       ]
      },
      {
       "html": [
        "<pre>PROGRESS: Recsys training: model = item_similarity</pre>"
       ],
       "metadata": {},
       "output_type": "display_data",
       "text": [
        "PROGRESS: Recsys training: model = item_similarity"
       ]
      },
      {
       "html": [
        "<pre>PROGRESS: Finished prediction in 0.037827s</pre>"
       ],
       "metadata": {},
       "output_type": "display_data",
       "text": [
        "PROGRESS: Finished prediction in 0.037827s"
       ]
      },
      {
       "html": [
        "<pre>PROGRESS: Recsys training: model = item_similarity</pre>"
       ],
       "metadata": {},
       "output_type": "display_data",
       "text": [
        "PROGRESS: Recsys training: model = item_similarity"
       ]
      },
      {
       "html": [
        "<pre>PROGRESS: Finished prediction in 0.040463s</pre>"
       ],
       "metadata": {},
       "output_type": "display_data",
       "text": [
        "PROGRESS: Finished prediction in 0.040463s"
       ]
      },
      {
       "html": [
        "<pre>PROGRESS: Recsys training: model = item_similarity</pre>"
       ],
       "metadata": {},
       "output_type": "display_data",
       "text": [
        "PROGRESS: Recsys training: model = item_similarity"
       ]
      },
      {
       "html": [
        "<pre>PROGRESS: Finished prediction in 0.06088s</pre>"
       ],
       "metadata": {},
       "output_type": "display_data",
       "text": [
        "PROGRESS: Finished prediction in 0.06088s"
       ]
      },
      {
       "html": [
        "<pre>PROGRESS: Recsys training: model = item_similarity</pre>"
       ],
       "metadata": {},
       "output_type": "display_data",
       "text": [
        "PROGRESS: Recsys training: model = item_similarity"
       ]
      },
      {
       "html": [
        "<pre>PROGRESS: Finished prediction in 0.046851s</pre>"
       ],
       "metadata": {},
       "output_type": "display_data",
       "text": [
        "PROGRESS: Finished prediction in 0.046851s"
       ]
      },
      {
       "html": [
        "<pre>PROGRESS: Recsys training: model = item_similarity</pre>"
       ],
       "metadata": {},
       "output_type": "display_data",
       "text": [
        "PROGRESS: Recsys training: model = item_similarity"
       ]
      },
      {
       "html": [
        "<pre>PROGRESS: Finished prediction in 0.044165s</pre>"
       ],
       "metadata": {},
       "output_type": "display_data",
       "text": [
        "PROGRESS: Finished prediction in 0.044165s"
       ]
      },
      {
       "html": [
        "<pre>PROGRESS: Recsys training: model = item_similarity</pre>"
       ],
       "metadata": {},
       "output_type": "display_data",
       "text": [
        "PROGRESS: Recsys training: model = item_similarity"
       ]
      },
      {
       "html": [
        "<pre>PROGRESS: Finished prediction in 0.047033s</pre>"
       ],
       "metadata": {},
       "output_type": "display_data",
       "text": [
        "PROGRESS: Finished prediction in 0.047033s"
       ]
      },
      {
       "html": [
        "<pre>PROGRESS: Recsys training: model = item_similarity</pre>"
       ],
       "metadata": {},
       "output_type": "display_data",
       "text": [
        "PROGRESS: Recsys training: model = item_similarity"
       ]
      },
      {
       "html": [
        "<pre>PROGRESS: Finished prediction in 0.046986s</pre>"
       ],
       "metadata": {},
       "output_type": "display_data",
       "text": [
        "PROGRESS: Finished prediction in 0.046986s"
       ]
      },
      {
       "html": [
        "<pre>PROGRESS: Recsys training: model = item_similarity</pre>"
       ],
       "metadata": {},
       "output_type": "display_data",
       "text": [
        "PROGRESS: Recsys training: model = item_similarity"
       ]
      },
      {
       "html": [
        "<pre>PROGRESS: Finished prediction in 0.047742s</pre>"
       ],
       "metadata": {},
       "output_type": "display_data",
       "text": [
        "PROGRESS: Finished prediction in 0.047742s"
       ]
      },
      {
       "html": [
        "<pre>PROGRESS: Recsys training: model = item_similarity</pre>"
       ],
       "metadata": {},
       "output_type": "display_data",
       "text": [
        "PROGRESS: Recsys training: model = item_similarity"
       ]
      },
      {
       "html": [
        "<pre>PROGRESS: Finished prediction in 0.078318s</pre>"
       ],
       "metadata": {},
       "output_type": "display_data",
       "text": [
        "PROGRESS: Finished prediction in 0.078318s"
       ]
      },
      {
       "html": [
        "<pre>PROGRESS: Recsys training: model = item_similarity</pre>"
       ],
       "metadata": {},
       "output_type": "display_data",
       "text": [
        "PROGRESS: Recsys training: model = item_similarity"
       ]
      },
      {
       "html": [
        "<pre>PROGRESS: Finished prediction in 0.052125s</pre>"
       ],
       "metadata": {},
       "output_type": "display_data",
       "text": [
        "PROGRESS: Finished prediction in 0.052125s"
       ]
      },
      {
       "html": [
        "<pre>PROGRESS: Recsys training: model = item_similarity</pre>"
       ],
       "metadata": {},
       "output_type": "display_data",
       "text": [
        "PROGRESS: Recsys training: model = item_similarity"
       ]
      },
      {
       "html": [
        "<pre>PROGRESS: Finished prediction in 0.070676s</pre>"
       ],
       "metadata": {},
       "output_type": "display_data",
       "text": [
        "PROGRESS: Finished prediction in 0.070676s"
       ]
      },
      {
       "html": [
        "<pre>PROGRESS: Recsys training: model = item_similarity</pre>"
       ],
       "metadata": {},
       "output_type": "display_data",
       "text": [
        "PROGRESS: Recsys training: model = item_similarity"
       ]
      },
      {
       "html": [
        "<pre>PROGRESS: Finished prediction in 0.102815s</pre>"
       ],
       "metadata": {},
       "output_type": "display_data",
       "text": [
        "PROGRESS: Finished prediction in 0.102815s"
       ]
      },
      {
       "html": [
        "<pre>PROGRESS: Recsys training: model = item_similarity</pre>"
       ],
       "metadata": {},
       "output_type": "display_data",
       "text": [
        "PROGRESS: Recsys training: model = item_similarity"
       ]
      },
      {
       "html": [
        "<pre>PROGRESS: Finished prediction in 0.058403s</pre>"
       ],
       "metadata": {},
       "output_type": "display_data",
       "text": [
        "PROGRESS: Finished prediction in 0.058403s"
       ]
      },
      {
       "html": [
        "<pre>PROGRESS: Recsys training: model = item_similarity</pre>"
       ],
       "metadata": {},
       "output_type": "display_data",
       "text": [
        "PROGRESS: Recsys training: model = item_similarity"
       ]
      },
      {
       "html": [
        "<pre>PROGRESS: Finished prediction in 0.066671s</pre>"
       ],
       "metadata": {},
       "output_type": "display_data",
       "text": [
        "PROGRESS: Finished prediction in 0.066671s"
       ]
      },
      {
       "html": [
        "<pre>PROGRESS: Recsys training: model = item_similarity</pre>"
       ],
       "metadata": {},
       "output_type": "display_data",
       "text": [
        "PROGRESS: Recsys training: model = item_similarity"
       ]
      },
      {
       "html": [
        "<pre>PROGRESS: Finished prediction in 0.058156s</pre>"
       ],
       "metadata": {},
       "output_type": "display_data",
       "text": [
        "PROGRESS: Finished prediction in 0.058156s"
       ]
      },
      {
       "html": [
        "<pre>PROGRESS: Recsys training: model = item_similarity</pre>"
       ],
       "metadata": {},
       "output_type": "display_data",
       "text": [
        "PROGRESS: Recsys training: model = item_similarity"
       ]
      },
      {
       "html": [
        "<pre>PROGRESS: Finished prediction in 0.059108s</pre>"
       ],
       "metadata": {},
       "output_type": "display_data",
       "text": [
        "PROGRESS: Finished prediction in 0.059108s"
       ]
      },
      {
       "html": [
        "<pre>PROGRESS: Recsys training: model = item_similarity</pre>"
       ],
       "metadata": {},
       "output_type": "display_data",
       "text": [
        "PROGRESS: Recsys training: model = item_similarity"
       ]
      },
      {
       "html": [
        "<pre>PROGRESS: Finished prediction in 0.062552s</pre>"
       ],
       "metadata": {},
       "output_type": "display_data",
       "text": [
        "PROGRESS: Finished prediction in 0.062552s"
       ]
      },
      {
       "html": [
        "<pre>PROGRESS: Recsys training: model = item_similarity</pre>"
       ],
       "metadata": {},
       "output_type": "display_data",
       "text": [
        "PROGRESS: Recsys training: model = item_similarity"
       ]
      },
      {
       "html": [
        "<pre>PROGRESS: Finished prediction in 0.077255s</pre>"
       ],
       "metadata": {},
       "output_type": "display_data",
       "text": [
        "PROGRESS: Finished prediction in 0.077255s"
       ]
      },
      {
       "html": [
        "<pre>PROGRESS: Recsys training: model = item_similarity</pre>"
       ],
       "metadata": {},
       "output_type": "display_data",
       "text": [
        "PROGRESS: Recsys training: model = item_similarity"
       ]
      },
      {
       "html": [
        "<pre>PROGRESS: Finished prediction in 0.058787s</pre>"
       ],
       "metadata": {},
       "output_type": "display_data",
       "text": [
        "PROGRESS: Finished prediction in 0.058787s"
       ]
      },
      {
       "html": [
        "<pre>PROGRESS: Recsys training: model = item_similarity</pre>"
       ],
       "metadata": {},
       "output_type": "display_data",
       "text": [
        "PROGRESS: Recsys training: model = item_similarity"
       ]
      },
      {
       "html": [
        "<pre>PROGRESS: Finished prediction in 0.059044s</pre>"
       ],
       "metadata": {},
       "output_type": "display_data",
       "text": [
        "PROGRESS: Finished prediction in 0.059044s"
       ]
      },
      {
       "html": [
        "<pre>PROGRESS: Recsys training: model = item_similarity</pre>"
       ],
       "metadata": {},
       "output_type": "display_data",
       "text": [
        "PROGRESS: Recsys training: model = item_similarity"
       ]
      },
      {
       "html": [
        "<pre>PROGRESS: Finished prediction in 0.060665s</pre>"
       ],
       "metadata": {},
       "output_type": "display_data",
       "text": [
        "PROGRESS: Finished prediction in 0.060665s"
       ]
      },
      {
       "html": [
        "<pre>PROGRESS: Recsys training: model = item_similarity</pre>"
       ],
       "metadata": {},
       "output_type": "display_data",
       "text": [
        "PROGRESS: Recsys training: model = item_similarity"
       ]
      },
      {
       "html": [
        "<pre>PROGRESS: Finished prediction in 0.063166s</pre>"
       ],
       "metadata": {},
       "output_type": "display_data",
       "text": [
        "PROGRESS: Finished prediction in 0.063166s"
       ]
      },
      {
       "html": [
        "<pre>PROGRESS: Recsys training: model = item_similarity</pre>"
       ],
       "metadata": {},
       "output_type": "display_data",
       "text": [
        "PROGRESS: Recsys training: model = item_similarity"
       ]
      },
      {
       "html": [
        "<pre>PROGRESS: Finished prediction in 0.06389s</pre>"
       ],
       "metadata": {},
       "output_type": "display_data",
       "text": [
        "PROGRESS: Finished prediction in 0.06389s"
       ]
      },
      {
       "html": [
        "<pre>PROGRESS: Recsys training: model = item_similarity</pre>"
       ],
       "metadata": {},
       "output_type": "display_data",
       "text": [
        "PROGRESS: Recsys training: model = item_similarity"
       ]
      },
      {
       "html": [
        "<pre>PROGRESS: Finished prediction in 0.080066s</pre>"
       ],
       "metadata": {},
       "output_type": "display_data",
       "text": [
        "PROGRESS: Finished prediction in 0.080066s"
       ]
      },
      {
       "html": [
        "<pre>PROGRESS: Recsys training: model = item_similarity</pre>"
       ],
       "metadata": {},
       "output_type": "display_data",
       "text": [
        "PROGRESS: Recsys training: model = item_similarity"
       ]
      },
      {
       "html": [
        "<pre>PROGRESS: Finished prediction in 0.069407s</pre>"
       ],
       "metadata": {},
       "output_type": "display_data",
       "text": [
        "PROGRESS: Finished prediction in 0.069407s"
       ]
      },
      {
       "html": [
        "<pre>PROGRESS: Recsys training: model = item_similarity</pre>"
       ],
       "metadata": {},
       "output_type": "display_data",
       "text": [
        "PROGRESS: Recsys training: model = item_similarity"
       ]
      },
      {
       "html": [
        "<pre>PROGRESS: Finished prediction in 0.067998s</pre>"
       ],
       "metadata": {},
       "output_type": "display_data",
       "text": [
        "PROGRESS: Finished prediction in 0.067998s"
       ]
      },
      {
       "html": [
        "<pre>PROGRESS: Recsys training: model = item_similarity</pre>"
       ],
       "metadata": {},
       "output_type": "display_data",
       "text": [
        "PROGRESS: Recsys training: model = item_similarity"
       ]
      },
      {
       "html": [
        "<pre>PROGRESS: Finished prediction in 0.069151s</pre>"
       ],
       "metadata": {},
       "output_type": "display_data",
       "text": [
        "PROGRESS: Finished prediction in 0.069151s"
       ]
      },
      {
       "html": [
        "<pre>PROGRESS: Recsys training: model = item_similarity</pre>"
       ],
       "metadata": {},
       "output_type": "display_data",
       "text": [
        "PROGRESS: Recsys training: model = item_similarity"
       ]
      },
      {
       "html": [
        "<pre>PROGRESS: Finished prediction in 0.071284s</pre>"
       ],
       "metadata": {},
       "output_type": "display_data",
       "text": [
        "PROGRESS: Finished prediction in 0.071284s"
       ]
      },
      {
       "html": [
        "<pre>PROGRESS: Recsys training: model = item_similarity</pre>"
       ],
       "metadata": {},
       "output_type": "display_data",
       "text": [
        "PROGRESS: Recsys training: model = item_similarity"
       ]
      },
      {
       "html": [
        "<pre>PROGRESS: Finished prediction in 0.074725s</pre>"
       ],
       "metadata": {},
       "output_type": "display_data",
       "text": [
        "PROGRESS: Finished prediction in 0.074725s"
       ]
      },
      {
       "html": [
        "<pre>PROGRESS: Recsys training: model = item_similarity</pre>"
       ],
       "metadata": {},
       "output_type": "display_data",
       "text": [
        "PROGRESS: Recsys training: model = item_similarity"
       ]
      },
      {
       "html": [
        "<pre>PROGRESS: Finished prediction in 0.075739s</pre>"
       ],
       "metadata": {},
       "output_type": "display_data",
       "text": [
        "PROGRESS: Finished prediction in 0.075739s"
       ]
      },
      {
       "html": [
        "<pre>PROGRESS: Recsys training: model = item_similarity</pre>"
       ],
       "metadata": {},
       "output_type": "display_data",
       "text": [
        "PROGRESS: Recsys training: model = item_similarity"
       ]
      },
      {
       "html": [
        "<pre>PROGRESS: Finished prediction in 0.071456s</pre>"
       ],
       "metadata": {},
       "output_type": "display_data",
       "text": [
        "PROGRESS: Finished prediction in 0.071456s"
       ]
      },
      {
       "html": [
        "<pre>PROGRESS: Recsys training: model = item_similarity</pre>"
       ],
       "metadata": {},
       "output_type": "display_data",
       "text": [
        "PROGRESS: Recsys training: model = item_similarity"
       ]
      },
      {
       "html": [
        "<pre>PROGRESS: Finished prediction in 0.125756s</pre>"
       ],
       "metadata": {},
       "output_type": "display_data",
       "text": [
        "PROGRESS: Finished prediction in 0.125756s"
       ]
      },
      {
       "metadata": {},
       "output_type": "display_data",
       "png": "[encoded data removed]",
       "text": [
        "<matplotlib.figure.Figure at 0x7f5e24256ed0>"
       ]
      }
     ],
     "prompt_number": 4
    },
    {
     "cell_type": "heading",
     "level": 3,
     "metadata": {},
     "source": [
      "Testing Threshold parameter"
     ]
    },
    {
     "cell_type": "code",
     "collapsed": false,
     "input": [
      "data = loadFileML100(\"ml-100k/u.data\")\n",
      "RSE = []\n",
      "for th in np.arange(0.01,0.15,0.01):\n",
      "    sim = graphlab.recommender.item_similarity_recommender.create(data,user_id=\"user_id\",item_id=\"item_id\",similarity_type=\"pearson\",only_top_k=150,target=\"rating\",threshold=th,verbose=False)\n",
      "    RSE.append(sim.evaluate_rmse(data,target=\"rating\")[\"rmse_overall\"])\n",
      "\n",
      "plt.plot(np.arange(0.01,0.15,0.01),RSE)\n"
     ],
     "language": "python",
     "metadata": {},
     "outputs": [
      {
       "html": [
        "<pre>PROGRESS: Recsys training: model = item_similarity</pre>"
       ],
       "metadata": {},
       "output_type": "display_data",
       "text": [
        "PROGRESS: Recsys training: model = item_similarity"
       ]
      },
      {
       "html": [
        "<pre>PROGRESS: Finished prediction in 0.082667s</pre>"
       ],
       "metadata": {},
       "output_type": "display_data",
       "text": [
        "PROGRESS: Finished prediction in 0.082667s"
       ]
      },
      {
       "html": [
        "<pre>PROGRESS: Recsys training: model = item_similarity</pre>"
       ],
       "metadata": {},
       "output_type": "display_data",
       "text": [
        "PROGRESS: Recsys training: model = item_similarity"
       ]
      },
      {
       "html": [
        "<pre>PROGRESS: Finished prediction in 0.091805s</pre>"
       ],
       "metadata": {},
       "output_type": "display_data",
       "text": [
        "PROGRESS: Finished prediction in 0.091805s"
       ]
      },
      {
       "html": [
        "<pre>PROGRESS: Recsys training: model = item_similarity</pre>"
       ],
       "metadata": {},
       "output_type": "display_data",
       "text": [
        "PROGRESS: Recsys training: model = item_similarity"
       ]
      },
      {
       "html": [
        "<pre>PROGRESS: Finished prediction in 0.083327s</pre>"
       ],
       "metadata": {},
       "output_type": "display_data",
       "text": [
        "PROGRESS: Finished prediction in 0.083327s"
       ]
      },
      {
       "html": [
        "<pre>PROGRESS: Recsys training: model = item_similarity</pre>"
       ],
       "metadata": {},
       "output_type": "display_data",
       "text": [
        "PROGRESS: Recsys training: model = item_similarity"
       ]
      },
      {
       "html": [
        "<pre>PROGRESS: Finished prediction in 0.081586s</pre>"
       ],
       "metadata": {},
       "output_type": "display_data",
       "text": [
        "PROGRESS: Finished prediction in 0.081586s"
       ]
      },
      {
       "html": [
        "<pre>PROGRESS: Recsys training: model = item_similarity</pre>"
       ],
       "metadata": {},
       "output_type": "display_data",
       "text": [
        "PROGRESS: Recsys training: model = item_similarity"
       ]
      },
      {
       "html": [
        "<pre>PROGRESS: Finished prediction in 0.09503s</pre>"
       ],
       "metadata": {},
       "output_type": "display_data",
       "text": [
        "PROGRESS: Finished prediction in 0.09503s"
       ]
      },
      {
       "html": [
        "<pre>PROGRESS: Recsys training: model = item_similarity</pre>"
       ],
       "metadata": {},
       "output_type": "display_data",
       "text": [
        "PROGRESS: Recsys training: model = item_similarity"
       ]
      },
      {
       "html": [
        "<pre>PROGRESS: Finished prediction in 0.081122s</pre>"
       ],
       "metadata": {},
       "output_type": "display_data",
       "text": [
        "PROGRESS: Finished prediction in 0.081122s"
       ]
      },
      {
       "html": [
        "<pre>PROGRESS: Recsys training: model = item_similarity</pre>"
       ],
       "metadata": {},
       "output_type": "display_data",
       "text": [
        "PROGRESS: Recsys training: model = item_similarity"
       ]
      },
      {
       "html": [
        "<pre>PROGRESS: Finished prediction in 0.080826s</pre>"
       ],
       "metadata": {},
       "output_type": "display_data",
       "text": [
        "PROGRESS: Finished prediction in 0.080826s"
       ]
      },
      {
       "html": [
        "<pre>PROGRESS: Recsys training: model = item_similarity</pre>"
       ],
       "metadata": {},
       "output_type": "display_data",
       "text": [
        "PROGRESS: Recsys training: model = item_similarity"
       ]
      },
      {
       "html": [
        "<pre>PROGRESS: Finished prediction in 0.098806s</pre>"
       ],
       "metadata": {},
       "output_type": "display_data",
       "text": [
        "PROGRESS: Finished prediction in 0.098806s"
       ]
      },
      {
       "html": [
        "<pre>PROGRESS: Recsys training: model = item_similarity</pre>"
       ],
       "metadata": {},
       "output_type": "display_data",
       "text": [
        "PROGRESS: Recsys training: model = item_similarity"
       ]
      },
      {
       "html": [
        "<pre>PROGRESS: Finished prediction in 0.082631s</pre>"
       ],
       "metadata": {},
       "output_type": "display_data",
       "text": [
        "PROGRESS: Finished prediction in 0.082631s"
       ]
      },
      {
       "html": [
        "<pre>PROGRESS: Recsys training: model = item_similarity</pre>"
       ],
       "metadata": {},
       "output_type": "display_data",
       "text": [
        "PROGRESS: Recsys training: model = item_similarity"
       ]
      },
      {
       "html": [
        "<pre>PROGRESS: Finished prediction in 0.074872s</pre>"
       ],
       "metadata": {},
       "output_type": "display_data",
       "text": [
        "PROGRESS: Finished prediction in 0.074872s"
       ]
      },
      {
       "html": [
        "<pre>PROGRESS: Recsys training: model = item_similarity</pre>"
       ],
       "metadata": {},
       "output_type": "display_data",
       "text": [
        "PROGRESS: Recsys training: model = item_similarity"
       ]
      },
      {
       "html": [
        "<pre>PROGRESS: Finished prediction in 0.073375s</pre>"
       ],
       "metadata": {},
       "output_type": "display_data",
       "text": [
        "PROGRESS: Finished prediction in 0.073375s"
       ]
      },
      {
       "html": [
        "<pre>PROGRESS: Recsys training: model = item_similarity</pre>"
       ],
       "metadata": {},
       "output_type": "display_data",
       "text": [
        "PROGRESS: Recsys training: model = item_similarity"
       ]
      },
      {
       "html": [
        "<pre>PROGRESS: Finished prediction in 0.071039s</pre>"
       ],
       "metadata": {},
       "output_type": "display_data",
       "text": [
        "PROGRESS: Finished prediction in 0.071039s"
       ]
      },
      {
       "html": [
        "<pre>PROGRESS: Recsys training: model = item_similarity</pre>"
       ],
       "metadata": {},
       "output_type": "display_data",
       "text": [
        "PROGRESS: Recsys training: model = item_similarity"
       ]
      },
      {
       "html": [
        "<pre>PROGRESS: Finished prediction in 0.086001s</pre>"
       ],
       "metadata": {},
       "output_type": "display_data",
       "text": [
        "PROGRESS: Finished prediction in 0.086001s"
       ]
      },
      {
       "html": [
        "<pre>PROGRESS: Recsys training: model = item_similarity</pre>"
       ],
       "metadata": {},
       "output_type": "display_data",
       "text": [
        "PROGRESS: Recsys training: model = item_similarity"
       ]
      },
      {
       "html": [
        "<pre>PROGRESS: Finished prediction in 0.058591s</pre>"
       ],
       "metadata": {},
       "output_type": "display_data",
       "text": [
        "PROGRESS: Finished prediction in 0.058591s"
       ]
      },
      {
       "metadata": {},
       "output_type": "pyout",
       "prompt_number": 25,
       "text": [
        "[<matplotlib.lines.Line2D at 0x7f3b4594f410>]"
       ]
      },
      {
       "metadata": {},
       "output_type": "display_data",
       "png": "[encoded data removed]",
       "text": [
        "<matplotlib.figure.Figure at 0x7f3b4644b8d0>"
       ]
      }
     ],
     "prompt_number": 25
    },
    {
     "cell_type": "code",
     "collapsed": false,
     "input": [
      "#Parameters to test:\n",
      "#similarity_type : {\u2018jaccard\u2019, \u2018cosine\u2019, \u2018pearson\u2019}\n",
      "#threshold : float, optional\n",
      "#only_top_k : int, optional\n",
      "RSE = {\"jaccard\":[],\"cosine\":[],\"pearson\":[]}\n",
      "data = loadFileML100(\"ml-100k/u.data\")\n",
      "for method in [\"jaccard\",\"cosine\",\"pearson\"]:\n",
      "    for k in xrange(10,210,10):\n",
      "        sim = graphlab.recommender.item_similarity_recommender.create(data,user_id=\"user_id\",item_id=\"item_id\",similarity_type=method,only_top_k=k,threshold=0.09,target=\"rating\",verbose=False)\n",
      "        RSE[method].append(sim.evaluate_rmse(data,target=\"rating\")[\"rmse_overall\"])\n",
      "    \n",
      "for method in [\"jaccard\",\"cosine\",\"pearson\"]:\n",
      "    plt.plot(range(10,210,10),RSE[method],label=method)\n"
     ],
     "language": "python",
     "metadata": {},
     "outputs": [
      {
       "html": [
        "<pre>PROGRESS: Recsys training: model = item_similarity</pre>"
       ],
       "metadata": {},
       "output_type": "display_data",
       "text": [
        "PROGRESS: Recsys training: model = item_similarity"
       ]
      },
      {
       "html": [
        "<pre>PROGRESS: Finished prediction in 0.026665s</pre>"
       ],
       "metadata": {},
       "output_type": "display_data",
       "text": [
        "PROGRESS: Finished prediction in 0.026665s"
       ]
      },
      {
       "html": [
        "<pre>PROGRESS: Recsys training: model = item_similarity</pre>"
       ],
       "metadata": {},
       "output_type": "display_data",
       "text": [
        "PROGRESS: Recsys training: model = item_similarity"
       ]
      },
      {
       "html": [
        "<pre>PROGRESS: Finished prediction in 0.034728s</pre>"
       ],
       "metadata": {},
       "output_type": "display_data",
       "text": [
        "PROGRESS: Finished prediction in 0.034728s"
       ]
      },
      {
       "html": [
        "<pre>PROGRESS: Recsys training: model = item_similarity</pre>"
       ],
       "metadata": {},
       "output_type": "display_data",
       "text": [
        "PROGRESS: Recsys training: model = item_similarity"
       ]
      },
      {
       "html": [
        "<pre>PROGRESS: Finished prediction in 0.036305s</pre>"
       ],
       "metadata": {},
       "output_type": "display_data",
       "text": [
        "PROGRESS: Finished prediction in 0.036305s"
       ]
      },
      {
       "html": [
        "<pre>PROGRESS: Recsys training: model = item_similarity</pre>"
       ],
       "metadata": {},
       "output_type": "display_data",
       "text": [
        "PROGRESS: Recsys training: model = item_similarity"
       ]
      },
      {
       "html": [
        "<pre>PROGRESS: Finished prediction in 0.038736s</pre>"
       ],
       "metadata": {},
       "output_type": "display_data",
       "text": [
        "PROGRESS: Finished prediction in 0.038736s"
       ]
      },
      {
       "html": [
        "<pre>PROGRESS: Recsys training: model = item_similarity</pre>"
       ],
       "metadata": {},
       "output_type": "display_data",
       "text": [
        "PROGRESS: Recsys training: model = item_similarity"
       ]
      },
      {
       "html": [
        "<pre>PROGRESS: Finished prediction in 0.04012s</pre>"
       ],
       "metadata": {},
       "output_type": "display_data",
       "text": [
        "PROGRESS: Finished prediction in 0.04012s"
       ]
      },
      {
       "html": [
        "<pre>PROGRESS: Recsys training: model = item_similarity</pre>"
       ],
       "metadata": {},
       "output_type": "display_data",
       "text": [
        "PROGRESS: Recsys training: model = item_similarity"
       ]
      },
      {
       "html": [
        "<pre>PROGRESS: Finished prediction in 0.045486s</pre>"
       ],
       "metadata": {},
       "output_type": "display_data",
       "text": [
        "PROGRESS: Finished prediction in 0.045486s"
       ]
      },
      {
       "html": [
        "<pre>PROGRESS: Recsys training: model = item_similarity</pre>"
       ],
       "metadata": {},
       "output_type": "display_data",
       "text": [
        "PROGRESS: Recsys training: model = item_similarity"
       ]
      },
      {
       "html": [
        "<pre>PROGRESS: Finished prediction in 0.049891s</pre>"
       ],
       "metadata": {},
       "output_type": "display_data",
       "text": [
        "PROGRESS: Finished prediction in 0.049891s"
       ]
      },
      {
       "html": [
        "<pre>PROGRESS: Recsys training: model = item_similarity</pre>"
       ],
       "metadata": {},
       "output_type": "display_data",
       "text": [
        "PROGRESS: Recsys training: model = item_similarity"
       ]
      },
      {
       "html": [
        "<pre>PROGRESS: Finished prediction in 0.048207s</pre>"
       ],
       "metadata": {},
       "output_type": "display_data",
       "text": [
        "PROGRESS: Finished prediction in 0.048207s"
       ]
      },
      {
       "html": [
        "<pre>PROGRESS: Recsys training: model = item_similarity</pre>"
       ],
       "metadata": {},
       "output_type": "display_data",
       "text": [
        "PROGRESS: Recsys training: model = item_similarity"
       ]
      },
      {
       "html": [
        "<pre>PROGRESS: Finished prediction in 0.051675s</pre>"
       ],
       "metadata": {},
       "output_type": "display_data",
       "text": [
        "PROGRESS: Finished prediction in 0.051675s"
       ]
      },
      {
       "html": [
        "<pre>PROGRESS: Recsys training: model = item_similarity</pre>"
       ],
       "metadata": {},
       "output_type": "display_data",
       "text": [
        "PROGRESS: Recsys training: model = item_similarity"
       ]
      },
      {
       "html": [
        "<pre>PROGRESS: Finished prediction in 0.053281s</pre>"
       ],
       "metadata": {},
       "output_type": "display_data",
       "text": [
        "PROGRESS: Finished prediction in 0.053281s"
       ]
      },
      {
       "html": [
        "<pre>PROGRESS: Recsys training: model = item_similarity</pre>"
       ],
       "metadata": {},
       "output_type": "display_data",
       "text": [
        "PROGRESS: Recsys training: model = item_similarity"
       ]
      },
      {
       "html": [
        "<pre>PROGRESS: Finished prediction in 0.055517s</pre>"
       ],
       "metadata": {},
       "output_type": "display_data",
       "text": [
        "PROGRESS: Finished prediction in 0.055517s"
       ]
      },
      {
       "html": [
        "<pre>PROGRESS: Recsys training: model = item_similarity</pre>"
       ],
       "metadata": {},
       "output_type": "display_data",
       "text": [
        "PROGRESS: Recsys training: model = item_similarity"
       ]
      },
      {
       "html": [
        "<pre>PROGRESS: Finished prediction in 0.114878s</pre>"
       ],
       "metadata": {},
       "output_type": "display_data",
       "text": [
        "PROGRESS: Finished prediction in 0.114878s"
       ]
      },
      {
       "html": [
        "<pre>PROGRESS: Recsys training: model = item_similarity</pre>"
       ],
       "metadata": {},
       "output_type": "display_data",
       "text": [
        "PROGRESS: Recsys training: model = item_similarity"
       ]
      },
      {
       "html": [
        "<pre>PROGRESS: Finished prediction in 0.113354s</pre>"
       ],
       "metadata": {},
       "output_type": "display_data",
       "text": [
        "PROGRESS: Finished prediction in 0.113354s"
       ]
      },
      {
       "html": [
        "<pre>PROGRESS: Recsys training: model = item_similarity</pre>"
       ],
       "metadata": {},
       "output_type": "display_data",
       "text": [
        "PROGRESS: Recsys training: model = item_similarity"
       ]
      },
      {
       "html": [
        "<pre>PROGRESS: Finished prediction in 0.068985s</pre>"
       ],
       "metadata": {},
       "output_type": "display_data",
       "text": [
        "PROGRESS: Finished prediction in 0.068985s"
       ]
      },
      {
       "html": [
        "<pre>PROGRESS: Recsys training: model = item_similarity</pre>"
       ],
       "metadata": {},
       "output_type": "display_data",
       "text": [
        "PROGRESS: Recsys training: model = item_similarity"
       ]
      },
      {
       "html": [
        "<pre>PROGRESS: Finished prediction in 0.137342s</pre>"
       ],
       "metadata": {},
       "output_type": "display_data",
       "text": [
        "PROGRESS: Finished prediction in 0.137342s"
       ]
      },
      {
       "html": [
        "<pre>PROGRESS: Recsys training: model = item_similarity</pre>"
       ],
       "metadata": {},
       "output_type": "display_data",
       "text": [
        "PROGRESS: Recsys training: model = item_similarity"
       ]
      },
      {
       "html": [
        "<pre>PROGRESS: Finished prediction in 0.098972s</pre>"
       ],
       "metadata": {},
       "output_type": "display_data",
       "text": [
        "PROGRESS: Finished prediction in 0.098972s"
       ]
      },
      {
       "html": [
        "<pre>PROGRESS: Recsys training: model = item_similarity</pre>"
       ],
       "metadata": {},
       "output_type": "display_data",
       "text": [
        "PROGRESS: Recsys training: model = item_similarity"
       ]
      },
      {
       "html": [
        "<pre>PROGRESS: Finished prediction in 0.10864s</pre>"
       ],
       "metadata": {},
       "output_type": "display_data",
       "text": [
        "PROGRESS: Finished prediction in 0.10864s"
       ]
      },
      {
       "html": [
        "<pre>PROGRESS: Recsys training: model = item_similarity</pre>"
       ],
       "metadata": {},
       "output_type": "display_data",
       "text": [
        "PROGRESS: Recsys training: model = item_similarity"
       ]
      },
      {
       "html": [
        "<pre>PROGRESS: Finished prediction in 0.151513s</pre>"
       ],
       "metadata": {},
       "output_type": "display_data",
       "text": [
        "PROGRESS: Finished prediction in 0.151513s"
       ]
      },
      {
       "html": [
        "<pre>PROGRESS: Recsys training: model = item_similarity</pre>"
       ],
       "metadata": {},
       "output_type": "display_data",
       "text": [
        "PROGRESS: Recsys training: model = item_similarity"
       ]
      },
      {
       "html": [
        "<pre>PROGRESS: Finished prediction in 0.114222s</pre>"
       ],
       "metadata": {},
       "output_type": "display_data",
       "text": [
        "PROGRESS: Finished prediction in 0.114222s"
       ]
      },
      {
       "html": [
        "<pre>PROGRESS: Recsys training: model = item_similarity</pre>"
       ],
       "metadata": {},
       "output_type": "display_data",
       "text": [
        "PROGRESS: Recsys training: model = item_similarity"
       ]
      },
      {
       "html": [
        "<pre>PROGRESS: Finished prediction in 0.140676s</pre>"
       ],
       "metadata": {},
       "output_type": "display_data",
       "text": [
        "PROGRESS: Finished prediction in 0.140676s"
       ]
      },
      {
       "html": [
        "<pre>PROGRESS: Recsys training: model = item_similarity</pre>"
       ],
       "metadata": {},
       "output_type": "display_data",
       "text": [
        "PROGRESS: Recsys training: model = item_similarity"
       ]
      },
      {
       "html": [
        "<pre>PROGRESS: Finished prediction in 0.04901s</pre>"
       ],
       "metadata": {},
       "output_type": "display_data",
       "text": [
        "PROGRESS: Finished prediction in 0.04901s"
       ]
      },
      {
       "html": [
        "<pre>PROGRESS: Recsys training: model = item_similarity</pre>"
       ],
       "metadata": {},
       "output_type": "display_data",
       "text": [
        "PROGRESS: Recsys training: model = item_similarity"
       ]
      },
      {
       "html": [
        "<pre>PROGRESS: Finished prediction in 0.041835s</pre>"
       ],
       "metadata": {},
       "output_type": "display_data",
       "text": [
        "PROGRESS: Finished prediction in 0.041835s"
       ]
      },
      {
       "html": [
        "<pre>PROGRESS: Recsys training: model = item_similarity</pre>"
       ],
       "metadata": {},
       "output_type": "display_data",
       "text": [
        "PROGRESS: Recsys training: model = item_similarity"
       ]
      },
      {
       "html": [
        "<pre>PROGRESS: Finished prediction in 0.053613s</pre>"
       ],
       "metadata": {},
       "output_type": "display_data",
       "text": [
        "PROGRESS: Finished prediction in 0.053613s"
       ]
      },
      {
       "html": [
        "<pre>PROGRESS: Recsys training: model = item_similarity</pre>"
       ],
       "metadata": {},
       "output_type": "display_data",
       "text": [
        "PROGRESS: Recsys training: model = item_similarity"
       ]
      },
      {
       "html": [
        "<pre>PROGRESS: Finished prediction in 0.045033s</pre>"
       ],
       "metadata": {},
       "output_type": "display_data",
       "text": [
        "PROGRESS: Finished prediction in 0.045033s"
       ]
      },
      {
       "html": [
        "<pre>PROGRESS: Recsys training: model = item_similarity</pre>"
       ],
       "metadata": {},
       "output_type": "display_data",
       "text": [
        "PROGRESS: Recsys training: model = item_similarity"
       ]
      },
      {
       "html": [
        "<pre>PROGRESS: Finished prediction in 0.058014s</pre>"
       ],
       "metadata": {},
       "output_type": "display_data",
       "text": [
        "PROGRESS: Finished prediction in 0.058014s"
       ]
      },
      {
       "html": [
        "<pre>PROGRESS: Recsys training: model = item_similarity</pre>"
       ],
       "metadata": {},
       "output_type": "display_data",
       "text": [
        "PROGRESS: Recsys training: model = item_similarity"
       ]
      },
      {
       "html": [
        "<pre>PROGRESS: Finished prediction in 0.067934s</pre>"
       ],
       "metadata": {},
       "output_type": "display_data",
       "text": [
        "PROGRESS: Finished prediction in 0.067934s"
       ]
      },
      {
       "html": [
        "<pre>PROGRESS: Recsys training: model = item_similarity</pre>"
       ],
       "metadata": {},
       "output_type": "display_data",
       "text": [
        "PROGRESS: Recsys training: model = item_similarity"
       ]
      },
      {
       "html": [
        "<pre>PROGRESS: Finished prediction in 0.089967s</pre>"
       ],
       "metadata": {},
       "output_type": "display_data",
       "text": [
        "PROGRESS: Finished prediction in 0.089967s"
       ]
      },
      {
       "html": [
        "<pre>PROGRESS: Recsys training: model = item_similarity</pre>"
       ],
       "metadata": {},
       "output_type": "display_data",
       "text": [
        "PROGRESS: Recsys training: model = item_similarity"
       ]
      },
      {
       "html": [
        "<pre>PROGRESS: Finished prediction in 0.085855s</pre>"
       ],
       "metadata": {},
       "output_type": "display_data",
       "text": [
        "PROGRESS: Finished prediction in 0.085855s"
       ]
      },
      {
       "html": [
        "<pre>PROGRESS: Recsys training: model = item_similarity</pre>"
       ],
       "metadata": {},
       "output_type": "display_data",
       "text": [
        "PROGRESS: Recsys training: model = item_similarity"
       ]
      },
      {
       "html": [
        "<pre>PROGRESS: Finished prediction in 0.09167s</pre>"
       ],
       "metadata": {},
       "output_type": "display_data",
       "text": [
        "PROGRESS: Finished prediction in 0.09167s"
       ]
      },
      {
       "html": [
        "<pre>PROGRESS: Recsys training: model = item_similarity</pre>"
       ],
       "metadata": {},
       "output_type": "display_data",
       "text": [
        "PROGRESS: Recsys training: model = item_similarity"
       ]
      },
      {
       "html": [
        "<pre>PROGRESS: Finished prediction in 0.080861s</pre>"
       ],
       "metadata": {},
       "output_type": "display_data",
       "text": [
        "PROGRESS: Finished prediction in 0.080861s"
       ]
      },
      {
       "html": [
        "<pre>PROGRESS: Recsys training: model = item_similarity</pre>"
       ],
       "metadata": {},
       "output_type": "display_data",
       "text": [
        "PROGRESS: Recsys training: model = item_similarity"
       ]
      },
      {
       "html": [
        "<pre>PROGRESS: Finished prediction in 0.086322s</pre>"
       ],
       "metadata": {},
       "output_type": "display_data",
       "text": [
        "PROGRESS: Finished prediction in 0.086322s"
       ]
      },
      {
       "html": [
        "<pre>PROGRESS: Recsys training: model = item_similarity</pre>"
       ],
       "metadata": {},
       "output_type": "display_data",
       "text": [
        "PROGRESS: Recsys training: model = item_similarity"
       ]
      },
      {
       "html": [
        "<pre>PROGRESS: Finished prediction in 0.087715s</pre>"
       ],
       "metadata": {},
       "output_type": "display_data",
       "text": [
        "PROGRESS: Finished prediction in 0.087715s"
       ]
      },
      {
       "html": [
        "<pre>PROGRESS: Recsys training: model = item_similarity</pre>"
       ],
       "metadata": {},
       "output_type": "display_data",
       "text": [
        "PROGRESS: Recsys training: model = item_similarity"
       ]
      },
      {
       "html": [
        "<pre>PROGRESS: Finished prediction in 0.091015s</pre>"
       ],
       "metadata": {},
       "output_type": "display_data",
       "text": [
        "PROGRESS: Finished prediction in 0.091015s"
       ]
      },
      {
       "html": [
        "<pre>PROGRESS: Recsys training: model = item_similarity</pre>"
       ],
       "metadata": {},
       "output_type": "display_data",
       "text": [
        "PROGRESS: Recsys training: model = item_similarity"
       ]
      },
      {
       "html": [
        "<pre>PROGRESS: Finished prediction in 0.094122s</pre>"
       ],
       "metadata": {},
       "output_type": "display_data",
       "text": [
        "PROGRESS: Finished prediction in 0.094122s"
       ]
      },
      {
       "html": [
        "<pre>PROGRESS: Recsys training: model = item_similarity</pre>"
       ],
       "metadata": {},
       "output_type": "display_data",
       "text": [
        "PROGRESS: Recsys training: model = item_similarity"
       ]
      },
      {
       "html": [
        "<pre>PROGRESS: Finished prediction in 0.113955s</pre>"
       ],
       "metadata": {},
       "output_type": "display_data",
       "text": [
        "PROGRESS: Finished prediction in 0.113955s"
       ]
      },
      {
       "html": [
        "<pre>PROGRESS: Recsys training: model = item_similarity</pre>"
       ],
       "metadata": {},
       "output_type": "display_data",
       "text": [
        "PROGRESS: Recsys training: model = item_similarity"
       ]
      },
      {
       "html": [
        "<pre>PROGRESS: Finished prediction in 0.096745s</pre>"
       ],
       "metadata": {},
       "output_type": "display_data",
       "text": [
        "PROGRESS: Finished prediction in 0.096745s"
       ]
      },
      {
       "html": [
        "<pre>PROGRESS: Recsys training: model = item_similarity</pre>"
       ],
       "metadata": {},
       "output_type": "display_data",
       "text": [
        "PROGRESS: Recsys training: model = item_similarity"
       ]
      },
      {
       "html": [
        "<pre>PROGRESS: Finished prediction in 0.144752s</pre>"
       ],
       "metadata": {},
       "output_type": "display_data",
       "text": [
        "PROGRESS: Finished prediction in 0.144752s"
       ]
      },
      {
       "html": [
        "<pre>PROGRESS: Recsys training: model = item_similarity</pre>"
       ],
       "metadata": {},
       "output_type": "display_data",
       "text": [
        "PROGRESS: Recsys training: model = item_similarity"
       ]
      },
      {
       "html": [
        "<pre>PROGRESS: Finished prediction in 0.147783s</pre>"
       ],
       "metadata": {},
       "output_type": "display_data",
       "text": [
        "PROGRESS: Finished prediction in 0.147783s"
       ]
      },
      {
       "html": [
        "<pre>PROGRESS: Recsys training: model = item_similarity</pre>"
       ],
       "metadata": {},
       "output_type": "display_data",
       "text": [
        "PROGRESS: Recsys training: model = item_similarity"
       ]
      },
      {
       "html": [
        "<pre>PROGRESS: Finished prediction in 0.128488s</pre>"
       ],
       "metadata": {},
       "output_type": "display_data",
       "text": [
        "PROGRESS: Finished prediction in 0.128488s"
       ]
      },
      {
       "html": [
        "<pre>PROGRESS: Recsys training: model = item_similarity</pre>"
       ],
       "metadata": {},
       "output_type": "display_data",
       "text": [
        "PROGRESS: Recsys training: model = item_similarity"
       ]
      },
      {
       "html": [
        "<pre>PROGRESS: Finished prediction in 0.172559s</pre>"
       ],
       "metadata": {},
       "output_type": "display_data",
       "text": [
        "PROGRESS: Finished prediction in 0.172559s"
       ]
      },
      {
       "html": [
        "<pre>PROGRESS: Recsys training: model = item_similarity</pre>"
       ],
       "metadata": {},
       "output_type": "display_data",
       "text": [
        "PROGRESS: Recsys training: model = item_similarity"
       ]
      },
      {
       "html": [
        "<pre>PROGRESS: Finished prediction in 0.036695s</pre>"
       ],
       "metadata": {},
       "output_type": "display_data",
       "text": [
        "PROGRESS: Finished prediction in 0.036695s"
       ]
      },
      {
       "html": [
        "<pre>PROGRESS: Recsys training: model = item_similarity</pre>"
       ],
       "metadata": {},
       "output_type": "display_data",
       "text": [
        "PROGRESS: Recsys training: model = item_similarity"
       ]
      },
      {
       "html": [
        "<pre>PROGRESS: Finished prediction in 0.083615s</pre>"
       ],
       "metadata": {},
       "output_type": "display_data",
       "text": [
        "PROGRESS: Finished prediction in 0.083615s"
       ]
      },
      {
       "html": [
        "<pre>PROGRESS: Recsys training: model = item_similarity</pre>"
       ],
       "metadata": {},
       "output_type": "display_data",
       "text": [
        "PROGRESS: Recsys training: model = item_similarity"
       ]
      },
      {
       "html": [
        "<pre>PROGRESS: Finished prediction in 0.051592s</pre>"
       ],
       "metadata": {},
       "output_type": "display_data",
       "text": [
        "PROGRESS: Finished prediction in 0.051592s"
       ]
      },
      {
       "html": [
        "<pre>PROGRESS: Recsys training: model = item_similarity</pre>"
       ],
       "metadata": {},
       "output_type": "display_data",
       "text": [
        "PROGRESS: Recsys training: model = item_similarity"
       ]
      },
      {
       "html": [
        "<pre>PROGRESS: Finished prediction in 0.0596s</pre>"
       ],
       "metadata": {},
       "output_type": "display_data",
       "text": [
        "PROGRESS: Finished prediction in 0.0596s"
       ]
      },
      {
       "html": [
        "<pre>PROGRESS: Recsys training: model = item_similarity</pre>"
       ],
       "metadata": {},
       "output_type": "display_data",
       "text": [
        "PROGRESS: Recsys training: model = item_similarity"
       ]
      },
      {
       "html": [
        "<pre>PROGRESS: Finished prediction in 0.0596s</pre>"
       ],
       "metadata": {},
       "output_type": "display_data",
       "text": [
        "PROGRESS: Finished prediction in 0.0596s"
       ]
      },
      {
       "html": [
        "<pre>PROGRESS: Recsys training: model = item_similarity</pre>"
       ],
       "metadata": {},
       "output_type": "display_data",
       "text": [
        "PROGRESS: Recsys training: model = item_similarity"
       ]
      },
      {
       "html": [
        "<pre>PROGRESS: Finished prediction in 0.056504s</pre>"
       ],
       "metadata": {},
       "output_type": "display_data",
       "text": [
        "PROGRESS: Finished prediction in 0.056504s"
       ]
      },
      {
       "html": [
        "<pre>PROGRESS: Recsys training: model = item_similarity</pre>"
       ],
       "metadata": {},
       "output_type": "display_data",
       "text": [
        "PROGRESS: Recsys training: model = item_similarity"
       ]
      },
      {
       "html": [
        "<pre>PROGRESS: Finished prediction in 0.05973s</pre>"
       ],
       "metadata": {},
       "output_type": "display_data",
       "text": [
        "PROGRESS: Finished prediction in 0.05973s"
       ]
      },
      {
       "html": [
        "<pre>PROGRESS: Recsys training: model = item_similarity</pre>"
       ],
       "metadata": {},
       "output_type": "display_data",
       "text": [
        "PROGRESS: Recsys training: model = item_similarity"
       ]
      },
      {
       "html": [
        "<pre>PROGRESS: Finished prediction in 0.069279s</pre>"
       ],
       "metadata": {},
       "output_type": "display_data",
       "text": [
        "PROGRESS: Finished prediction in 0.069279s"
       ]
      },
      {
       "html": [
        "<pre>PROGRESS: Recsys training: model = item_similarity</pre>"
       ],
       "metadata": {},
       "output_type": "display_data",
       "text": [
        "PROGRESS: Recsys training: model = item_similarity"
       ]
      },
      {
       "html": [
        "<pre>PROGRESS: Finished prediction in 0.07783s</pre>"
       ],
       "metadata": {},
       "output_type": "display_data",
       "text": [
        "PROGRESS: Finished prediction in 0.07783s"
       ]
      },
      {
       "html": [
        "<pre>PROGRESS: Recsys training: model = item_similarity</pre>"
       ],
       "metadata": {},
       "output_type": "display_data",
       "text": [
        "PROGRESS: Recsys training: model = item_similarity"
       ]
      },
      {
       "html": [
        "<pre>PROGRESS: Finished prediction in 0.069562s</pre>"
       ],
       "metadata": {},
       "output_type": "display_data",
       "text": [
        "PROGRESS: Finished prediction in 0.069562s"
       ]
      },
      {
       "html": [
        "<pre>PROGRESS: Recsys training: model = item_similarity</pre>"
       ],
       "metadata": {},
       "output_type": "display_data",
       "text": [
        "PROGRESS: Recsys training: model = item_similarity"
       ]
      },
      {
       "html": [
        "<pre>PROGRESS: Finished prediction in 0.079712s</pre>"
       ],
       "metadata": {},
       "output_type": "display_data",
       "text": [
        "PROGRESS: Finished prediction in 0.079712s"
       ]
      },
      {
       "html": [
        "<pre>PROGRESS: Recsys training: model = item_similarity</pre>"
       ],
       "metadata": {},
       "output_type": "display_data",
       "text": [
        "PROGRESS: Recsys training: model = item_similarity"
       ]
      },
      {
       "html": [
        "<pre>PROGRESS: Finished prediction in 0.079653s</pre>"
       ],
       "metadata": {},
       "output_type": "display_data",
       "text": [
        "PROGRESS: Finished prediction in 0.079653s"
       ]
      },
      {
       "html": [
        "<pre>PROGRESS: Recsys training: model = item_similarity</pre>"
       ],
       "metadata": {},
       "output_type": "display_data",
       "text": [
        "PROGRESS: Recsys training: model = item_similarity"
       ]
      },
      {
       "html": [
        "<pre>PROGRESS: Finished prediction in 0.086384s</pre>"
       ],
       "metadata": {},
       "output_type": "display_data",
       "text": [
        "PROGRESS: Finished prediction in 0.086384s"
       ]
      },
      {
       "html": [
        "<pre>PROGRESS: Recsys training: model = item_similarity</pre>"
       ],
       "metadata": {},
       "output_type": "display_data",
       "text": [
        "PROGRESS: Recsys training: model = item_similarity"
       ]
      },
      {
       "html": [
        "<pre>PROGRESS: Finished prediction in 0.090158s</pre>"
       ],
       "metadata": {},
       "output_type": "display_data",
       "text": [
        "PROGRESS: Finished prediction in 0.090158s"
       ]
      },
      {
       "html": [
        "<pre>PROGRESS: Recsys training: model = item_similarity</pre>"
       ],
       "metadata": {},
       "output_type": "display_data",
       "text": [
        "PROGRESS: Recsys training: model = item_similarity"
       ]
      },
      {
       "html": [
        "<pre>PROGRESS: Finished prediction in 0.094038s</pre>"
       ],
       "metadata": {},
       "output_type": "display_data",
       "text": [
        "PROGRESS: Finished prediction in 0.094038s"
       ]
      },
      {
       "html": [
        "<pre>PROGRESS: Recsys training: model = item_similarity</pre>"
       ],
       "metadata": {},
       "output_type": "display_data",
       "text": [
        "PROGRESS: Recsys training: model = item_similarity"
       ]
      },
      {
       "html": [
        "<pre>PROGRESS: Finished prediction in 0.096257s</pre>"
       ],
       "metadata": {},
       "output_type": "display_data",
       "text": [
        "PROGRESS: Finished prediction in 0.096257s"
       ]
      },
      {
       "html": [
        "<pre>PROGRESS: Recsys training: model = item_similarity</pre>"
       ],
       "metadata": {},
       "output_type": "display_data",
       "text": [
        "PROGRESS: Recsys training: model = item_similarity"
       ]
      },
      {
       "html": [
        "<pre>PROGRESS: Finished prediction in 0.096782s</pre>"
       ],
       "metadata": {},
       "output_type": "display_data",
       "text": [
        "PROGRESS: Finished prediction in 0.096782s"
       ]
      },
      {
       "html": [
        "<pre>PROGRESS: Recsys training: model = item_similarity</pre>"
       ],
       "metadata": {},
       "output_type": "display_data",
       "text": [
        "PROGRESS: Recsys training: model = item_similarity"
       ]
      },
      {
       "html": [
        "<pre>PROGRESS: Finished prediction in 0.105889s</pre>"
       ],
       "metadata": {},
       "output_type": "display_data",
       "text": [
        "PROGRESS: Finished prediction in 0.105889s"
       ]
      },
      {
       "html": [
        "<pre>PROGRESS: Recsys training: model = item_similarity</pre>"
       ],
       "metadata": {},
       "output_type": "display_data",
       "text": [
        "PROGRESS: Recsys training: model = item_similarity"
       ]
      },
      {
       "html": [
        "<pre>PROGRESS: Finished prediction in 0.100649s</pre>"
       ],
       "metadata": {},
       "output_type": "display_data",
       "text": [
        "PROGRESS: Finished prediction in 0.100649s"
       ]
      },
      {
       "html": [
        "<pre>PROGRESS: Recsys training: model = item_similarity</pre>"
       ],
       "metadata": {},
       "output_type": "display_data",
       "text": [
        "PROGRESS: Recsys training: model = item_similarity"
       ]
      },
      {
       "html": [
        "<pre>PROGRESS: Finished prediction in 0.102689s</pre>"
       ],
       "metadata": {},
       "output_type": "display_data",
       "text": [
        "PROGRESS: Finished prediction in 0.102689s"
       ]
      },
      {
       "metadata": {},
       "output_type": "display_data",
       "png": "[encoded data removed]",
       "text": [
        "<matplotlib.figure.Figure at 0x7f5e24283490>"
       ]
      }
     ],
     "prompt_number": 7
    },
    {
     "cell_type": "code",
     "collapsed": false,
     "input": [
      "#Parameters to test:\n",
      "#similarity_type : {\u2018jaccard\u2019, \u2018cosine\u2019, \u2018pearson\u2019}\n",
      "#threshold : float, optional\n",
      "#only_top_k : int, optional\n",
      "RSE = {\"jaccard\":[],\"cosine\":[],\"pearson\":[]}\n",
      "for i,(train, test) in enumerate(ml100Files()):\n",
      "    for method in [\"jaccard\",\"cosine\",\"pearson\"]:\n",
      "        err = []\n",
      "        for k in xrange(10,310,10):\n",
      "            sim = graphlab.recommender.item_similarity_recommender.create(train,user_id=\"user_id\",item_id=\"item_id\",similarity_type=method,only_top_k=k,threshold=0.09,target=\"rating\",verbose=False)\n",
      "            err.append(sim.evaluate_rmse(test,target=\"rating\")[\"rmse_overall\"])\n",
      "        RSE[method].append(err)\n",
      "    \n",
      "            \n",
      "for i in xrange(0,6):\n",
      "    for method in [\"jaccard\",\"cosine\",\"pearson\"]:\n",
      "        plt.plot(range(10,310,10),np.mean(np.array(RSE[method]),axis=0),label=method)\n"
     ],
     "language": "python",
     "metadata": {},
     "outputs": [
      {
       "html": [
        "<pre>PROGRESS: Recsys training: model = item_similarity</pre>"
       ],
       "metadata": {},
       "output_type": "display_data",
       "text": [
        "PROGRESS: Recsys training: model = item_similarity"
       ]
      },
      {
       "html": [
        "<pre>PROGRESS: Finished prediction in 0.015011s</pre>"
       ],
       "metadata": {},
       "output_type": "display_data",
       "text": [
        "PROGRESS: Finished prediction in 0.015011s"
       ]
      },
      {
       "html": [
        "<pre>PROGRESS: Recsys training: model = item_similarity</pre>"
       ],
       "metadata": {},
       "output_type": "display_data",
       "text": [
        "PROGRESS: Recsys training: model = item_similarity"
       ]
      },
      {
       "html": [
        "<pre>PROGRESS: Finished prediction in 0.016218s</pre>"
       ],
       "metadata": {},
       "output_type": "display_data",
       "text": [
        "PROGRESS: Finished prediction in 0.016218s"
       ]
      },
      {
       "html": [
        "<pre>PROGRESS: Recsys training: model = item_similarity</pre>"
       ],
       "metadata": {},
       "output_type": "display_data",
       "text": [
        "PROGRESS: Recsys training: model = item_similarity"
       ]
      },
      {
       "html": [
        "<pre>PROGRESS: Finished prediction in 0.017556s</pre>"
       ],
       "metadata": {},
       "output_type": "display_data",
       "text": [
        "PROGRESS: Finished prediction in 0.017556s"
       ]
      },
      {
       "html": [
        "<pre>PROGRESS: Recsys training: model = item_similarity</pre>"
       ],
       "metadata": {},
       "output_type": "display_data",
       "text": [
        "PROGRESS: Recsys training: model = item_similarity"
       ]
      },
      {
       "html": [
        "<pre>PROGRESS: Finished prediction in 0.0132s</pre>"
       ],
       "metadata": {},
       "output_type": "display_data",
       "text": [
        "PROGRESS: Finished prediction in 0.0132s"
       ]
      },
      {
       "html": [
        "<pre>PROGRESS: Recsys training: model = item_similarity</pre>"
       ],
       "metadata": {},
       "output_type": "display_data",
       "text": [
        "PROGRESS: Recsys training: model = item_similarity"
       ]
      },
      {
       "html": [
        "<pre>PROGRESS: Finished prediction in 0.018812s</pre>"
       ],
       "metadata": {},
       "output_type": "display_data",
       "text": [
        "PROGRESS: Finished prediction in 0.018812s"
       ]
      },
      {
       "html": [
        "<pre>PROGRESS: Recsys training: model = item_similarity</pre>"
       ],
       "metadata": {},
       "output_type": "display_data",
       "text": [
        "PROGRESS: Recsys training: model = item_similarity"
       ]
      },
      {
       "html": [
        "<pre>PROGRESS: Finished prediction in 0.015664s</pre>"
       ],
       "metadata": {},
       "output_type": "display_data",
       "text": [
        "PROGRESS: Finished prediction in 0.015664s"
       ]
      },
      {
       "html": [
        "<pre>PROGRESS: Recsys training: model = item_similarity</pre>"
       ],
       "metadata": {},
       "output_type": "display_data",
       "text": [
        "PROGRESS: Recsys training: model = item_similarity"
       ]
      },
      {
       "html": [
        "<pre>PROGRESS: Finished prediction in 0.016873s</pre>"
       ],
       "metadata": {},
       "output_type": "display_data",
       "text": [
        "PROGRESS: Finished prediction in 0.016873s"
       ]
      },
      {
       "html": [
        "<pre>PROGRESS: Recsys training: model = item_similarity</pre>"
       ],
       "metadata": {},
       "output_type": "display_data",
       "text": [
        "PROGRESS: Recsys training: model = item_similarity"
       ]
      },
      {
       "html": [
        "<pre>PROGRESS: Finished prediction in 0.016969s</pre>"
       ],
       "metadata": {},
       "output_type": "display_data",
       "text": [
        "PROGRESS: Finished prediction in 0.016969s"
       ]
      },
      {
       "html": [
        "<pre>PROGRESS: Recsys training: model = item_similarity</pre>"
       ],
       "metadata": {},
       "output_type": "display_data",
       "text": [
        "PROGRESS: Recsys training: model = item_similarity"
       ]
      },
      {
       "html": [
        "<pre>PROGRESS: Finished prediction in 0.018343s</pre>"
       ],
       "metadata": {},
       "output_type": "display_data",
       "text": [
        "PROGRESS: Finished prediction in 0.018343s"
       ]
      },
      {
       "html": [
        "<pre>PROGRESS: Recsys training: model = item_similarity</pre>"
       ],
       "metadata": {},
       "output_type": "display_data",
       "text": [
        "PROGRESS: Recsys training: model = item_similarity"
       ]
      },
      {
       "html": [
        "<pre>PROGRESS: Finished prediction in 0.022272s</pre>"
       ],
       "metadata": {},
       "output_type": "display_data",
       "text": [
        "PROGRESS: Finished prediction in 0.022272s"
       ]
      },
      {
       "html": [
        "<pre>PROGRESS: Recsys training: model = item_similarity</pre>"
       ],
       "metadata": {},
       "output_type": "display_data",
       "text": [
        "PROGRESS: Recsys training: model = item_similarity"
       ]
      },
      {
       "html": [
        "<pre>PROGRESS: Finished prediction in 0.021494s</pre>"
       ],
       "metadata": {},
       "output_type": "display_data",
       "text": [
        "PROGRESS: Finished prediction in 0.021494s"
       ]
      },
      {
       "html": [
        "<pre>PROGRESS: Recsys training: model = item_similarity</pre>"
       ],
       "metadata": {},
       "output_type": "display_data",
       "text": [
        "PROGRESS: Recsys training: model = item_similarity"
       ]
      },
      {
       "html": [
        "<pre>PROGRESS: Finished prediction in 0.022533s</pre>"
       ],
       "metadata": {},
       "output_type": "display_data",
       "text": [
        "PROGRESS: Finished prediction in 0.022533s"
       ]
      },
      {
       "html": [
        "<pre>PROGRESS: Recsys training: model = item_similarity</pre>"
       ],
       "metadata": {},
       "output_type": "display_data",
       "text": [
        "PROGRESS: Recsys training: model = item_similarity"
       ]
      },
      {
       "html": [
        "<pre>PROGRESS: Finished prediction in 0.019807s</pre>"
       ],
       "metadata": {},
       "output_type": "display_data",
       "text": [
        "PROGRESS: Finished prediction in 0.019807s"
       ]
      },
      {
       "html": [
        "<pre>PROGRESS: Recsys training: model = item_similarity</pre>"
       ],
       "metadata": {},
       "output_type": "display_data",
       "text": [
        "PROGRESS: Recsys training: model = item_similarity"
       ]
      },
      {
       "html": [
        "<pre>PROGRESS: Finished prediction in 0.021821s</pre>"
       ],
       "metadata": {},
       "output_type": "display_data",
       "text": [
        "PROGRESS: Finished prediction in 0.021821s"
       ]
      },
      {
       "html": [
        "<pre>PROGRESS: Recsys training: model = item_similarity</pre>"
       ],
       "metadata": {},
       "output_type": "display_data",
       "text": [
        "PROGRESS: Recsys training: model = item_similarity"
       ]
      },
      {
       "html": [
        "<pre>PROGRESS: Finished prediction in 0.019918s</pre>"
       ],
       "metadata": {},
       "output_type": "display_data",
       "text": [
        "PROGRESS: Finished prediction in 0.019918s"
       ]
      },
      {
       "html": [
        "<pre>PROGRESS: Recsys training: model = item_similarity</pre>"
       ],
       "metadata": {},
       "output_type": "display_data",
       "text": [
        "PROGRESS: Recsys training: model = item_similarity"
       ]
      },
      {
       "html": [
        "<pre>PROGRESS: Finished prediction in 0.022936s</pre>"
       ],
       "metadata": {},
       "output_type": "display_data",
       "text": [
        "PROGRESS: Finished prediction in 0.022936s"
       ]
      },
      {
       "html": [
        "<pre>PROGRESS: Recsys training: model = item_similarity</pre>"
       ],
       "metadata": {},
       "output_type": "display_data",
       "text": [
        "PROGRESS: Recsys training: model = item_similarity"
       ]
      },
      {
       "html": [
        "<pre>PROGRESS: Finished prediction in 0.022148s</pre>"
       ],
       "metadata": {},
       "output_type": "display_data",
       "text": [
        "PROGRESS: Finished prediction in 0.022148s"
       ]
      },
      {
       "html": [
        "<pre>PROGRESS: Recsys training: model = item_similarity</pre>"
       ],
       "metadata": {},
       "output_type": "display_data",
       "text": [
        "PROGRESS: Recsys training: model = item_similarity"
       ]
      },
      {
       "html": [
        "<pre>PROGRESS: Finished prediction in 0.02819s</pre>"
       ],
       "metadata": {},
       "output_type": "display_data",
       "text": [
        "PROGRESS: Finished prediction in 0.02819s"
       ]
      },
      {
       "html": [
        "<pre>PROGRESS: Recsys training: model = item_similarity</pre>"
       ],
       "metadata": {},
       "output_type": "display_data",
       "text": [
        "PROGRESS: Recsys training: model = item_similarity"
       ]
      },
      {
       "html": [
        "<pre>PROGRESS: Finished prediction in 0.02567s</pre>"
       ],
       "metadata": {},
       "output_type": "display_data",
       "text": [
        "PROGRESS: Finished prediction in 0.02567s"
       ]
      },
      {
       "html": [
        "<pre>PROGRESS: Recsys training: model = item_similarity</pre>"
       ],
       "metadata": {},
       "output_type": "display_data",
       "text": [
        "PROGRESS: Recsys training: model = item_similarity"
       ]
      },
      {
       "html": [
        "<pre>PROGRESS: Finished prediction in 0.025609s</pre>"
       ],
       "metadata": {},
       "output_type": "display_data",
       "text": [
        "PROGRESS: Finished prediction in 0.025609s"
       ]
      },
      {
       "html": [
        "<pre>PROGRESS: Recsys training: model = item_similarity</pre>"
       ],
       "metadata": {},
       "output_type": "display_data",
       "text": [
        "PROGRESS: Recsys training: model = item_similarity"
       ]
      },
      {
       "html": [
        "<pre>PROGRESS: Finished prediction in 0.027411s</pre>"
       ],
       "metadata": {},
       "output_type": "display_data",
       "text": [
        "PROGRESS: Finished prediction in 0.027411s"
       ]
      },
      {
       "html": [
        "<pre>PROGRESS: Recsys training: model = item_similarity</pre>"
       ],
       "metadata": {},
       "output_type": "display_data",
       "text": [
        "PROGRESS: Recsys training: model = item_similarity"
       ]
      },
      {
       "html": [
        "<pre>PROGRESS: Finished prediction in 0.028032s</pre>"
       ],
       "metadata": {},
       "output_type": "display_data",
       "text": [
        "PROGRESS: Finished prediction in 0.028032s"
       ]
      },
      {
       "html": [
        "<pre>PROGRESS: Recsys training: model = item_similarity</pre>"
       ],
       "metadata": {},
       "output_type": "display_data",
       "text": [
        "PROGRESS: Recsys training: model = item_similarity"
       ]
      },
      {
       "html": [
        "<pre>PROGRESS: Finished prediction in 0.028343s</pre>"
       ],
       "metadata": {},
       "output_type": "display_data",
       "text": [
        "PROGRESS: Finished prediction in 0.028343s"
       ]
      },
      {
       "html": [
        "<pre>PROGRESS: Recsys training: model = item_similarity</pre>"
       ],
       "metadata": {},
       "output_type": "display_data",
       "text": [
        "PROGRESS: Recsys training: model = item_similarity"
       ]
      },
      {
       "html": [
        "<pre>PROGRESS: Finished prediction in 0.026828s</pre>"
       ],
       "metadata": {},
       "output_type": "display_data",
       "text": [
        "PROGRESS: Finished prediction in 0.026828s"
       ]
      },
      {
       "html": [
        "<pre>PROGRESS: Recsys training: model = item_similarity</pre>"
       ],
       "metadata": {},
       "output_type": "display_data",
       "text": [
        "PROGRESS: Recsys training: model = item_similarity"
       ]
      },
      {
       "html": [
        "<pre>PROGRESS: Finished prediction in 0.026669s</pre>"
       ],
       "metadata": {},
       "output_type": "display_data",
       "text": [
        "PROGRESS: Finished prediction in 0.026669s"
       ]
      },
      {
       "html": [
        "<pre>PROGRESS: Recsys training: model = item_similarity</pre>"
       ],
       "metadata": {},
       "output_type": "display_data",
       "text": [
        "PROGRESS: Recsys training: model = item_similarity"
       ]
      },
      {
       "html": [
        "<pre>PROGRESS: Finished prediction in 0.029259s</pre>"
       ],
       "metadata": {},
       "output_type": "display_data",
       "text": [
        "PROGRESS: Finished prediction in 0.029259s"
       ]
      },
      {
       "html": [
        "<pre>PROGRESS: Recsys training: model = item_similarity</pre>"
       ],
       "metadata": {},
       "output_type": "display_data",
       "text": [
        "PROGRESS: Recsys training: model = item_similarity"
       ]
      },
      {
       "html": [
        "<pre>PROGRESS: Finished prediction in 0.02531s</pre>"
       ],
       "metadata": {},
       "output_type": "display_data",
       "text": [
        "PROGRESS: Finished prediction in 0.02531s"
       ]
      },
      {
       "html": [
        "<pre>PROGRESS: Recsys training: model = item_similarity</pre>"
       ],
       "metadata": {},
       "output_type": "display_data",
       "text": [
        "PROGRESS: Recsys training: model = item_similarity"
       ]
      },
      {
       "html": [
        "<pre>PROGRESS: Finished prediction in 0.027214s</pre>"
       ],
       "metadata": {},
       "output_type": "display_data",
       "text": [
        "PROGRESS: Finished prediction in 0.027214s"
       ]
      },
      {
       "html": [
        "<pre>PROGRESS: Recsys training: model = item_similarity</pre>"
       ],
       "metadata": {},
       "output_type": "display_data",
       "text": [
        "PROGRESS: Recsys training: model = item_similarity"
       ]
      },
      {
       "html": [
        "<pre>PROGRESS: Finished prediction in 0.031077s</pre>"
       ],
       "metadata": {},
       "output_type": "display_data",
       "text": [
        "PROGRESS: Finished prediction in 0.031077s"
       ]
      },
      {
       "html": [
        "<pre>PROGRESS: Recsys training: model = item_similarity</pre>"
       ],
       "metadata": {},
       "output_type": "display_data",
       "text": [
        "PROGRESS: Recsys training: model = item_similarity"
       ]
      },
      {
       "html": [
        "<pre>PROGRESS: Finished prediction in 0.02704s</pre>"
       ],
       "metadata": {},
       "output_type": "display_data",
       "text": [
        "PROGRESS: Finished prediction in 0.02704s"
       ]
      },
      {
       "html": [
        "<pre>PROGRESS: Recsys training: model = item_similarity</pre>"
       ],
       "metadata": {},
       "output_type": "display_data",
       "text": [
        "PROGRESS: Recsys training: model = item_similarity"
       ]
      },
      {
       "html": [
        "<pre>PROGRESS: Finished prediction in 0.016301s</pre>"
       ],
       "metadata": {},
       "output_type": "display_data",
       "text": [
        "PROGRESS: Finished prediction in 0.016301s"
       ]
      },
      {
       "html": [
        "<pre>PROGRESS: Recsys training: model = item_similarity</pre>"
       ],
       "metadata": {},
       "output_type": "display_data",
       "text": [
        "PROGRESS: Recsys training: model = item_similarity"
       ]
      },
      {
       "html": [
        "<pre>PROGRESS: Finished prediction in 0.012964s</pre>"
       ],
       "metadata": {},
       "output_type": "display_data",
       "text": [
        "PROGRESS: Finished prediction in 0.012964s"
       ]
      },
      {
       "html": [
        "<pre>PROGRESS: Recsys training: model = item_similarity</pre>"
       ],
       "metadata": {},
       "output_type": "display_data",
       "text": [
        "PROGRESS: Recsys training: model = item_similarity"
       ]
      },
      {
       "html": [
        "<pre>PROGRESS: Finished prediction in 0.011561s</pre>"
       ],
       "metadata": {},
       "output_type": "display_data",
       "text": [
        "PROGRESS: Finished prediction in 0.011561s"
       ]
      },
      {
       "html": [
        "<pre>PROGRESS: Recsys training: model = item_similarity</pre>"
       ],
       "metadata": {},
       "output_type": "display_data",
       "text": [
        "PROGRESS: Recsys training: model = item_similarity"
       ]
      },
      {
       "html": [
        "<pre>PROGRESS: Finished prediction in 0.015118s</pre>"
       ],
       "metadata": {},
       "output_type": "display_data",
       "text": [
        "PROGRESS: Finished prediction in 0.015118s"
       ]
      },
      {
       "html": [
        "<pre>PROGRESS: Recsys training: model = item_similarity</pre>"
       ],
       "metadata": {},
       "output_type": "display_data",
       "text": [
        "PROGRESS: Recsys training: model = item_similarity"
       ]
      },
      {
       "html": [
        "<pre>PROGRESS: Finished prediction in 0.019802s</pre>"
       ],
       "metadata": {},
       "output_type": "display_data",
       "text": [
        "PROGRESS: Finished prediction in 0.019802s"
       ]
      },
      {
       "html": [
        "<pre>PROGRESS: Recsys training: model = item_similarity</pre>"
       ],
       "metadata": {},
       "output_type": "display_data",
       "text": [
        "PROGRESS: Recsys training: model = item_similarity"
       ]
      },
      {
       "html": [
        "<pre>PROGRESS: Finished prediction in 0.016927s</pre>"
       ],
       "metadata": {},
       "output_type": "display_data",
       "text": [
        "PROGRESS: Finished prediction in 0.016927s"
       ]
      },
      {
       "html": [
        "<pre>PROGRESS: Recsys training: model = item_similarity</pre>"
       ],
       "metadata": {},
       "output_type": "display_data",
       "text": [
        "PROGRESS: Recsys training: model = item_similarity"
       ]
      },
      {
       "html": [
        "<pre>PROGRESS: Finished prediction in 0.021033s</pre>"
       ],
       "metadata": {},
       "output_type": "display_data",
       "text": [
        "PROGRESS: Finished prediction in 0.021033s"
       ]
      },
      {
       "html": [
        "<pre>PROGRESS: Recsys training: model = item_similarity</pre>"
       ],
       "metadata": {},
       "output_type": "display_data",
       "text": [
        "PROGRESS: Recsys training: model = item_similarity"
       ]
      },
      {
       "html": [
        "<pre>PROGRESS: Finished prediction in 0.017597s</pre>"
       ],
       "metadata": {},
       "output_type": "display_data",
       "text": [
        "PROGRESS: Finished prediction in 0.017597s"
       ]
      },
      {
       "html": [
        "<pre>PROGRESS: Recsys training: model = item_similarity</pre>"
       ],
       "metadata": {},
       "output_type": "display_data",
       "text": [
        "PROGRESS: Recsys training: model = item_similarity"
       ]
      },
      {
       "html": [
        "<pre>PROGRESS: Finished prediction in 0.02187s</pre>"
       ],
       "metadata": {},
       "output_type": "display_data",
       "text": [
        "PROGRESS: Finished prediction in 0.02187s"
       ]
      },
      {
       "html": [
        "<pre>PROGRESS: Recsys training: model = item_similarity</pre>"
       ],
       "metadata": {},
       "output_type": "display_data",
       "text": [
        "PROGRESS: Recsys training: model = item_similarity"
       ]
      },
      {
       "html": [
        "<pre>PROGRESS: Finished prediction in 0.020603s</pre>"
       ],
       "metadata": {},
       "output_type": "display_data",
       "text": [
        "PROGRESS: Finished prediction in 0.020603s"
       ]
      },
      {
       "html": [
        "<pre>PROGRESS: Recsys training: model = item_similarity</pre>"
       ],
       "metadata": {},
       "output_type": "display_data",
       "text": [
        "PROGRESS: Recsys training: model = item_similarity"
       ]
      },
      {
       "html": [
        "<pre>PROGRESS: Finished prediction in 0.022658s</pre>"
       ],
       "metadata": {},
       "output_type": "display_data",
       "text": [
        "PROGRESS: Finished prediction in 0.022658s"
       ]
      },
      {
       "html": [
        "<pre>PROGRESS: Recsys training: model = item_similarity</pre>"
       ],
       "metadata": {},
       "output_type": "display_data",
       "text": [
        "PROGRESS: Recsys training: model = item_similarity"
       ]
      },
      {
       "html": [
        "<pre>PROGRESS: Finished prediction in 0.028523s</pre>"
       ],
       "metadata": {},
       "output_type": "display_data",
       "text": [
        "PROGRESS: Finished prediction in 0.028523s"
       ]
      },
      {
       "html": [
        "<pre>PROGRESS: Recsys training: model = item_similarity</pre>"
       ],
       "metadata": {},
       "output_type": "display_data",
       "text": [
        "PROGRESS: Recsys training: model = item_similarity"
       ]
      },
      {
       "html": [
        "<pre>PROGRESS: Finished prediction in 0.02473s</pre>"
       ],
       "metadata": {},
       "output_type": "display_data",
       "text": [
        "PROGRESS: Finished prediction in 0.02473s"
       ]
      },
      {
       "html": [
        "<pre>PROGRESS: Recsys training: model = item_similarity</pre>"
       ],
       "metadata": {},
       "output_type": "display_data",
       "text": [
        "PROGRESS: Recsys training: model = item_similarity"
       ]
      },
      {
       "html": [
        "<pre>PROGRESS: Finished prediction in 0.018152s</pre>"
       ],
       "metadata": {},
       "output_type": "display_data",
       "text": [
        "PROGRESS: Finished prediction in 0.018152s"
       ]
      },
      {
       "html": [
        "<pre>PROGRESS: Recsys training: model = item_similarity</pre>"
       ],
       "metadata": {},
       "output_type": "display_data",
       "text": [
        "PROGRESS: Recsys training: model = item_similarity"
       ]
      },
      {
       "html": [
        "<pre>PROGRESS: Finished prediction in 0.032826s</pre>"
       ],
       "metadata": {},
       "output_type": "display_data",
       "text": [
        "PROGRESS: Finished prediction in 0.032826s"
       ]
      },
      {
       "html": [
        "<pre>PROGRESS: Recsys training: model = item_similarity</pre>"
       ],
       "metadata": {},
       "output_type": "display_data",
       "text": [
        "PROGRESS: Recsys training: model = item_similarity"
       ]
      },
      {
       "html": [
        "<pre>PROGRESS: Finished prediction in 0.032875s</pre>"
       ],
       "metadata": {},
       "output_type": "display_data",
       "text": [
        "PROGRESS: Finished prediction in 0.032875s"
       ]
      },
      {
       "html": [
        "<pre>PROGRESS: Recsys training: model = item_similarity</pre>"
       ],
       "metadata": {},
       "output_type": "display_data",
       "text": [
        "PROGRESS: Recsys training: model = item_similarity"
       ]
      },
      {
       "html": [
        "<pre>PROGRESS: Finished prediction in 0.03068s</pre>"
       ],
       "metadata": {},
       "output_type": "display_data",
       "text": [
        "PROGRESS: Finished prediction in 0.03068s"
       ]
      },
      {
       "html": [
        "<pre>PROGRESS: Recsys training: model = item_similarity</pre>"
       ],
       "metadata": {},
       "output_type": "display_data",
       "text": [
        "PROGRESS: Recsys training: model = item_similarity"
       ]
      },
      {
       "html": [
        "<pre>PROGRESS: Finished prediction in 0.022384s</pre>"
       ],
       "metadata": {},
       "output_type": "display_data",
       "text": [
        "PROGRESS: Finished prediction in 0.022384s"
       ]
      },
      {
       "html": [
        "<pre>PROGRESS: Recsys training: model = item_similarity</pre>"
       ],
       "metadata": {},
       "output_type": "display_data",
       "text": [
        "PROGRESS: Recsys training: model = item_similarity"
       ]
      },
      {
       "html": [
        "<pre>PROGRESS: Finished prediction in 0.024382s</pre>"
       ],
       "metadata": {},
       "output_type": "display_data",
       "text": [
        "PROGRESS: Finished prediction in 0.024382s"
       ]
      },
      {
       "html": [
        "<pre>PROGRESS: Recsys training: model = item_similarity</pre>"
       ],
       "metadata": {},
       "output_type": "display_data",
       "text": [
        "PROGRESS: Recsys training: model = item_similarity"
       ]
      },
      {
       "html": [
        "<pre>PROGRESS: Finished prediction in 0.048609s</pre>"
       ],
       "metadata": {},
       "output_type": "display_data",
       "text": [
        "PROGRESS: Finished prediction in 0.048609s"
       ]
      },
      {
       "html": [
        "<pre>PROGRESS: Recsys training: model = item_similarity</pre>"
       ],
       "metadata": {},
       "output_type": "display_data",
       "text": [
        "PROGRESS: Recsys training: model = item_similarity"
       ]
      },
      {
       "html": [
        "<pre>PROGRESS: Finished prediction in 0.038059s</pre>"
       ],
       "metadata": {},
       "output_type": "display_data",
       "text": [
        "PROGRESS: Finished prediction in 0.038059s"
       ]
      },
      {
       "html": [
        "<pre>PROGRESS: Recsys training: model = item_similarity</pre>"
       ],
       "metadata": {},
       "output_type": "display_data",
       "text": [
        "PROGRESS: Recsys training: model = item_similarity"
       ]
      },
      {
       "html": [
        "<pre>PROGRESS: Finished prediction in 0.037592s</pre>"
       ],
       "metadata": {},
       "output_type": "display_data",
       "text": [
        "PROGRESS: Finished prediction in 0.037592s"
       ]
      },
      {
       "html": [
        "<pre>PROGRESS: Recsys training: model = item_similarity</pre>"
       ],
       "metadata": {},
       "output_type": "display_data",
       "text": [
        "PROGRESS: Recsys training: model = item_similarity"
       ]
      },
      {
       "html": [
        "<pre>PROGRESS: Finished prediction in 0.039357s</pre>"
       ],
       "metadata": {},
       "output_type": "display_data",
       "text": [
        "PROGRESS: Finished prediction in 0.039357s"
       ]
      },
      {
       "html": [
        "<pre>PROGRESS: Recsys training: model = item_similarity</pre>"
       ],
       "metadata": {},
       "output_type": "display_data",
       "text": [
        "PROGRESS: Recsys training: model = item_similarity"
       ]
      },
      {
       "html": [
        "<pre>PROGRESS: Finished prediction in 0.028485s</pre>"
       ],
       "metadata": {},
       "output_type": "display_data",
       "text": [
        "PROGRESS: Finished prediction in 0.028485s"
       ]
      },
      {
       "html": [
        "<pre>PROGRESS: Recsys training: model = item_similarity</pre>"
       ],
       "metadata": {},
       "output_type": "display_data",
       "text": [
        "PROGRESS: Recsys training: model = item_similarity"
       ]
      },
      {
       "html": [
        "<pre>PROGRESS: Finished prediction in 0.02321s</pre>"
       ],
       "metadata": {},
       "output_type": "display_data",
       "text": [
        "PROGRESS: Finished prediction in 0.02321s"
       ]
      },
      {
       "html": [
        "<pre>PROGRESS: Recsys training: model = item_similarity</pre>"
       ],
       "metadata": {},
       "output_type": "display_data",
       "text": [
        "PROGRESS: Recsys training: model = item_similarity"
       ]
      },
      {
       "html": [
        "<pre>PROGRESS: Finished prediction in 0.026841s</pre>"
       ],
       "metadata": {},
       "output_type": "display_data",
       "text": [
        "PROGRESS: Finished prediction in 0.026841s"
       ]
      },
      {
       "html": [
        "<pre>PROGRESS: Recsys training: model = item_similarity</pre>"
       ],
       "metadata": {},
       "output_type": "display_data",
       "text": [
        "PROGRESS: Recsys training: model = item_similarity"
       ]
      },
      {
       "html": [
        "<pre>PROGRESS: Finished prediction in 0.030066s</pre>"
       ],
       "metadata": {},
       "output_type": "display_data",
       "text": [
        "PROGRESS: Finished prediction in 0.030066s"
       ]
      },
      {
       "html": [
        "<pre>PROGRESS: Recsys training: model = item_similarity</pre>"
       ],
       "metadata": {},
       "output_type": "display_data",
       "text": [
        "PROGRESS: Recsys training: model = item_similarity"
       ]
      },
      {
       "html": [
        "<pre>PROGRESS: Finished prediction in 0.03214s</pre>"
       ],
       "metadata": {},
       "output_type": "display_data",
       "text": [
        "PROGRESS: Finished prediction in 0.03214s"
       ]
      },
      {
       "html": [
        "<pre>PROGRESS: Recsys training: model = item_similarity</pre>"
       ],
       "metadata": {},
       "output_type": "display_data",
       "text": [
        "PROGRESS: Recsys training: model = item_similarity"
       ]
      },
      {
       "html": [
        "<pre>PROGRESS: Finished prediction in 0.025708s</pre>"
       ],
       "metadata": {},
       "output_type": "display_data",
       "text": [
        "PROGRESS: Finished prediction in 0.025708s"
       ]
      },
      {
       "html": [
        "<pre>PROGRESS: Recsys training: model = item_similarity</pre>"
       ],
       "metadata": {},
       "output_type": "display_data",
       "text": [
        "PROGRESS: Recsys training: model = item_similarity"
       ]
      },
      {
       "html": [
        "<pre>PROGRESS: Finished prediction in 0.027022s</pre>"
       ],
       "metadata": {},
       "output_type": "display_data",
       "text": [
        "PROGRESS: Finished prediction in 0.027022s"
       ]
      },
      {
       "html": [
        "<pre>PROGRESS: Recsys training: model = item_similarity</pre>"
       ],
       "metadata": {},
       "output_type": "display_data",
       "text": [
        "PROGRESS: Recsys training: model = item_similarity"
       ]
      },
      {
       "html": [
        "<pre>PROGRESS: Finished prediction in 0.016855s</pre>"
       ],
       "metadata": {},
       "output_type": "display_data",
       "text": [
        "PROGRESS: Finished prediction in 0.016855s"
       ]
      },
      {
       "html": [
        "<pre>PROGRESS: Recsys training: model = item_similarity</pre>"
       ],
       "metadata": {},
       "output_type": "display_data",
       "text": [
        "PROGRESS: Recsys training: model = item_similarity"
       ]
      },
      {
       "html": [
        "<pre>PROGRESS: Finished prediction in 0.017677s</pre>"
       ],
       "metadata": {},
       "output_type": "display_data",
       "text": [
        "PROGRESS: Finished prediction in 0.017677s"
       ]
      },
      {
       "html": [
        "<pre>PROGRESS: Recsys training: model = item_similarity</pre>"
       ],
       "metadata": {},
       "output_type": "display_data",
       "text": [
        "PROGRESS: Recsys training: model = item_similarity"
       ]
      },
      {
       "html": [
        "<pre>PROGRESS: Finished prediction in 0.016829s</pre>"
       ],
       "metadata": {},
       "output_type": "display_data",
       "text": [
        "PROGRESS: Finished prediction in 0.016829s"
       ]
      },
      {
       "html": [
        "<pre>PROGRESS: Recsys training: model = item_similarity</pre>"
       ],
       "metadata": {},
       "output_type": "display_data",
       "text": [
        "PROGRESS: Recsys training: model = item_similarity"
       ]
      },
      {
       "html": [
        "<pre>PROGRESS: Finished prediction in 0.01414s</pre>"
       ],
       "metadata": {},
       "output_type": "display_data",
       "text": [
        "PROGRESS: Finished prediction in 0.01414s"
       ]
      },
      {
       "html": [
        "<pre>PROGRESS: Recsys training: model = item_similarity</pre>"
       ],
       "metadata": {},
       "output_type": "display_data",
       "text": [
        "PROGRESS: Recsys training: model = item_similarity"
       ]
      },
      {
       "html": [
        "<pre>PROGRESS: Finished prediction in 0.01511s</pre>"
       ],
       "metadata": {},
       "output_type": "display_data",
       "text": [
        "PROGRESS: Finished prediction in 0.01511s"
       ]
      },
      {
       "html": [
        "<pre>PROGRESS: Recsys training: model = item_similarity</pre>"
       ],
       "metadata": {},
       "output_type": "display_data",
       "text": [
        "PROGRESS: Recsys training: model = item_similarity"
       ]
      },
      {
       "html": [
        "<pre>PROGRESS: Finished prediction in 0.016452s</pre>"
       ],
       "metadata": {},
       "output_type": "display_data",
       "text": [
        "PROGRESS: Finished prediction in 0.016452s"
       ]
      },
      {
       "html": [
        "<pre>PROGRESS: Recsys training: model = item_similarity</pre>"
       ],
       "metadata": {},
       "output_type": "display_data",
       "text": [
        "PROGRESS: Recsys training: model = item_similarity"
       ]
      },
      {
       "html": [
        "<pre>PROGRESS: Finished prediction in 0.019579s</pre>"
       ],
       "metadata": {},
       "output_type": "display_data",
       "text": [
        "PROGRESS: Finished prediction in 0.019579s"
       ]
      },
      {
       "html": [
        "<pre>PROGRESS: Recsys training: model = item_similarity</pre>"
       ],
       "metadata": {},
       "output_type": "display_data",
       "text": [
        "PROGRESS: Recsys training: model = item_similarity"
       ]
      },
      {
       "html": [
        "<pre>PROGRESS: Finished prediction in 0.015967s</pre>"
       ],
       "metadata": {},
       "output_type": "display_data",
       "text": [
        "PROGRESS: Finished prediction in 0.015967s"
       ]
      },
      {
       "html": [
        "<pre>PROGRESS: Recsys training: model = item_similarity</pre>"
       ],
       "metadata": {},
       "output_type": "display_data",
       "text": [
        "PROGRESS: Recsys training: model = item_similarity"
       ]
      },
      {
       "html": [
        "<pre>PROGRESS: Finished prediction in 0.017877s</pre>"
       ],
       "metadata": {},
       "output_type": "display_data",
       "text": [
        "PROGRESS: Finished prediction in 0.017877s"
       ]
      },
      {
       "html": [
        "<pre>PROGRESS: Recsys training: model = item_similarity</pre>"
       ],
       "metadata": {},
       "output_type": "display_data",
       "text": [
        "PROGRESS: Recsys training: model = item_similarity"
       ]
      },
      {
       "html": [
        "<pre>PROGRESS: Finished prediction in 0.022079s</pre>"
       ],
       "metadata": {},
       "output_type": "display_data",
       "text": [
        "PROGRESS: Finished prediction in 0.022079s"
       ]
      },
      {
       "html": [
        "<pre>PROGRESS: Recsys training: model = item_similarity</pre>"
       ],
       "metadata": {},
       "output_type": "display_data",
       "text": [
        "PROGRESS: Recsys training: model = item_similarity"
       ]
      },
      {
       "html": [
        "<pre>PROGRESS: Finished prediction in 0.021703s</pre>"
       ],
       "metadata": {},
       "output_type": "display_data",
       "text": [
        "PROGRESS: Finished prediction in 0.021703s"
       ]
      },
      {
       "html": [
        "<pre>PROGRESS: Recsys training: model = item_similarity</pre>"
       ],
       "metadata": {},
       "output_type": "display_data",
       "text": [
        "PROGRESS: Recsys training: model = item_similarity"
       ]
      },
      {
       "html": [
        "<pre>PROGRESS: Finished prediction in 0.028356s</pre>"
       ],
       "metadata": {},
       "output_type": "display_data",
       "text": [
        "PROGRESS: Finished prediction in 0.028356s"
       ]
      },
      {
       "html": [
        "<pre>PROGRESS: Recsys training: model = item_similarity</pre>"
       ],
       "metadata": {},
       "output_type": "display_data",
       "text": [
        "PROGRESS: Recsys training: model = item_similarity"
       ]
      },
      {
       "html": [
        "<pre>PROGRESS: Finished prediction in 0.020603s</pre>"
       ],
       "metadata": {},
       "output_type": "display_data",
       "text": [
        "PROGRESS: Finished prediction in 0.020603s"
       ]
      },
      {
       "html": [
        "<pre>PROGRESS: Recsys training: model = item_similarity</pre>"
       ],
       "metadata": {},
       "output_type": "display_data",
       "text": [
        "PROGRESS: Recsys training: model = item_similarity"
       ]
      },
      {
       "html": [
        "<pre>PROGRESS: Finished prediction in 0.021413s</pre>"
       ],
       "metadata": {},
       "output_type": "display_data",
       "text": [
        "PROGRESS: Finished prediction in 0.021413s"
       ]
      },
      {
       "html": [
        "<pre>PROGRESS: Recsys training: model = item_similarity</pre>"
       ],
       "metadata": {},
       "output_type": "display_data",
       "text": [
        "PROGRESS: Recsys training: model = item_similarity"
       ]
      },
      {
       "html": [
        "<pre>PROGRESS: Finished prediction in 0.020052s</pre>"
       ],
       "metadata": {},
       "output_type": "display_data",
       "text": [
        "PROGRESS: Finished prediction in 0.020052s"
       ]
      },
      {
       "html": [
        "<pre>PROGRESS: Recsys training: model = item_similarity</pre>"
       ],
       "metadata": {},
       "output_type": "display_data",
       "text": [
        "PROGRESS: Recsys training: model = item_similarity"
       ]
      },
      {
       "html": [
        "<pre>PROGRESS: Finished prediction in 0.018935s</pre>"
       ],
       "metadata": {},
       "output_type": "display_data",
       "text": [
        "PROGRESS: Finished prediction in 0.018935s"
       ]
      },
      {
       "html": [
        "<pre>PROGRESS: Recsys training: model = item_similarity</pre>"
       ],
       "metadata": {},
       "output_type": "display_data",
       "text": [
        "PROGRESS: Recsys training: model = item_similarity"
       ]
      },
      {
       "html": [
        "<pre>PROGRESS: Finished prediction in 0.024861s</pre>"
       ],
       "metadata": {},
       "output_type": "display_data",
       "text": [
        "PROGRESS: Finished prediction in 0.024861s"
       ]
      },
      {
       "html": [
        "<pre>PROGRESS: Recsys training: model = item_similarity</pre>"
       ],
       "metadata": {},
       "output_type": "display_data",
       "text": [
        "PROGRESS: Recsys training: model = item_similarity"
       ]
      },
      {
       "html": [
        "<pre>PROGRESS: Finished prediction in 0.029461s</pre>"
       ],
       "metadata": {},
       "output_type": "display_data",
       "text": [
        "PROGRESS: Finished prediction in 0.029461s"
       ]
      },
      {
       "html": [
        "<pre>PROGRESS: Recsys training: model = item_similarity</pre>"
       ],
       "metadata": {},
       "output_type": "display_data",
       "text": [
        "PROGRESS: Recsys training: model = item_similarity"
       ]
      },
      {
       "html": [
        "<pre>PROGRESS: Finished prediction in 0.022119s</pre>"
       ],
       "metadata": {},
       "output_type": "display_data",
       "text": [
        "PROGRESS: Finished prediction in 0.022119s"
       ]
      },
      {
       "html": [
        "<pre>PROGRESS: Recsys training: model = item_similarity</pre>"
       ],
       "metadata": {},
       "output_type": "display_data",
       "text": [
        "PROGRESS: Recsys training: model = item_similarity"
       ]
      },
      {
       "html": [
        "<pre>PROGRESS: Finished prediction in 0.032498s</pre>"
       ],
       "metadata": {},
       "output_type": "display_data",
       "text": [
        "PROGRESS: Finished prediction in 0.032498s"
       ]
      },
      {
       "html": [
        "<pre>PROGRESS: Recsys training: model = item_similarity</pre>"
       ],
       "metadata": {},
       "output_type": "display_data",
       "text": [
        "PROGRESS: Recsys training: model = item_similarity"
       ]
      },
      {
       "html": [
        "<pre>PROGRESS: Finished prediction in 0.025149s</pre>"
       ],
       "metadata": {},
       "output_type": "display_data",
       "text": [
        "PROGRESS: Finished prediction in 0.025149s"
       ]
      },
      {
       "html": [
        "<pre>PROGRESS: Recsys training: model = item_similarity</pre>"
       ],
       "metadata": {},
       "output_type": "display_data",
       "text": [
        "PROGRESS: Recsys training: model = item_similarity"
       ]
      },
      {
       "html": [
        "<pre>PROGRESS: Finished prediction in 0.020548s</pre>"
       ],
       "metadata": {},
       "output_type": "display_data",
       "text": [
        "PROGRESS: Finished prediction in 0.020548s"
       ]
      },
      {
       "html": [
        "<pre>PROGRESS: Recsys training: model = item_similarity</pre>"
       ],
       "metadata": {},
       "output_type": "display_data",
       "text": [
        "PROGRESS: Recsys training: model = item_similarity"
       ]
      },
      {
       "html": [
        "<pre>PROGRESS: Finished prediction in 0.026853s</pre>"
       ],
       "metadata": {},
       "output_type": "display_data",
       "text": [
        "PROGRESS: Finished prediction in 0.026853s"
       ]
      },
      {
       "html": [
        "<pre>PROGRESS: Recsys training: model = item_similarity</pre>"
       ],
       "metadata": {},
       "output_type": "display_data",
       "text": [
        "PROGRESS: Recsys training: model = item_similarity"
       ]
      },
      {
       "html": [
        "<pre>PROGRESS: Finished prediction in 0.023122s</pre>"
       ],
       "metadata": {},
       "output_type": "display_data",
       "text": [
        "PROGRESS: Finished prediction in 0.023122s"
       ]
      },
      {
       "html": [
        "<pre>PROGRESS: Recsys training: model = item_similarity</pre>"
       ],
       "metadata": {},
       "output_type": "display_data",
       "text": [
        "PROGRESS: Recsys training: model = item_similarity"
       ]
      },
      {
       "html": [
        "<pre>PROGRESS: Finished prediction in 0.02844s</pre>"
       ],
       "metadata": {},
       "output_type": "display_data",
       "text": [
        "PROGRESS: Finished prediction in 0.02844s"
       ]
      },
      {
       "html": [
        "<pre>PROGRESS: Recsys training: model = item_similarity</pre>"
       ],
       "metadata": {},
       "output_type": "display_data",
       "text": [
        "PROGRESS: Recsys training: model = item_similarity"
       ]
      },
      {
       "html": [
        "<pre>PROGRESS: Finished prediction in 0.022761s</pre>"
       ],
       "metadata": {},
       "output_type": "display_data",
       "text": [
        "PROGRESS: Finished prediction in 0.022761s"
       ]
      },
      {
       "html": [
        "<pre>PROGRESS: Recsys training: model = item_similarity</pre>"
       ],
       "metadata": {},
       "output_type": "display_data",
       "text": [
        "PROGRESS: Recsys training: model = item_similarity"
       ]
      },
      {
       "html": [
        "<pre>PROGRESS: Finished prediction in 0.02436s</pre>"
       ],
       "metadata": {},
       "output_type": "display_data",
       "text": [
        "PROGRESS: Finished prediction in 0.02436s"
       ]
      },
      {
       "html": [
        "<pre>PROGRESS: Recsys training: model = item_similarity</pre>"
       ],
       "metadata": {},
       "output_type": "display_data",
       "text": [
        "PROGRESS: Recsys training: model = item_similarity"
       ]
      },
      {
       "html": [
        "<pre>PROGRESS: Finished prediction in 0.024068s</pre>"
       ],
       "metadata": {},
       "output_type": "display_data",
       "text": [
        "PROGRESS: Finished prediction in 0.024068s"
       ]
      },
      {
       "html": [
        "<pre>PROGRESS: Recsys training: model = item_similarity</pre>"
       ],
       "metadata": {},
       "output_type": "display_data",
       "text": [
        "PROGRESS: Recsys training: model = item_similarity"
       ]
      },
      {
       "html": [
        "<pre>PROGRESS: Finished prediction in 0.024736s</pre>"
       ],
       "metadata": {},
       "output_type": "display_data",
       "text": [
        "PROGRESS: Finished prediction in 0.024736s"
       ]
      },
      {
       "html": [
        "<pre>PROGRESS: Recsys training: model = item_similarity</pre>"
       ],
       "metadata": {},
       "output_type": "display_data",
       "text": [
        "PROGRESS: Recsys training: model = item_similarity"
       ]
      },
      {
       "html": [
        "<pre>PROGRESS: Finished prediction in 0.027847s</pre>"
       ],
       "metadata": {},
       "output_type": "display_data",
       "text": [
        "PROGRESS: Finished prediction in 0.027847s"
       ]
      },
      {
       "html": [
        "<pre>PROGRESS: Recsys training: model = item_similarity</pre>"
       ],
       "metadata": {},
       "output_type": "display_data",
       "text": [
        "PROGRESS: Recsys training: model = item_similarity"
       ]
      },
      {
       "html": [
        "<pre>PROGRESS: Finished prediction in 0.015297s</pre>"
       ],
       "metadata": {},
       "output_type": "display_data",
       "text": [
        "PROGRESS: Finished prediction in 0.015297s"
       ]
      },
      {
       "html": [
        "<pre>PROGRESS: Recsys training: model = item_similarity</pre>"
       ],
       "metadata": {},
       "output_type": "display_data",
       "text": [
        "PROGRESS: Recsys training: model = item_similarity"
       ]
      },
      {
       "html": [
        "<pre>PROGRESS: Finished prediction in 0.014605s</pre>"
       ],
       "metadata": {},
       "output_type": "display_data",
       "text": [
        "PROGRESS: Finished prediction in 0.014605s"
       ]
      },
      {
       "html": [
        "<pre>PROGRESS: Recsys training: model = item_similarity</pre>"
       ],
       "metadata": {},
       "output_type": "display_data",
       "text": [
        "PROGRESS: Recsys training: model = item_similarity"
       ]
      },
      {
       "html": [
        "<pre>PROGRESS: Finished prediction in 0.015269s</pre>"
       ],
       "metadata": {},
       "output_type": "display_data",
       "text": [
        "PROGRESS: Finished prediction in 0.015269s"
       ]
      },
      {
       "html": [
        "<pre>PROGRESS: Recsys training: model = item_similarity</pre>"
       ],
       "metadata": {},
       "output_type": "display_data",
       "text": [
        "PROGRESS: Recsys training: model = item_similarity"
       ]
      },
      {
       "html": [
        "<pre>PROGRESS: Finished prediction in 0.014704s</pre>"
       ],
       "metadata": {},
       "output_type": "display_data",
       "text": [
        "PROGRESS: Finished prediction in 0.014704s"
       ]
      },
      {
       "html": [
        "<pre>PROGRESS: Recsys training: model = item_similarity</pre>"
       ],
       "metadata": {},
       "output_type": "display_data",
       "text": [
        "PROGRESS: Recsys training: model = item_similarity"
       ]
      },
      {
       "html": [
        "<pre>PROGRESS: Finished prediction in 0.0157s</pre>"
       ],
       "metadata": {},
       "output_type": "display_data",
       "text": [
        "PROGRESS: Finished prediction in 0.0157s"
       ]
      },
      {
       "html": [
        "<pre>PROGRESS: Recsys training: model = item_similarity</pre>"
       ],
       "metadata": {},
       "output_type": "display_data",
       "text": [
        "PROGRESS: Recsys training: model = item_similarity"
       ]
      },
      {
       "html": [
        "<pre>PROGRESS: Finished prediction in 0.017663s</pre>"
       ],
       "metadata": {},
       "output_type": "display_data",
       "text": [
        "PROGRESS: Finished prediction in 0.017663s"
       ]
      },
      {
       "html": [
        "<pre>PROGRESS: Recsys training: model = item_similarity</pre>"
       ],
       "metadata": {},
       "output_type": "display_data",
       "text": [
        "PROGRESS: Recsys training: model = item_similarity"
       ]
      },
      {
       "html": [
        "<pre>PROGRESS: Finished prediction in 0.016699s</pre>"
       ],
       "metadata": {},
       "output_type": "display_data",
       "text": [
        "PROGRESS: Finished prediction in 0.016699s"
       ]
      },
      {
       "html": [
        "<pre>PROGRESS: Recsys training: model = item_similarity</pre>"
       ],
       "metadata": {},
       "output_type": "display_data",
       "text": [
        "PROGRESS: Recsys training: model = item_similarity"
       ]
      },
      {
       "html": [
        "<pre>PROGRESS: Finished prediction in 0.015589s</pre>"
       ],
       "metadata": {},
       "output_type": "display_data",
       "text": [
        "PROGRESS: Finished prediction in 0.015589s"
       ]
      },
      {
       "html": [
        "<pre>PROGRESS: Recsys training: model = item_similarity</pre>"
       ],
       "metadata": {},
       "output_type": "display_data",
       "text": [
        "PROGRESS: Recsys training: model = item_similarity"
       ]
      },
      {
       "html": [
        "<pre>PROGRESS: Finished prediction in 0.016359s</pre>"
       ],
       "metadata": {},
       "output_type": "display_data",
       "text": [
        "PROGRESS: Finished prediction in 0.016359s"
       ]
      },
      {
       "html": [
        "<pre>PROGRESS: Recsys training: model = item_similarity</pre>"
       ],
       "metadata": {},
       "output_type": "display_data",
       "text": [
        "PROGRESS: Recsys training: model = item_similarity"
       ]
      },
      {
       "html": [
        "<pre>PROGRESS: Finished prediction in 0.030615s</pre>"
       ],
       "metadata": {},
       "output_type": "display_data",
       "text": [
        "PROGRESS: Finished prediction in 0.030615s"
       ]
      },
      {
       "html": [
        "<pre>PROGRESS: Recsys training: model = item_similarity</pre>"
       ],
       "metadata": {},
       "output_type": "display_data",
       "text": [
        "PROGRESS: Recsys training: model = item_similarity"
       ]
      },
      {
       "html": [
        "<pre>PROGRESS: Finished prediction in 0.019053s</pre>"
       ],
       "metadata": {},
       "output_type": "display_data",
       "text": [
        "PROGRESS: Finished prediction in 0.019053s"
       ]
      },
      {
       "html": [
        "<pre>PROGRESS: Recsys training: model = item_similarity</pre>"
       ],
       "metadata": {},
       "output_type": "display_data",
       "text": [
        "PROGRESS: Recsys training: model = item_similarity"
       ]
      },
      {
       "html": [
        "<pre>PROGRESS: Finished prediction in 0.02459s</pre>"
       ],
       "metadata": {},
       "output_type": "display_data",
       "text": [
        "PROGRESS: Finished prediction in 0.02459s"
       ]
      },
      {
       "html": [
        "<pre>PROGRESS: Recsys training: model = item_similarity</pre>"
       ],
       "metadata": {},
       "output_type": "display_data",
       "text": [
        "PROGRESS: Recsys training: model = item_similarity"
       ]
      },
      {
       "html": [
        "<pre>PROGRESS: Finished prediction in 0.022579s</pre>"
       ],
       "metadata": {},
       "output_type": "display_data",
       "text": [
        "PROGRESS: Finished prediction in 0.022579s"
       ]
      },
      {
       "html": [
        "<pre>PROGRESS: Recsys training: model = item_similarity</pre>"
       ],
       "metadata": {},
       "output_type": "display_data",
       "text": [
        "PROGRESS: Recsys training: model = item_similarity"
       ]
      },
      {
       "html": [
        "<pre>PROGRESS: Finished prediction in 0.027518s</pre>"
       ],
       "metadata": {},
       "output_type": "display_data",
       "text": [
        "PROGRESS: Finished prediction in 0.027518s"
       ]
      },
      {
       "html": [
        "<pre>PROGRESS: Recsys training: model = item_similarity</pre>"
       ],
       "metadata": {},
       "output_type": "display_data",
       "text": [
        "PROGRESS: Recsys training: model = item_similarity"
       ]
      },
      {
       "html": [
        "<pre>PROGRESS: Finished prediction in 0.022463s</pre>"
       ],
       "metadata": {},
       "output_type": "display_data",
       "text": [
        "PROGRESS: Finished prediction in 0.022463s"
       ]
      },
      {
       "html": [
        "<pre>PROGRESS: Recsys training: model = item_similarity</pre>"
       ],
       "metadata": {},
       "output_type": "display_data",
       "text": [
        "PROGRESS: Recsys training: model = item_similarity"
       ]
      },
      {
       "html": [
        "<pre>PROGRESS: Finished prediction in 0.025391s</pre>"
       ],
       "metadata": {},
       "output_type": "display_data",
       "text": [
        "PROGRESS: Finished prediction in 0.025391s"
       ]
      },
      {
       "html": [
        "<pre>PROGRESS: Recsys training: model = item_similarity</pre>"
       ],
       "metadata": {},
       "output_type": "display_data",
       "text": [
        "PROGRESS: Recsys training: model = item_similarity"
       ]
      },
      {
       "html": [
        "<pre>PROGRESS: Finished prediction in 0.031806s</pre>"
       ],
       "metadata": {},
       "output_type": "display_data",
       "text": [
        "PROGRESS: Finished prediction in 0.031806s"
       ]
      },
      {
       "html": [
        "<pre>PROGRESS: Recsys training: model = item_similarity</pre>"
       ],
       "metadata": {},
       "output_type": "display_data",
       "text": [
        "PROGRESS: Recsys training: model = item_similarity"
       ]
      },
      {
       "html": [
        "<pre>PROGRESS: Finished prediction in 0.023351s</pre>"
       ],
       "metadata": {},
       "output_type": "display_data",
       "text": [
        "PROGRESS: Finished prediction in 0.023351s"
       ]
      },
      {
       "html": [
        "<pre>PROGRESS: Recsys training: model = item_similarity</pre>"
       ],
       "metadata": {},
       "output_type": "display_data",
       "text": [
        "PROGRESS: Recsys training: model = item_similarity"
       ]
      },
      {
       "html": [
        "<pre>PROGRESS: Finished prediction in 0.026448s</pre>"
       ],
       "metadata": {},
       "output_type": "display_data",
       "text": [
        "PROGRESS: Finished prediction in 0.026448s"
       ]
      },
      {
       "html": [
        "<pre>PROGRESS: Recsys training: model = item_similarity</pre>"
       ],
       "metadata": {},
       "output_type": "display_data",
       "text": [
        "PROGRESS: Recsys training: model = item_similarity"
       ]
      },
      {
       "html": [
        "<pre>PROGRESS: Finished prediction in 0.025164s</pre>"
       ],
       "metadata": {},
       "output_type": "display_data",
       "text": [
        "PROGRESS: Finished prediction in 0.025164s"
       ]
      },
      {
       "html": [
        "<pre>PROGRESS: Recsys training: model = item_similarity</pre>"
       ],
       "metadata": {},
       "output_type": "display_data",
       "text": [
        "PROGRESS: Recsys training: model = item_similarity"
       ]
      },
      {
       "html": [
        "<pre>PROGRESS: Finished prediction in 0.023419s</pre>"
       ],
       "metadata": {},
       "output_type": "display_data",
       "text": [
        "PROGRESS: Finished prediction in 0.023419s"
       ]
      },
      {
       "html": [
        "<pre>PROGRESS: Recsys training: model = item_similarity</pre>"
       ],
       "metadata": {},
       "output_type": "display_data",
       "text": [
        "PROGRESS: Recsys training: model = item_similarity"
       ]
      },
      {
       "html": [
        "<pre>PROGRESS: Finished prediction in 0.022143s</pre>"
       ],
       "metadata": {},
       "output_type": "display_data",
       "text": [
        "PROGRESS: Finished prediction in 0.022143s"
       ]
      },
      {
       "html": [
        "<pre>PROGRESS: Recsys training: model = item_similarity</pre>"
       ],
       "metadata": {},
       "output_type": "display_data",
       "text": [
        "PROGRESS: Recsys training: model = item_similarity"
       ]
      },
      {
       "html": [
        "<pre>PROGRESS: Finished prediction in 0.027429s</pre>"
       ],
       "metadata": {},
       "output_type": "display_data",
       "text": [
        "PROGRESS: Finished prediction in 0.027429s"
       ]
      },
      {
       "html": [
        "<pre>PROGRESS: Recsys training: model = item_similarity</pre>"
       ],
       "metadata": {},
       "output_type": "display_data",
       "text": [
        "PROGRESS: Recsys training: model = item_similarity"
       ]
      },
      {
       "html": [
        "<pre>PROGRESS: Finished prediction in 0.023645s</pre>"
       ],
       "metadata": {},
       "output_type": "display_data",
       "text": [
        "PROGRESS: Finished prediction in 0.023645s"
       ]
      },
      {
       "html": [
        "<pre>PROGRESS: Recsys training: model = item_similarity</pre>"
       ],
       "metadata": {},
       "output_type": "display_data",
       "text": [
        "PROGRESS: Recsys training: model = item_similarity"
       ]
      },
      {
       "html": [
        "<pre>PROGRESS: Finished prediction in 0.024426s</pre>"
       ],
       "metadata": {},
       "output_type": "display_data",
       "text": [
        "PROGRESS: Finished prediction in 0.024426s"
       ]
      },
      {
       "html": [
        "<pre>PROGRESS: Recsys training: model = item_similarity</pre>"
       ],
       "metadata": {},
       "output_type": "display_data",
       "text": [
        "PROGRESS: Recsys training: model = item_similarity"
       ]
      },
      {
       "html": [
        "<pre>PROGRESS: Finished prediction in 0.024089s</pre>"
       ],
       "metadata": {},
       "output_type": "display_data",
       "text": [
        "PROGRESS: Finished prediction in 0.024089s"
       ]
      },
      {
       "html": [
        "<pre>PROGRESS: Recsys training: model = item_similarity</pre>"
       ],
       "metadata": {},
       "output_type": "display_data",
       "text": [
        "PROGRESS: Recsys training: model = item_similarity"
       ]
      },
      {
       "html": [
        "<pre>PROGRESS: Finished prediction in 0.028479s</pre>"
       ],
       "metadata": {},
       "output_type": "display_data",
       "text": [
        "PROGRESS: Finished prediction in 0.028479s"
       ]
      },
      {
       "html": [
        "<pre>PROGRESS: Recsys training: model = item_similarity</pre>"
       ],
       "metadata": {},
       "output_type": "display_data",
       "text": [
        "PROGRESS: Recsys training: model = item_similarity"
       ]
      },
      {
       "html": [
        "<pre>PROGRESS: Finished prediction in 0.026467s</pre>"
       ],
       "metadata": {},
       "output_type": "display_data",
       "text": [
        "PROGRESS: Finished prediction in 0.026467s"
       ]
      },
      {
       "html": [
        "<pre>PROGRESS: Recsys training: model = item_similarity</pre>"
       ],
       "metadata": {},
       "output_type": "display_data",
       "text": [
        "PROGRESS: Recsys training: model = item_similarity"
       ]
      },
      {
       "html": [
        "<pre>PROGRESS: Finished prediction in 0.027766s</pre>"
       ],
       "metadata": {},
       "output_type": "display_data",
       "text": [
        "PROGRESS: Finished prediction in 0.027766s"
       ]
      },
      {
       "html": [
        "<pre>PROGRESS: Recsys training: model = item_similarity</pre>"
       ],
       "metadata": {},
       "output_type": "display_data",
       "text": [
        "PROGRESS: Recsys training: model = item_similarity"
       ]
      },
      {
       "html": [
        "<pre>PROGRESS: Finished prediction in 0.025057s</pre>"
       ],
       "metadata": {},
       "output_type": "display_data",
       "text": [
        "PROGRESS: Finished prediction in 0.025057s"
       ]
      },
      {
       "html": [
        "<pre>PROGRESS: Recsys training: model = item_similarity</pre>"
       ],
       "metadata": {},
       "output_type": "display_data",
       "text": [
        "PROGRESS: Recsys training: model = item_similarity"
       ]
      },
      {
       "html": [
        "<pre>PROGRESS: Finished prediction in 0.018942s</pre>"
       ],
       "metadata": {},
       "output_type": "display_data",
       "text": [
        "PROGRESS: Finished prediction in 0.018942s"
       ]
      },
      {
       "html": [
        "<pre>PROGRESS: Recsys training: model = item_similarity</pre>"
       ],
       "metadata": {},
       "output_type": "display_data",
       "text": [
        "PROGRESS: Recsys training: model = item_similarity"
       ]
      },
      {
       "html": [
        "<pre>PROGRESS: Finished prediction in 0.01605s</pre>"
       ],
       "metadata": {},
       "output_type": "display_data",
       "text": [
        "PROGRESS: Finished prediction in 0.01605s"
       ]
      },
      {
       "html": [
        "<pre>PROGRESS: Recsys training: model = item_similarity</pre>"
       ],
       "metadata": {},
       "output_type": "display_data",
       "text": [
        "PROGRESS: Recsys training: model = item_similarity"
       ]
      },
      {
       "html": [
        "<pre>PROGRESS: Finished prediction in 0.017851s</pre>"
       ],
       "metadata": {},
       "output_type": "display_data",
       "text": [
        "PROGRESS: Finished prediction in 0.017851s"
       ]
      },
      {
       "html": [
        "<pre>PROGRESS: Recsys training: model = item_similarity</pre>"
       ],
       "metadata": {},
       "output_type": "display_data",
       "text": [
        "PROGRESS: Recsys training: model = item_similarity"
       ]
      },
      {
       "html": [
        "<pre>PROGRESS: Finished prediction in 0.016605s</pre>"
       ],
       "metadata": {},
       "output_type": "display_data",
       "text": [
        "PROGRESS: Finished prediction in 0.016605s"
       ]
      },
      {
       "html": [
        "<pre>PROGRESS: Recsys training: model = item_similarity</pre>"
       ],
       "metadata": {},
       "output_type": "display_data",
       "text": [
        "PROGRESS: Recsys training: model = item_similarity"
       ]
      },
      {
       "html": [
        "<pre>PROGRESS: Finished prediction in 0.016979s</pre>"
       ],
       "metadata": {},
       "output_type": "display_data",
       "text": [
        "PROGRESS: Finished prediction in 0.016979s"
       ]
      },
      {
       "html": [
        "<pre>PROGRESS: Recsys training: model = item_similarity</pre>"
       ],
       "metadata": {},
       "output_type": "display_data",
       "text": [
        "PROGRESS: Recsys training: model = item_similarity"
       ]
      },
      {
       "html": [
        "<pre>PROGRESS: Finished prediction in 0.015404s</pre>"
       ],
       "metadata": {},
       "output_type": "display_data",
       "text": [
        "PROGRESS: Finished prediction in 0.015404s"
       ]
      },
      {
       "html": [
        "<pre>PROGRESS: Recsys training: model = item_similarity</pre>"
       ],
       "metadata": {},
       "output_type": "display_data",
       "text": [
        "PROGRESS: Recsys training: model = item_similarity"
       ]
      },
      {
       "html": [
        "<pre>PROGRESS: Finished prediction in 0.020088s</pre>"
       ],
       "metadata": {},
       "output_type": "display_data",
       "text": [
        "PROGRESS: Finished prediction in 0.020088s"
       ]
      },
      {
       "html": [
        "<pre>PROGRESS: Recsys training: model = item_similarity</pre>"
       ],
       "metadata": {},
       "output_type": "display_data",
       "text": [
        "PROGRESS: Recsys training: model = item_similarity"
       ]
      },
      {
       "html": [
        "<pre>PROGRESS: Finished prediction in 0.020251s</pre>"
       ],
       "metadata": {},
       "output_type": "display_data",
       "text": [
        "PROGRESS: Finished prediction in 0.020251s"
       ]
      },
      {
       "html": [
        "<pre>PROGRESS: Recsys training: model = item_similarity</pre>"
       ],
       "metadata": {},
       "output_type": "display_data",
       "text": [
        "PROGRESS: Recsys training: model = item_similarity"
       ]
      },
      {
       "html": [
        "<pre>PROGRESS: Finished prediction in 0.026858s</pre>"
       ],
       "metadata": {},
       "output_type": "display_data",
       "text": [
        "PROGRESS: Finished prediction in 0.026858s"
       ]
      },
      {
       "html": [
        "<pre>PROGRESS: Recsys training: model = item_similarity</pre>"
       ],
       "metadata": {},
       "output_type": "display_data",
       "text": [
        "PROGRESS: Recsys training: model = item_similarity"
       ]
      },
      {
       "html": [
        "<pre>PROGRESS: Finished prediction in 0.019757s</pre>"
       ],
       "metadata": {},
       "output_type": "display_data",
       "text": [
        "PROGRESS: Finished prediction in 0.019757s"
       ]
      },
      {
       "html": [
        "<pre>PROGRESS: Recsys training: model = item_similarity</pre>"
       ],
       "metadata": {},
       "output_type": "display_data",
       "text": [
        "PROGRESS: Recsys training: model = item_similarity"
       ]
      },
      {
       "html": [
        "<pre>PROGRESS: Finished prediction in 0.026438s</pre>"
       ],
       "metadata": {},
       "output_type": "display_data",
       "text": [
        "PROGRESS: Finished prediction in 0.026438s"
       ]
      },
      {
       "html": [
        "<pre>PROGRESS: Recsys training: model = item_similarity</pre>"
       ],
       "metadata": {},
       "output_type": "display_data",
       "text": [
        "PROGRESS: Recsys training: model = item_similarity"
       ]
      },
      {
       "html": [
        "<pre>PROGRESS: Finished prediction in 0.021634s</pre>"
       ],
       "metadata": {},
       "output_type": "display_data",
       "text": [
        "PROGRESS: Finished prediction in 0.021634s"
       ]
      },
      {
       "html": [
        "<pre>PROGRESS: Recsys training: model = item_similarity</pre>"
       ],
       "metadata": {},
       "output_type": "display_data",
       "text": [
        "PROGRESS: Recsys training: model = item_similarity"
       ]
      },
      {
       "html": [
        "<pre>PROGRESS: Finished prediction in 0.021828s</pre>"
       ],
       "metadata": {},
       "output_type": "display_data",
       "text": [
        "PROGRESS: Finished prediction in 0.021828s"
       ]
      },
      {
       "html": [
        "<pre>PROGRESS: Recsys training: model = item_similarity</pre>"
       ],
       "metadata": {},
       "output_type": "display_data",
       "text": [
        "PROGRESS: Recsys training: model = item_similarity"
       ]
      },
      {
       "html": [
        "<pre>PROGRESS: Finished prediction in 0.019779s</pre>"
       ],
       "metadata": {},
       "output_type": "display_data",
       "text": [
        "PROGRESS: Finished prediction in 0.019779s"
       ]
      },
      {
       "html": [
        "<pre>PROGRESS: Recsys training: model = item_similarity</pre>"
       ],
       "metadata": {},
       "output_type": "display_data",
       "text": [
        "PROGRESS: Recsys training: model = item_similarity"
       ]
      },
      {
       "html": [
        "<pre>PROGRESS: Finished prediction in 0.023932s</pre>"
       ],
       "metadata": {},
       "output_type": "display_data",
       "text": [
        "PROGRESS: Finished prediction in 0.023932s"
       ]
      },
      {
       "html": [
        "<pre>PROGRESS: Recsys training: model = item_similarity</pre>"
       ],
       "metadata": {},
       "output_type": "display_data",
       "text": [
        "PROGRESS: Recsys training: model = item_similarity"
       ]
      },
      {
       "html": [
        "<pre>PROGRESS: Finished prediction in 0.020697s</pre>"
       ],
       "metadata": {},
       "output_type": "display_data",
       "text": [
        "PROGRESS: Finished prediction in 0.020697s"
       ]
      },
      {
       "html": [
        "<pre>PROGRESS: Recsys training: model = item_similarity</pre>"
       ],
       "metadata": {},
       "output_type": "display_data",
       "text": [
        "PROGRESS: Recsys training: model = item_similarity"
       ]
      },
      {
       "html": [
        "<pre>PROGRESS: Finished prediction in 0.022193s</pre>"
       ],
       "metadata": {},
       "output_type": "display_data",
       "text": [
        "PROGRESS: Finished prediction in 0.022193s"
       ]
      },
      {
       "html": [
        "<pre>PROGRESS: Recsys training: model = item_similarity</pre>"
       ],
       "metadata": {},
       "output_type": "display_data",
       "text": [
        "PROGRESS: Recsys training: model = item_similarity"
       ]
      },
      {
       "html": [
        "<pre>PROGRESS: Finished prediction in 0.028885s</pre>"
       ],
       "metadata": {},
       "output_type": "display_data",
       "text": [
        "PROGRESS: Finished prediction in 0.028885s"
       ]
      },
      {
       "html": [
        "<pre>PROGRESS: Recsys training: model = item_similarity</pre>"
       ],
       "metadata": {},
       "output_type": "display_data",
       "text": [
        "PROGRESS: Recsys training: model = item_similarity"
       ]
      },
      {
       "html": [
        "<pre>PROGRESS: Finished prediction in 0.02812s</pre>"
       ],
       "metadata": {},
       "output_type": "display_data",
       "text": [
        "PROGRESS: Finished prediction in 0.02812s"
       ]
      },
      {
       "html": [
        "<pre>PROGRESS: Recsys training: model = item_similarity</pre>"
       ],
       "metadata": {},
       "output_type": "display_data",
       "text": [
        "PROGRESS: Recsys training: model = item_similarity"
       ]
      },
      {
       "html": [
        "<pre>PROGRESS: Finished prediction in 0.024737s</pre>"
       ],
       "metadata": {},
       "output_type": "display_data",
       "text": [
        "PROGRESS: Finished prediction in 0.024737s"
       ]
      },
      {
       "html": [
        "<pre>PROGRESS: Recsys training: model = item_similarity</pre>"
       ],
       "metadata": {},
       "output_type": "display_data",
       "text": [
        "PROGRESS: Recsys training: model = item_similarity"
       ]
      },
      {
       "html": [
        "<pre>PROGRESS: Finished prediction in 0.022807s</pre>"
       ],
       "metadata": {},
       "output_type": "display_data",
       "text": [
        "PROGRESS: Finished prediction in 0.022807s"
       ]
      },
      {
       "html": [
        "<pre>PROGRESS: Recsys training: model = item_similarity</pre>"
       ],
       "metadata": {},
       "output_type": "display_data",
       "text": [
        "PROGRESS: Recsys training: model = item_similarity"
       ]
      },
      {
       "html": [
        "<pre>PROGRESS: Finished prediction in 0.023883s</pre>"
       ],
       "metadata": {},
       "output_type": "display_data",
       "text": [
        "PROGRESS: Finished prediction in 0.023883s"
       ]
      },
      {
       "html": [
        "<pre>PROGRESS: Recsys training: model = item_similarity</pre>"
       ],
       "metadata": {},
       "output_type": "display_data",
       "text": [
        "PROGRESS: Recsys training: model = item_similarity"
       ]
      },
      {
       "html": [
        "<pre>PROGRESS: Finished prediction in 0.032093s</pre>"
       ],
       "metadata": {},
       "output_type": "display_data",
       "text": [
        "PROGRESS: Finished prediction in 0.032093s"
       ]
      },
      {
       "html": [
        "<pre>PROGRESS: Recsys training: model = item_similarity</pre>"
       ],
       "metadata": {},
       "output_type": "display_data",
       "text": [
        "PROGRESS: Recsys training: model = item_similarity"
       ]
      },
      {
       "html": [
        "<pre>PROGRESS: Finished prediction in 0.023993s</pre>"
       ],
       "metadata": {},
       "output_type": "display_data",
       "text": [
        "PROGRESS: Finished prediction in 0.023993s"
       ]
      },
      {
       "html": [
        "<pre>PROGRESS: Recsys training: model = item_similarity</pre>"
       ],
       "metadata": {},
       "output_type": "display_data",
       "text": [
        "PROGRESS: Recsys training: model = item_similarity"
       ]
      },
      {
       "html": [
        "<pre>PROGRESS: Finished prediction in 0.027314s</pre>"
       ],
       "metadata": {},
       "output_type": "display_data",
       "text": [
        "PROGRESS: Finished prediction in 0.027314s"
       ]
      },
      {
       "html": [
        "<pre>PROGRESS: Recsys training: model = item_similarity</pre>"
       ],
       "metadata": {},
       "output_type": "display_data",
       "text": [
        "PROGRESS: Recsys training: model = item_similarity"
       ]
      },
      {
       "html": [
        "<pre>PROGRESS: Finished prediction in 0.033408s</pre>"
       ],
       "metadata": {},
       "output_type": "display_data",
       "text": [
        "PROGRESS: Finished prediction in 0.033408s"
       ]
      },
      {
       "html": [
        "<pre>PROGRESS: Recsys training: model = item_similarity</pre>"
       ],
       "metadata": {},
       "output_type": "display_data",
       "text": [
        "PROGRESS: Recsys training: model = item_similarity"
       ]
      },
      {
       "html": [
        "<pre>PROGRESS: Finished prediction in 0.028416s</pre>"
       ],
       "metadata": {},
       "output_type": "display_data",
       "text": [
        "PROGRESS: Finished prediction in 0.028416s"
       ]
      },
      {
       "html": [
        "<pre>PROGRESS: Recsys training: model = item_similarity</pre>"
       ],
       "metadata": {},
       "output_type": "display_data",
       "text": [
        "PROGRESS: Recsys training: model = item_similarity"
       ]
      },
      {
       "html": [
        "<pre>PROGRESS: Finished prediction in 0.02874s</pre>"
       ],
       "metadata": {},
       "output_type": "display_data",
       "text": [
        "PROGRESS: Finished prediction in 0.02874s"
       ]
      },
      {
       "html": [
        "<pre>PROGRESS: Recsys training: model = item_similarity</pre>"
       ],
       "metadata": {},
       "output_type": "display_data",
       "text": [
        "PROGRESS: Recsys training: model = item_similarity"
       ]
      },
      {
       "html": [
        "<pre>PROGRESS: Finished prediction in 0.031325s</pre>"
       ],
       "metadata": {},
       "output_type": "display_data",
       "text": [
        "PROGRESS: Finished prediction in 0.031325s"
       ]
      },
      {
       "html": [
        "<pre>PROGRESS: Recsys training: model = item_similarity</pre>"
       ],
       "metadata": {},
       "output_type": "display_data",
       "text": [
        "PROGRESS: Recsys training: model = item_similarity"
       ]
      },
      {
       "html": [
        "<pre>PROGRESS: Finished prediction in 0.031738s</pre>"
       ],
       "metadata": {},
       "output_type": "display_data",
       "text": [
        "PROGRESS: Finished prediction in 0.031738s"
       ]
      },
      {
       "html": [
        "<pre>PROGRESS: Recsys training: model = item_similarity</pre>"
       ],
       "metadata": {},
       "output_type": "display_data",
       "text": [
        "PROGRESS: Recsys training: model = item_similarity"
       ]
      },
      {
       "html": [
        "<pre>PROGRESS: Finished prediction in 0.013519s</pre>"
       ],
       "metadata": {},
       "output_type": "display_data",
       "text": [
        "PROGRESS: Finished prediction in 0.013519s"
       ]
      },
      {
       "html": [
        "<pre>PROGRESS: Recsys training: model = item_similarity</pre>"
       ],
       "metadata": {},
       "output_type": "display_data",
       "text": [
        "PROGRESS: Recsys training: model = item_similarity"
       ]
      },
      {
       "html": [
        "<pre>PROGRESS: Finished prediction in 0.012595s</pre>"
       ],
       "metadata": {},
       "output_type": "display_data",
       "text": [
        "PROGRESS: Finished prediction in 0.012595s"
       ]
      },
      {
       "html": [
        "<pre>PROGRESS: Recsys training: model = item_similarity</pre>"
       ],
       "metadata": {},
       "output_type": "display_data",
       "text": [
        "PROGRESS: Recsys training: model = item_similarity"
       ]
      },
      {
       "html": [
        "<pre>PROGRESS: Finished prediction in 0.016373s</pre>"
       ],
       "metadata": {},
       "output_type": "display_data",
       "text": [
        "PROGRESS: Finished prediction in 0.016373s"
       ]
      },
      {
       "html": [
        "<pre>PROGRESS: Recsys training: model = item_similarity</pre>"
       ],
       "metadata": {},
       "output_type": "display_data",
       "text": [
        "PROGRESS: Recsys training: model = item_similarity"
       ]
      },
      {
       "html": [
        "<pre>PROGRESS: Finished prediction in 0.014536s</pre>"
       ],
       "metadata": {},
       "output_type": "display_data",
       "text": [
        "PROGRESS: Finished prediction in 0.014536s"
       ]
      },
      {
       "html": [
        "<pre>PROGRESS: Recsys training: model = item_similarity</pre>"
       ],
       "metadata": {},
       "output_type": "display_data",
       "text": [
        "PROGRESS: Recsys training: model = item_similarity"
       ]
      },
      {
       "html": [
        "<pre>PROGRESS: Finished prediction in 0.016411s</pre>"
       ],
       "metadata": {},
       "output_type": "display_data",
       "text": [
        "PROGRESS: Finished prediction in 0.016411s"
       ]
      },
      {
       "html": [
        "<pre>PROGRESS: Recsys training: model = item_similarity</pre>"
       ],
       "metadata": {},
       "output_type": "display_data",
       "text": [
        "PROGRESS: Recsys training: model = item_similarity"
       ]
      },
      {
       "html": [
        "<pre>PROGRESS: Finished prediction in 0.014363s</pre>"
       ],
       "metadata": {},
       "output_type": "display_data",
       "text": [
        "PROGRESS: Finished prediction in 0.014363s"
       ]
      },
      {
       "html": [
        "<pre>PROGRESS: Recsys training: model = item_similarity</pre>"
       ],
       "metadata": {},
       "output_type": "display_data",
       "text": [
        "PROGRESS: Recsys training: model = item_similarity"
       ]
      },
      {
       "html": [
        "<pre>PROGRESS: Finished prediction in 0.017399s</pre>"
       ],
       "metadata": {},
       "output_type": "display_data",
       "text": [
        "PROGRESS: Finished prediction in 0.017399s"
       ]
      },
      {
       "html": [
        "<pre>PROGRESS: Recsys training: model = item_similarity</pre>"
       ],
       "metadata": {},
       "output_type": "display_data",
       "text": [
        "PROGRESS: Recsys training: model = item_similarity"
       ]
      },
      {
       "html": [
        "<pre>PROGRESS: Finished prediction in 0.019718s</pre>"
       ],
       "metadata": {},
       "output_type": "display_data",
       "text": [
        "PROGRESS: Finished prediction in 0.019718s"
       ]
      },
      {
       "html": [
        "<pre>PROGRESS: Recsys training: model = item_similarity</pre>"
       ],
       "metadata": {},
       "output_type": "display_data",
       "text": [
        "PROGRESS: Recsys training: model = item_similarity"
       ]
      },
      {
       "html": [
        "<pre>PROGRESS: Finished prediction in 0.017172s</pre>"
       ],
       "metadata": {},
       "output_type": "display_data",
       "text": [
        "PROGRESS: Finished prediction in 0.017172s"
       ]
      },
      {
       "html": [
        "<pre>PROGRESS: Recsys training: model = item_similarity</pre>"
       ],
       "metadata": {},
       "output_type": "display_data",
       "text": [
        "PROGRESS: Recsys training: model = item_similarity"
       ]
      },
      {
       "html": [
        "<pre>PROGRESS: Finished prediction in 0.016719s</pre>"
       ],
       "metadata": {},
       "output_type": "display_data",
       "text": [
        "PROGRESS: Finished prediction in 0.016719s"
       ]
      },
      {
       "html": [
        "<pre>PROGRESS: Recsys training: model = item_similarity</pre>"
       ],
       "metadata": {},
       "output_type": "display_data",
       "text": [
        "PROGRESS: Recsys training: model = item_similarity"
       ]
      },
      {
       "html": [
        "<pre>PROGRESS: Finished prediction in 0.02136s</pre>"
       ],
       "metadata": {},
       "output_type": "display_data",
       "text": [
        "PROGRESS: Finished prediction in 0.02136s"
       ]
      },
      {
       "html": [
        "<pre>PROGRESS: Recsys training: model = item_similarity</pre>"
       ],
       "metadata": {},
       "output_type": "display_data",
       "text": [
        "PROGRESS: Recsys training: model = item_similarity"
       ]
      },
      {
       "html": [
        "<pre>PROGRESS: Finished prediction in 0.02531s</pre>"
       ],
       "metadata": {},
       "output_type": "display_data",
       "text": [
        "PROGRESS: Finished prediction in 0.02531s"
       ]
      },
      {
       "html": [
        "<pre>PROGRESS: Recsys training: model = item_similarity</pre>"
       ],
       "metadata": {},
       "output_type": "display_data",
       "text": [
        "PROGRESS: Recsys training: model = item_similarity"
       ]
      },
      {
       "html": [
        "<pre>PROGRESS: Finished prediction in 0.019525s</pre>"
       ],
       "metadata": {},
       "output_type": "display_data",
       "text": [
        "PROGRESS: Finished prediction in 0.019525s"
       ]
      },
      {
       "html": [
        "<pre>PROGRESS: Recsys training: model = item_similarity</pre>"
       ],
       "metadata": {},
       "output_type": "display_data",
       "text": [
        "PROGRESS: Recsys training: model = item_similarity"
       ]
      },
      {
       "html": [
        "<pre>PROGRESS: Finished prediction in 0.023134s</pre>"
       ],
       "metadata": {},
       "output_type": "display_data",
       "text": [
        "PROGRESS: Finished prediction in 0.023134s"
       ]
      },
      {
       "html": [
        "<pre>PROGRESS: Recsys training: model = item_similarity</pre>"
       ],
       "metadata": {},
       "output_type": "display_data",
       "text": [
        "PROGRESS: Recsys training: model = item_similarity"
       ]
      },
      {
       "html": [
        "<pre>PROGRESS: Finished prediction in 0.022705s</pre>"
       ],
       "metadata": {},
       "output_type": "display_data",
       "text": [
        "PROGRESS: Finished prediction in 0.022705s"
       ]
      },
      {
       "html": [
        "<pre>PROGRESS: Recsys training: model = item_similarity</pre>"
       ],
       "metadata": {},
       "output_type": "display_data",
       "text": [
        "PROGRESS: Recsys training: model = item_similarity"
       ]
      },
      {
       "html": [
        "<pre>PROGRESS: Finished prediction in 0.023541s</pre>"
       ],
       "metadata": {},
       "output_type": "display_data",
       "text": [
        "PROGRESS: Finished prediction in 0.023541s"
       ]
      },
      {
       "html": [
        "<pre>PROGRESS: Recsys training: model = item_similarity</pre>"
       ],
       "metadata": {},
       "output_type": "display_data",
       "text": [
        "PROGRESS: Recsys training: model = item_similarity"
       ]
      },
      {
       "html": [
        "<pre>PROGRESS: Finished prediction in 0.02302s</pre>"
       ],
       "metadata": {},
       "output_type": "display_data",
       "text": [
        "PROGRESS: Finished prediction in 0.02302s"
       ]
      },
      {
       "html": [
        "<pre>PROGRESS: Recsys training: model = item_similarity</pre>"
       ],
       "metadata": {},
       "output_type": "display_data",
       "text": [
        "PROGRESS: Recsys training: model = item_similarity"
       ]
      },
      {
       "html": [
        "<pre>PROGRESS: Finished prediction in 0.021174s</pre>"
       ],
       "metadata": {},
       "output_type": "display_data",
       "text": [
        "PROGRESS: Finished prediction in 0.021174s"
       ]
      },
      {
       "html": [
        "<pre>PROGRESS: Recsys training: model = item_similarity</pre>"
       ],
       "metadata": {},
       "output_type": "display_data",
       "text": [
        "PROGRESS: Recsys training: model = item_similarity"
       ]
      },
      {
       "html": [
        "<pre>PROGRESS: Finished prediction in 0.025056s</pre>"
       ],
       "metadata": {},
       "output_type": "display_data",
       "text": [
        "PROGRESS: Finished prediction in 0.025056s"
       ]
      },
      {
       "html": [
        "<pre>PROGRESS: Recsys training: model = item_similarity</pre>"
       ],
       "metadata": {},
       "output_type": "display_data",
       "text": [
        "PROGRESS: Recsys training: model = item_similarity"
       ]
      },
      {
       "html": [
        "<pre>PROGRESS: Finished prediction in 0.023916s</pre>"
       ],
       "metadata": {},
       "output_type": "display_data",
       "text": [
        "PROGRESS: Finished prediction in 0.023916s"
       ]
      },
      {
       "html": [
        "<pre>PROGRESS: Recsys training: model = item_similarity</pre>"
       ],
       "metadata": {},
       "output_type": "display_data",
       "text": [
        "PROGRESS: Recsys training: model = item_similarity"
       ]
      },
      {
       "html": [
        "<pre>PROGRESS: Finished prediction in 0.022239s</pre>"
       ],
       "metadata": {},
       "output_type": "display_data",
       "text": [
        "PROGRESS: Finished prediction in 0.022239s"
       ]
      },
      {
       "html": [
        "<pre>PROGRESS: Recsys training: model = item_similarity</pre>"
       ],
       "metadata": {},
       "output_type": "display_data",
       "text": [
        "PROGRESS: Recsys training: model = item_similarity"
       ]
      },
      {
       "html": [
        "<pre>PROGRESS: Finished prediction in 0.022387s</pre>"
       ],
       "metadata": {},
       "output_type": "display_data",
       "text": [
        "PROGRESS: Finished prediction in 0.022387s"
       ]
      },
      {
       "html": [
        "<pre>PROGRESS: Recsys training: model = item_similarity</pre>"
       ],
       "metadata": {},
       "output_type": "display_data",
       "text": [
        "PROGRESS: Recsys training: model = item_similarity"
       ]
      },
      {
       "html": [
        "<pre>PROGRESS: Finished prediction in 0.024012s</pre>"
       ],
       "metadata": {},
       "output_type": "display_data",
       "text": [
        "PROGRESS: Finished prediction in 0.024012s"
       ]
      },
      {
       "html": [
        "<pre>PROGRESS: Recsys training: model = item_similarity</pre>"
       ],
       "metadata": {},
       "output_type": "display_data",
       "text": [
        "PROGRESS: Recsys training: model = item_similarity"
       ]
      },
      {
       "html": [
        "<pre>PROGRESS: Finished prediction in 0.024112s</pre>"
       ],
       "metadata": {},
       "output_type": "display_data",
       "text": [
        "PROGRESS: Finished prediction in 0.024112s"
       ]
      },
      {
       "html": [
        "<pre>PROGRESS: Recsys training: model = item_similarity</pre>"
       ],
       "metadata": {},
       "output_type": "display_data",
       "text": [
        "PROGRESS: Recsys training: model = item_similarity"
       ]
      },
      {
       "html": [
        "<pre>PROGRESS: Finished prediction in 0.028032s</pre>"
       ],
       "metadata": {},
       "output_type": "display_data",
       "text": [
        "PROGRESS: Finished prediction in 0.028032s"
       ]
      },
      {
       "html": [
        "<pre>PROGRESS: Recsys training: model = item_similarity</pre>"
       ],
       "metadata": {},
       "output_type": "display_data",
       "text": [
        "PROGRESS: Recsys training: model = item_similarity"
       ]
      },
      {
       "html": [
        "<pre>PROGRESS: Finished prediction in 0.027851s</pre>"
       ],
       "metadata": {},
       "output_type": "display_data",
       "text": [
        "PROGRESS: Finished prediction in 0.027851s"
       ]
      },
      {
       "html": [
        "<pre>PROGRESS: Recsys training: model = item_similarity</pre>"
       ],
       "metadata": {},
       "output_type": "display_data",
       "text": [
        "PROGRESS: Recsys training: model = item_similarity"
       ]
      },
      {
       "html": [
        "<pre>PROGRESS: Finished prediction in 0.025222s</pre>"
       ],
       "metadata": {},
       "output_type": "display_data",
       "text": [
        "PROGRESS: Finished prediction in 0.025222s"
       ]
      },
      {
       "html": [
        "<pre>PROGRESS: Recsys training: model = item_similarity</pre>"
       ],
       "metadata": {},
       "output_type": "display_data",
       "text": [
        "PROGRESS: Recsys training: model = item_similarity"
       ]
      },
      {
       "html": [
        "<pre>PROGRESS: Finished prediction in 0.02526s</pre>"
       ],
       "metadata": {},
       "output_type": "display_data",
       "text": [
        "PROGRESS: Finished prediction in 0.02526s"
       ]
      },
      {
       "html": [
        "<pre>PROGRESS: Recsys training: model = item_similarity</pre>"
       ],
       "metadata": {},
       "output_type": "display_data",
       "text": [
        "PROGRESS: Recsys training: model = item_similarity"
       ]
      },
      {
       "html": [
        "<pre>PROGRESS: Finished prediction in 0.022269s</pre>"
       ],
       "metadata": {},
       "output_type": "display_data",
       "text": [
        "PROGRESS: Finished prediction in 0.022269s"
       ]
      },
      {
       "html": [
        "<pre>PROGRESS: Recsys training: model = item_similarity</pre>"
       ],
       "metadata": {},
       "output_type": "display_data",
       "text": [
        "PROGRESS: Recsys training: model = item_similarity"
       ]
      },
      {
       "html": [
        "<pre>PROGRESS: Finished prediction in 0.023879s</pre>"
       ],
       "metadata": {},
       "output_type": "display_data",
       "text": [
        "PROGRESS: Finished prediction in 0.023879s"
       ]
      },
      {
       "html": [
        "<pre>PROGRESS: Recsys training: model = item_similarity</pre>"
       ],
       "metadata": {},
       "output_type": "display_data",
       "text": [
        "PROGRESS: Recsys training: model = item_similarity"
       ]
      },
      {
       "html": [
        "<pre>PROGRESS: Finished prediction in 0.013982s</pre>"
       ],
       "metadata": {},
       "output_type": "display_data",
       "text": [
        "PROGRESS: Finished prediction in 0.013982s"
       ]
      },
      {
       "html": [
        "<pre>PROGRESS: Recsys training: model = item_similarity</pre>"
       ],
       "metadata": {},
       "output_type": "display_data",
       "text": [
        "PROGRESS: Recsys training: model = item_similarity"
       ]
      },
      {
       "html": [
        "<pre>PROGRESS: Finished prediction in 0.012868s</pre>"
       ],
       "metadata": {},
       "output_type": "display_data",
       "text": [
        "PROGRESS: Finished prediction in 0.012868s"
       ]
      },
      {
       "html": [
        "<pre>PROGRESS: Recsys training: model = item_similarity</pre>"
       ],
       "metadata": {},
       "output_type": "display_data",
       "text": [
        "PROGRESS: Recsys training: model = item_similarity"
       ]
      },
      {
       "html": [
        "<pre>PROGRESS: Finished prediction in 0.013651s</pre>"
       ],
       "metadata": {},
       "output_type": "display_data",
       "text": [
        "PROGRESS: Finished prediction in 0.013651s"
       ]
      },
      {
       "html": [
        "<pre>PROGRESS: Recsys training: model = item_similarity</pre>"
       ],
       "metadata": {},
       "output_type": "display_data",
       "text": [
        "PROGRESS: Recsys training: model = item_similarity"
       ]
      },
      {
       "html": [
        "<pre>PROGRESS: Finished prediction in 0.015053s</pre>"
       ],
       "metadata": {},
       "output_type": "display_data",
       "text": [
        "PROGRESS: Finished prediction in 0.015053s"
       ]
      },
      {
       "html": [
        "<pre>PROGRESS: Recsys training: model = item_similarity</pre>"
       ],
       "metadata": {},
       "output_type": "display_data",
       "text": [
        "PROGRESS: Recsys training: model = item_similarity"
       ]
      },
      {
       "html": [
        "<pre>PROGRESS: Finished prediction in 0.015904s</pre>"
       ],
       "metadata": {},
       "output_type": "display_data",
       "text": [
        "PROGRESS: Finished prediction in 0.015904s"
       ]
      },
      {
       "html": [
        "<pre>PROGRESS: Recsys training: model = item_similarity</pre>"
       ],
       "metadata": {},
       "output_type": "display_data",
       "text": [
        "PROGRESS: Recsys training: model = item_similarity"
       ]
      },
      {
       "html": [
        "<pre>PROGRESS: Finished prediction in 0.015305s</pre>"
       ],
       "metadata": {},
       "output_type": "display_data",
       "text": [
        "PROGRESS: Finished prediction in 0.015305s"
       ]
      },
      {
       "html": [
        "<pre>PROGRESS: Recsys training: model = item_similarity</pre>"
       ],
       "metadata": {},
       "output_type": "display_data",
       "text": [
        "PROGRESS: Recsys training: model = item_similarity"
       ]
      },
      {
       "html": [
        "<pre>PROGRESS: Finished prediction in 0.019819s</pre>"
       ],
       "metadata": {},
       "output_type": "display_data",
       "text": [
        "PROGRESS: Finished prediction in 0.019819s"
       ]
      },
      {
       "html": [
        "<pre>PROGRESS: Recsys training: model = item_similarity</pre>"
       ],
       "metadata": {},
       "output_type": "display_data",
       "text": [
        "PROGRESS: Recsys training: model = item_similarity"
       ]
      },
      {
       "html": [
        "<pre>PROGRESS: Finished prediction in 0.02015s</pre>"
       ],
       "metadata": {},
       "output_type": "display_data",
       "text": [
        "PROGRESS: Finished prediction in 0.02015s"
       ]
      },
      {
       "html": [
        "<pre>PROGRESS: Recsys training: model = item_similarity</pre>"
       ],
       "metadata": {},
       "output_type": "display_data",
       "text": [
        "PROGRESS: Recsys training: model = item_similarity"
       ]
      },
      {
       "html": [
        "<pre>PROGRESS: Finished prediction in 0.020083s</pre>"
       ],
       "metadata": {},
       "output_type": "display_data",
       "text": [
        "PROGRESS: Finished prediction in 0.020083s"
       ]
      },
      {
       "html": [
        "<pre>PROGRESS: Recsys training: model = item_similarity</pre>"
       ],
       "metadata": {},
       "output_type": "display_data",
       "text": [
        "PROGRESS: Recsys training: model = item_similarity"
       ]
      },
      {
       "html": [
        "<pre>PROGRESS: Finished prediction in 0.02016s</pre>"
       ],
       "metadata": {},
       "output_type": "display_data",
       "text": [
        "PROGRESS: Finished prediction in 0.02016s"
       ]
      },
      {
       "html": [
        "<pre>PROGRESS: Recsys training: model = item_similarity</pre>"
       ],
       "metadata": {},
       "output_type": "display_data",
       "text": [
        "PROGRESS: Recsys training: model = item_similarity"
       ]
      },
      {
       "html": [
        "<pre>PROGRESS: Finished prediction in 0.021279s</pre>"
       ],
       "metadata": {},
       "output_type": "display_data",
       "text": [
        "PROGRESS: Finished prediction in 0.021279s"
       ]
      },
      {
       "html": [
        "<pre>PROGRESS: Recsys training: model = item_similarity</pre>"
       ],
       "metadata": {},
       "output_type": "display_data",
       "text": [
        "PROGRESS: Recsys training: model = item_similarity"
       ]
      },
      {
       "html": [
        "<pre>PROGRESS: Finished prediction in 0.021933s</pre>"
       ],
       "metadata": {},
       "output_type": "display_data",
       "text": [
        "PROGRESS: Finished prediction in 0.021933s"
       ]
      },
      {
       "html": [
        "<pre>PROGRESS: Recsys training: model = item_similarity</pre>"
       ],
       "metadata": {},
       "output_type": "display_data",
       "text": [
        "PROGRESS: Recsys training: model = item_similarity"
       ]
      },
      {
       "html": [
        "<pre>PROGRESS: Finished prediction in 0.021619s</pre>"
       ],
       "metadata": {},
       "output_type": "display_data",
       "text": [
        "PROGRESS: Finished prediction in 0.021619s"
       ]
      },
      {
       "html": [
        "<pre>PROGRESS: Recsys training: model = item_similarity</pre>"
       ],
       "metadata": {},
       "output_type": "display_data",
       "text": [
        "PROGRESS: Recsys training: model = item_similarity"
       ]
      },
      {
       "html": [
        "<pre>PROGRESS: Finished prediction in 0.022782s</pre>"
       ],
       "metadata": {},
       "output_type": "display_data",
       "text": [
        "PROGRESS: Finished prediction in 0.022782s"
       ]
      },
      {
       "html": [
        "<pre>PROGRESS: Recsys training: model = item_similarity</pre>"
       ],
       "metadata": {},
       "output_type": "display_data",
       "text": [
        "PROGRESS: Recsys training: model = item_similarity"
       ]
      },
      {
       "html": [
        "<pre>PROGRESS: Finished prediction in 0.023727s</pre>"
       ],
       "metadata": {},
       "output_type": "display_data",
       "text": [
        "PROGRESS: Finished prediction in 0.023727s"
       ]
      },
      {
       "html": [
        "<pre>PROGRESS: Recsys training: model = item_similarity</pre>"
       ],
       "metadata": {},
       "output_type": "display_data",
       "text": [
        "PROGRESS: Recsys training: model = item_similarity"
       ]
      },
      {
       "html": [
        "<pre>PROGRESS: Finished prediction in 0.022029s</pre>"
       ],
       "metadata": {},
       "output_type": "display_data",
       "text": [
        "PROGRESS: Finished prediction in 0.022029s"
       ]
      },
      {
       "html": [
        "<pre>PROGRESS: Recsys training: model = item_similarity</pre>"
       ],
       "metadata": {},
       "output_type": "display_data",
       "text": [
        "PROGRESS: Recsys training: model = item_similarity"
       ]
      },
      {
       "html": [
        "<pre>PROGRESS: Finished prediction in 0.021222s</pre>"
       ],
       "metadata": {},
       "output_type": "display_data",
       "text": [
        "PROGRESS: Finished prediction in 0.021222s"
       ]
      },
      {
       "html": [
        "<pre>PROGRESS: Recsys training: model = item_similarity</pre>"
       ],
       "metadata": {},
       "output_type": "display_data",
       "text": [
        "PROGRESS: Recsys training: model = item_similarity"
       ]
      },
      {
       "html": [
        "<pre>PROGRESS: Finished prediction in 0.027147s</pre>"
       ],
       "metadata": {},
       "output_type": "display_data",
       "text": [
        "PROGRESS: Finished prediction in 0.027147s"
       ]
      },
      {
       "html": [
        "<pre>PROGRESS: Recsys training: model = item_similarity</pre>"
       ],
       "metadata": {},
       "output_type": "display_data",
       "text": [
        "PROGRESS: Recsys training: model = item_similarity"
       ]
      },
      {
       "html": [
        "<pre>PROGRESS: Finished prediction in 0.030915s</pre>"
       ],
       "metadata": {},
       "output_type": "display_data",
       "text": [
        "PROGRESS: Finished prediction in 0.030915s"
       ]
      },
      {
       "html": [
        "<pre>PROGRESS: Recsys training: model = item_similarity</pre>"
       ],
       "metadata": {},
       "output_type": "display_data",
       "text": [
        "PROGRESS: Recsys training: model = item_similarity"
       ]
      },
      {
       "html": [
        "<pre>PROGRESS: Finished prediction in 0.025945s</pre>"
       ],
       "metadata": {},
       "output_type": "display_data",
       "text": [
        "PROGRESS: Finished prediction in 0.025945s"
       ]
      },
      {
       "html": [
        "<pre>PROGRESS: Recsys training: model = item_similarity</pre>"
       ],
       "metadata": {},
       "output_type": "display_data",
       "text": [
        "PROGRESS: Recsys training: model = item_similarity"
       ]
      },
      {
       "html": [
        "<pre>PROGRESS: Finished prediction in 0.030187s</pre>"
       ],
       "metadata": {},
       "output_type": "display_data",
       "text": [
        "PROGRESS: Finished prediction in 0.030187s"
       ]
      },
      {
       "html": [
        "<pre>PROGRESS: Recsys training: model = item_similarity</pre>"
       ],
       "metadata": {},
       "output_type": "display_data",
       "text": [
        "PROGRESS: Recsys training: model = item_similarity"
       ]
      },
      {
       "html": [
        "<pre>PROGRESS: Finished prediction in 0.023773s</pre>"
       ],
       "metadata": {},
       "output_type": "display_data",
       "text": [
        "PROGRESS: Finished prediction in 0.023773s"
       ]
      },
      {
       "html": [
        "<pre>PROGRESS: Recsys training: model = item_similarity</pre>"
       ],
       "metadata": {},
       "output_type": "display_data",
       "text": [
        "PROGRESS: Recsys training: model = item_similarity"
       ]
      },
      {
       "html": [
        "<pre>PROGRESS: Finished prediction in 0.024101s</pre>"
       ],
       "metadata": {},
       "output_type": "display_data",
       "text": [
        "PROGRESS: Finished prediction in 0.024101s"
       ]
      },
      {
       "html": [
        "<pre>PROGRESS: Recsys training: model = item_similarity</pre>"
       ],
       "metadata": {},
       "output_type": "display_data",
       "text": [
        "PROGRESS: Recsys training: model = item_similarity"
       ]
      },
      {
       "html": [
        "<pre>PROGRESS: Finished prediction in 0.024431s</pre>"
       ],
       "metadata": {},
       "output_type": "display_data",
       "text": [
        "PROGRESS: Finished prediction in 0.024431s"
       ]
      },
      {
       "html": [
        "<pre>PROGRESS: Recsys training: model = item_similarity</pre>"
       ],
       "metadata": {},
       "output_type": "display_data",
       "text": [
        "PROGRESS: Recsys training: model = item_similarity"
       ]
      },
      {
       "html": [
        "<pre>PROGRESS: Finished prediction in 0.026813s</pre>"
       ],
       "metadata": {},
       "output_type": "display_data",
       "text": [
        "PROGRESS: Finished prediction in 0.026813s"
       ]
      },
      {
       "html": [
        "<pre>PROGRESS: Recsys training: model = item_similarity</pre>"
       ],
       "metadata": {},
       "output_type": "display_data",
       "text": [
        "PROGRESS: Recsys training: model = item_similarity"
       ]
      },
      {
       "html": [
        "<pre>PROGRESS: Finished prediction in 0.027514s</pre>"
       ],
       "metadata": {},
       "output_type": "display_data",
       "text": [
        "PROGRESS: Finished prediction in 0.027514s"
       ]
      },
      {
       "html": [
        "<pre>PROGRESS: Recsys training: model = item_similarity</pre>"
       ],
       "metadata": {},
       "output_type": "display_data",
       "text": [
        "PROGRESS: Recsys training: model = item_similarity"
       ]
      },
      {
       "html": [
        "<pre>PROGRESS: Finished prediction in 0.027042s</pre>"
       ],
       "metadata": {},
       "output_type": "display_data",
       "text": [
        "PROGRESS: Finished prediction in 0.027042s"
       ]
      },
      {
       "html": [
        "<pre>PROGRESS: Recsys training: model = item_similarity</pre>"
       ],
       "metadata": {},
       "output_type": "display_data",
       "text": [
        "PROGRESS: Recsys training: model = item_similarity"
       ]
      },
      {
       "html": [
        "<pre>PROGRESS: Finished prediction in 0.027164s</pre>"
       ],
       "metadata": {},
       "output_type": "display_data",
       "text": [
        "PROGRESS: Finished prediction in 0.027164s"
       ]
      },
      {
       "html": [
        "<pre>PROGRESS: Recsys training: model = item_similarity</pre>"
       ],
       "metadata": {},
       "output_type": "display_data",
       "text": [
        "PROGRESS: Recsys training: model = item_similarity"
       ]
      },
      {
       "html": [
        "<pre>PROGRESS: Finished prediction in 0.025277s</pre>"
       ],
       "metadata": {},
       "output_type": "display_data",
       "text": [
        "PROGRESS: Finished prediction in 0.025277s"
       ]
      },
      {
       "html": [
        "<pre>PROGRESS: Recsys training: model = item_similarity</pre>"
       ],
       "metadata": {},
       "output_type": "display_data",
       "text": [
        "PROGRESS: Recsys training: model = item_similarity"
       ]
      },
      {
       "html": [
        "<pre>PROGRESS: Finished prediction in 0.029454s</pre>"
       ],
       "metadata": {},
       "output_type": "display_data",
       "text": [
        "PROGRESS: Finished prediction in 0.029454s"
       ]
      },
      {
       "html": [
        "<pre>PROGRESS: Recsys training: model = item_similarity</pre>"
       ],
       "metadata": {},
       "output_type": "display_data",
       "text": [
        "PROGRESS: Recsys training: model = item_similarity"
       ]
      },
      {
       "html": [
        "<pre>PROGRESS: Finished prediction in 0.011738s</pre>"
       ],
       "metadata": {},
       "output_type": "display_data",
       "text": [
        "PROGRESS: Finished prediction in 0.011738s"
       ]
      },
      {
       "html": [
        "<pre>PROGRESS: Recsys training: model = item_similarity</pre>"
       ],
       "metadata": {},
       "output_type": "display_data",
       "text": [
        "PROGRESS: Recsys training: model = item_similarity"
       ]
      },
      {
       "html": [
        "<pre>PROGRESS: Finished prediction in 0.016187s</pre>"
       ],
       "metadata": {},
       "output_type": "display_data",
       "text": [
        "PROGRESS: Finished prediction in 0.016187s"
       ]
      },
      {
       "html": [
        "<pre>PROGRESS: Recsys training: model = item_similarity</pre>"
       ],
       "metadata": {},
       "output_type": "display_data",
       "text": [
        "PROGRESS: Recsys training: model = item_similarity"
       ]
      },
      {
       "html": [
        "<pre>PROGRESS: Finished prediction in 0.015735s</pre>"
       ],
       "metadata": {},
       "output_type": "display_data",
       "text": [
        "PROGRESS: Finished prediction in 0.015735s"
       ]
      },
      {
       "html": [
        "<pre>PROGRESS: Recsys training: model = item_similarity</pre>"
       ],
       "metadata": {},
       "output_type": "display_data",
       "text": [
        "PROGRESS: Recsys training: model = item_similarity"
       ]
      },
      {
       "html": [
        "<pre>PROGRESS: Finished prediction in 0.014788s</pre>"
       ],
       "metadata": {},
       "output_type": "display_data",
       "text": [
        "PROGRESS: Finished prediction in 0.014788s"
       ]
      },
      {
       "html": [
        "<pre>PROGRESS: Recsys training: model = item_similarity</pre>"
       ],
       "metadata": {},
       "output_type": "display_data",
       "text": [
        "PROGRESS: Recsys training: model = item_similarity"
       ]
      },
      {
       "html": [
        "<pre>PROGRESS: Finished prediction in 0.014073s</pre>"
       ],
       "metadata": {},
       "output_type": "display_data",
       "text": [
        "PROGRESS: Finished prediction in 0.014073s"
       ]
      },
      {
       "html": [
        "<pre>PROGRESS: Recsys training: model = item_similarity</pre>"
       ],
       "metadata": {},
       "output_type": "display_data",
       "text": [
        "PROGRESS: Recsys training: model = item_similarity"
       ]
      },
      {
       "html": [
        "<pre>PROGRESS: Finished prediction in 0.017906s</pre>"
       ],
       "metadata": {},
       "output_type": "display_data",
       "text": [
        "PROGRESS: Finished prediction in 0.017906s"
       ]
      },
      {
       "html": [
        "<pre>PROGRESS: Recsys training: model = item_similarity</pre>"
       ],
       "metadata": {},
       "output_type": "display_data",
       "text": [
        "PROGRESS: Recsys training: model = item_similarity"
       ]
      },
      {
       "html": [
        "<pre>PROGRESS: Finished prediction in 0.016427s</pre>"
       ],
       "metadata": {},
       "output_type": "display_data",
       "text": [
        "PROGRESS: Finished prediction in 0.016427s"
       ]
      },
      {
       "html": [
        "<pre>PROGRESS: Recsys training: model = item_similarity</pre>"
       ],
       "metadata": {},
       "output_type": "display_data",
       "text": [
        "PROGRESS: Recsys training: model = item_similarity"
       ]
      },
      {
       "html": [
        "<pre>PROGRESS: Finished prediction in 0.019597s</pre>"
       ],
       "metadata": {},
       "output_type": "display_data",
       "text": [
        "PROGRESS: Finished prediction in 0.019597s"
       ]
      },
      {
       "html": [
        "<pre>PROGRESS: Recsys training: model = item_similarity</pre>"
       ],
       "metadata": {},
       "output_type": "display_data",
       "text": [
        "PROGRESS: Recsys training: model = item_similarity"
       ]
      },
      {
       "html": [
        "<pre>PROGRESS: Finished prediction in 0.023887s</pre>"
       ],
       "metadata": {},
       "output_type": "display_data",
       "text": [
        "PROGRESS: Finished prediction in 0.023887s"
       ]
      },
      {
       "html": [
        "<pre>PROGRESS: Recsys training: model = item_similarity</pre>"
       ],
       "metadata": {},
       "output_type": "display_data",
       "text": [
        "PROGRESS: Recsys training: model = item_similarity"
       ]
      },
      {
       "html": [
        "<pre>PROGRESS: Finished prediction in 0.017575s</pre>"
       ],
       "metadata": {},
       "output_type": "display_data",
       "text": [
        "PROGRESS: Finished prediction in 0.017575s"
       ]
      },
      {
       "html": [
        "<pre>PROGRESS: Recsys training: model = item_similarity</pre>"
       ],
       "metadata": {},
       "output_type": "display_data",
       "text": [
        "PROGRESS: Recsys training: model = item_similarity"
       ]
      },
      {
       "html": [
        "<pre>PROGRESS: Finished prediction in 0.024898s</pre>"
       ],
       "metadata": {},
       "output_type": "display_data",
       "text": [
        "PROGRESS: Finished prediction in 0.024898s"
       ]
      },
      {
       "html": [
        "<pre>PROGRESS: Recsys training: model = item_similarity</pre>"
       ],
       "metadata": {},
       "output_type": "display_data",
       "text": [
        "PROGRESS: Recsys training: model = item_similarity"
       ]
      },
      {
       "html": [
        "<pre>PROGRESS: Finished prediction in 0.023326s</pre>"
       ],
       "metadata": {},
       "output_type": "display_data",
       "text": [
        "PROGRESS: Finished prediction in 0.023326s"
       ]
      },
      {
       "html": [
        "<pre>PROGRESS: Recsys training: model = item_similarity</pre>"
       ],
       "metadata": {},
       "output_type": "display_data",
       "text": [
        "PROGRESS: Recsys training: model = item_similarity"
       ]
      },
      {
       "html": [
        "<pre>PROGRESS: Finished prediction in 0.025849s</pre>"
       ],
       "metadata": {},
       "output_type": "display_data",
       "text": [
        "PROGRESS: Finished prediction in 0.025849s"
       ]
      },
      {
       "html": [
        "<pre>PROGRESS: Recsys training: model = item_similarity</pre>"
       ],
       "metadata": {},
       "output_type": "display_data",
       "text": [
        "PROGRESS: Recsys training: model = item_similarity"
       ]
      },
      {
       "html": [
        "<pre>PROGRESS: Finished prediction in 0.029598s</pre>"
       ],
       "metadata": {},
       "output_type": "display_data",
       "text": [
        "PROGRESS: Finished prediction in 0.029598s"
       ]
      },
      {
       "html": [
        "<pre>PROGRESS: Recsys training: model = item_similarity</pre>"
       ],
       "metadata": {},
       "output_type": "display_data",
       "text": [
        "PROGRESS: Recsys training: model = item_similarity"
       ]
      },
      {
       "html": [
        "<pre>PROGRESS: Finished prediction in 0.036599s</pre>"
       ],
       "metadata": {},
       "output_type": "display_data",
       "text": [
        "PROGRESS: Finished prediction in 0.036599s"
       ]
      },
      {
       "html": [
        "<pre>PROGRESS: Recsys training: model = item_similarity</pre>"
       ],
       "metadata": {},
       "output_type": "display_data",
       "text": [
        "PROGRESS: Recsys training: model = item_similarity"
       ]
      },
      {
       "html": [
        "<pre>PROGRESS: Finished prediction in 0.021311s</pre>"
       ],
       "metadata": {},
       "output_type": "display_data",
       "text": [
        "PROGRESS: Finished prediction in 0.021311s"
       ]
      },
      {
       "html": [
        "<pre>PROGRESS: Recsys training: model = item_similarity</pre>"
       ],
       "metadata": {},
       "output_type": "display_data",
       "text": [
        "PROGRESS: Recsys training: model = item_similarity"
       ]
      },
      {
       "html": [
        "<pre>PROGRESS: Finished prediction in 0.027182s</pre>"
       ],
       "metadata": {},
       "output_type": "display_data",
       "text": [
        "PROGRESS: Finished prediction in 0.027182s"
       ]
      },
      {
       "html": [
        "<pre>PROGRESS: Recsys training: model = item_similarity</pre>"
       ],
       "metadata": {},
       "output_type": "display_data",
       "text": [
        "PROGRESS: Recsys training: model = item_similarity"
       ]
      },
      {
       "html": [
        "<pre>PROGRESS: Finished prediction in 0.03823s</pre>"
       ],
       "metadata": {},
       "output_type": "display_data",
       "text": [
        "PROGRESS: Finished prediction in 0.03823s"
       ]
      },
      {
       "html": [
        "<pre>PROGRESS: Recsys training: model = item_similarity</pre>"
       ],
       "metadata": {},
       "output_type": "display_data",
       "text": [
        "PROGRESS: Recsys training: model = item_similarity"
       ]
      },
      {
       "html": [
        "<pre>PROGRESS: Finished prediction in 0.02447s</pre>"
       ],
       "metadata": {},
       "output_type": "display_data",
       "text": [
        "PROGRESS: Finished prediction in 0.02447s"
       ]
      },
      {
       "html": [
        "<pre>PROGRESS: Recsys training: model = item_similarity</pre>"
       ],
       "metadata": {},
       "output_type": "display_data",
       "text": [
        "PROGRESS: Recsys training: model = item_similarity"
       ]
      },
      {
       "html": [
        "<pre>PROGRESS: Finished prediction in 0.028068s</pre>"
       ],
       "metadata": {},
       "output_type": "display_data",
       "text": [
        "PROGRESS: Finished prediction in 0.028068s"
       ]
      },
      {
       "html": [
        "<pre>PROGRESS: Recsys training: model = item_similarity</pre>"
       ],
       "metadata": {},
       "output_type": "display_data",
       "text": [
        "PROGRESS: Recsys training: model = item_similarity"
       ]
      },
      {
       "html": [
        "<pre>PROGRESS: Finished prediction in 0.022721s</pre>"
       ],
       "metadata": {},
       "output_type": "display_data",
       "text": [
        "PROGRESS: Finished prediction in 0.022721s"
       ]
      },
      {
       "html": [
        "<pre>PROGRESS: Recsys training: model = item_similarity</pre>"
       ],
       "metadata": {},
       "output_type": "display_data",
       "text": [
        "PROGRESS: Recsys training: model = item_similarity"
       ]
      },
      {
       "html": [
        "<pre>PROGRESS: Finished prediction in 0.023758s</pre>"
       ],
       "metadata": {},
       "output_type": "display_data",
       "text": [
        "PROGRESS: Finished prediction in 0.023758s"
       ]
      },
      {
       "html": [
        "<pre>PROGRESS: Recsys training: model = item_similarity</pre>"
       ],
       "metadata": {},
       "output_type": "display_data",
       "text": [
        "PROGRESS: Recsys training: model = item_similarity"
       ]
      },
      {
       "html": [
        "<pre>PROGRESS: Finished prediction in 0.032532s</pre>"
       ],
       "metadata": {},
       "output_type": "display_data",
       "text": [
        "PROGRESS: Finished prediction in 0.032532s"
       ]
      },
      {
       "html": [
        "<pre>PROGRESS: Recsys training: model = item_similarity</pre>"
       ],
       "metadata": {},
       "output_type": "display_data",
       "text": [
        "PROGRESS: Recsys training: model = item_similarity"
       ]
      },
      {
       "html": [
        "<pre>PROGRESS: Finished prediction in 0.026882s</pre>"
       ],
       "metadata": {},
       "output_type": "display_data",
       "text": [
        "PROGRESS: Finished prediction in 0.026882s"
       ]
      },
      {
       "html": [
        "<pre>PROGRESS: Recsys training: model = item_similarity</pre>"
       ],
       "metadata": {},
       "output_type": "display_data",
       "text": [
        "PROGRESS: Recsys training: model = item_similarity"
       ]
      },
      {
       "html": [
        "<pre>PROGRESS: Finished prediction in 0.03973s</pre>"
       ],
       "metadata": {},
       "output_type": "display_data",
       "text": [
        "PROGRESS: Finished prediction in 0.03973s"
       ]
      },
      {
       "html": [
        "<pre>PROGRESS: Recsys training: model = item_similarity</pre>"
       ],
       "metadata": {},
       "output_type": "display_data",
       "text": [
        "PROGRESS: Recsys training: model = item_similarity"
       ]
      },
      {
       "html": [
        "<pre>PROGRESS: Finished prediction in 0.025879s</pre>"
       ],
       "metadata": {},
       "output_type": "display_data",
       "text": [
        "PROGRESS: Finished prediction in 0.025879s"
       ]
      },
      {
       "html": [
        "<pre>PROGRESS: Recsys training: model = item_similarity</pre>"
       ],
       "metadata": {},
       "output_type": "display_data",
       "text": [
        "PROGRESS: Recsys training: model = item_similarity"
       ]
      },
      {
       "html": [
        "<pre>PROGRESS: Finished prediction in 0.033174s</pre>"
       ],
       "metadata": {},
       "output_type": "display_data",
       "text": [
        "PROGRESS: Finished prediction in 0.033174s"
       ]
      },
      {
       "html": [
        "<pre>PROGRESS: Recsys training: model = item_similarity</pre>"
       ],
       "metadata": {},
       "output_type": "display_data",
       "text": [
        "PROGRESS: Recsys training: model = item_similarity"
       ]
      },
      {
       "html": [
        "<pre>PROGRESS: Finished prediction in 0.030068s</pre>"
       ],
       "metadata": {},
       "output_type": "display_data",
       "text": [
        "PROGRESS: Finished prediction in 0.030068s"
       ]
      },
      {
       "html": [
        "<pre>PROGRESS: Recsys training: model = item_similarity</pre>"
       ],
       "metadata": {},
       "output_type": "display_data",
       "text": [
        "PROGRESS: Recsys training: model = item_similarity"
       ]
      },
      {
       "html": [
        "<pre>PROGRESS: Finished prediction in 0.030637s</pre>"
       ],
       "metadata": {},
       "output_type": "display_data",
       "text": [
        "PROGRESS: Finished prediction in 0.030637s"
       ]
      },
      {
       "html": [
        "<pre>PROGRESS: Recsys training: model = item_similarity</pre>"
       ],
       "metadata": {},
       "output_type": "display_data",
       "text": [
        "PROGRESS: Recsys training: model = item_similarity"
       ]
      },
      {
       "html": [
        "<pre>PROGRESS: Finished prediction in 0.038606s</pre>"
       ],
       "metadata": {},
       "output_type": "display_data",
       "text": [
        "PROGRESS: Finished prediction in 0.038606s"
       ]
      },
      {
       "html": [
        "<pre>PROGRESS: Recsys training: model = item_similarity</pre>"
       ],
       "metadata": {},
       "output_type": "display_data",
       "text": [
        "PROGRESS: Recsys training: model = item_similarity"
       ]
      },
      {
       "html": [
        "<pre>PROGRESS: Finished prediction in 0.013572s</pre>"
       ],
       "metadata": {},
       "output_type": "display_data",
       "text": [
        "PROGRESS: Finished prediction in 0.013572s"
       ]
      },
      {
       "html": [
        "<pre>PROGRESS: Recsys training: model = item_similarity</pre>"
       ],
       "metadata": {},
       "output_type": "display_data",
       "text": [
        "PROGRESS: Recsys training: model = item_similarity"
       ]
      },
      {
       "html": [
        "<pre>PROGRESS: Finished prediction in 0.0176s</pre>"
       ],
       "metadata": {},
       "output_type": "display_data",
       "text": [
        "PROGRESS: Finished prediction in 0.0176s"
       ]
      },
      {
       "html": [
        "<pre>PROGRESS: Recsys training: model = item_similarity</pre>"
       ],
       "metadata": {},
       "output_type": "display_data",
       "text": [
        "PROGRESS: Recsys training: model = item_similarity"
       ]
      },
      {
       "html": [
        "<pre>PROGRESS: Finished prediction in 0.016869s</pre>"
       ],
       "metadata": {},
       "output_type": "display_data",
       "text": [
        "PROGRESS: Finished prediction in 0.016869s"
       ]
      },
      {
       "html": [
        "<pre>PROGRESS: Recsys training: model = item_similarity</pre>"
       ],
       "metadata": {},
       "output_type": "display_data",
       "text": [
        "PROGRESS: Recsys training: model = item_similarity"
       ]
      },
      {
       "html": [
        "<pre>PROGRESS: Finished prediction in 0.015988s</pre>"
       ],
       "metadata": {},
       "output_type": "display_data",
       "text": [
        "PROGRESS: Finished prediction in 0.015988s"
       ]
      },
      {
       "html": [
        "<pre>PROGRESS: Recsys training: model = item_similarity</pre>"
       ],
       "metadata": {},
       "output_type": "display_data",
       "text": [
        "PROGRESS: Recsys training: model = item_similarity"
       ]
      },
      {
       "html": [
        "<pre>PROGRESS: Finished prediction in 0.017295s</pre>"
       ],
       "metadata": {},
       "output_type": "display_data",
       "text": [
        "PROGRESS: Finished prediction in 0.017295s"
       ]
      },
      {
       "html": [
        "<pre>PROGRESS: Recsys training: model = item_similarity</pre>"
       ],
       "metadata": {},
       "output_type": "display_data",
       "text": [
        "PROGRESS: Recsys training: model = item_similarity"
       ]
      },
      {
       "html": [
        "<pre>PROGRESS: Finished prediction in 0.019193s</pre>"
       ],
       "metadata": {},
       "output_type": "display_data",
       "text": [
        "PROGRESS: Finished prediction in 0.019193s"
       ]
      },
      {
       "html": [
        "<pre>PROGRESS: Recsys training: model = item_similarity</pre>"
       ],
       "metadata": {},
       "output_type": "display_data",
       "text": [
        "PROGRESS: Recsys training: model = item_similarity"
       ]
      },
      {
       "html": [
        "<pre>PROGRESS: Finished prediction in 0.020373s</pre>"
       ],
       "metadata": {},
       "output_type": "display_data",
       "text": [
        "PROGRESS: Finished prediction in 0.020373s"
       ]
      },
      {
       "html": [
        "<pre>PROGRESS: Recsys training: model = item_similarity</pre>"
       ],
       "metadata": {},
       "output_type": "display_data",
       "text": [
        "PROGRESS: Recsys training: model = item_similarity"
       ]
      },
      {
       "html": [
        "<pre>PROGRESS: Finished prediction in 0.018091s</pre>"
       ],
       "metadata": {},
       "output_type": "display_data",
       "text": [
        "PROGRESS: Finished prediction in 0.018091s"
       ]
      },
      {
       "html": [
        "<pre>PROGRESS: Recsys training: model = item_similarity</pre>"
       ],
       "metadata": {},
       "output_type": "display_data",
       "text": [
        "PROGRESS: Recsys training: model = item_similarity"
       ]
      },
      {
       "html": [
        "<pre>PROGRESS: Finished prediction in 0.021245s</pre>"
       ],
       "metadata": {},
       "output_type": "display_data",
       "text": [
        "PROGRESS: Finished prediction in 0.021245s"
       ]
      },
      {
       "html": [
        "<pre>PROGRESS: Recsys training: model = item_similarity</pre>"
       ],
       "metadata": {},
       "output_type": "display_data",
       "text": [
        "PROGRESS: Recsys training: model = item_similarity"
       ]
      },
      {
       "html": [
        "<pre>PROGRESS: Finished prediction in 0.021477s</pre>"
       ],
       "metadata": {},
       "output_type": "display_data",
       "text": [
        "PROGRESS: Finished prediction in 0.021477s"
       ]
      },
      {
       "html": [
        "<pre>PROGRESS: Recsys training: model = item_similarity</pre>"
       ],
       "metadata": {},
       "output_type": "display_data",
       "text": [
        "PROGRESS: Recsys training: model = item_similarity"
       ]
      },
      {
       "html": [
        "<pre>PROGRESS: Finished prediction in 0.020022s</pre>"
       ],
       "metadata": {},
       "output_type": "display_data",
       "text": [
        "PROGRESS: Finished prediction in 0.020022s"
       ]
      },
      {
       "html": [
        "<pre>PROGRESS: Recsys training: model = item_similarity</pre>"
       ],
       "metadata": {},
       "output_type": "display_data",
       "text": [
        "PROGRESS: Recsys training: model = item_similarity"
       ]
      },
      {
       "html": [
        "<pre>PROGRESS: Finished prediction in 0.024113s</pre>"
       ],
       "metadata": {},
       "output_type": "display_data",
       "text": [
        "PROGRESS: Finished prediction in 0.024113s"
       ]
      },
      {
       "html": [
        "<pre>PROGRESS: Recsys training: model = item_similarity</pre>"
       ],
       "metadata": {},
       "output_type": "display_data",
       "text": [
        "PROGRESS: Recsys training: model = item_similarity"
       ]
      },
      {
       "html": [
        "<pre>PROGRESS: Finished prediction in 0.018929s</pre>"
       ],
       "metadata": {},
       "output_type": "display_data",
       "text": [
        "PROGRESS: Finished prediction in 0.018929s"
       ]
      },
      {
       "html": [
        "<pre>PROGRESS: Recsys training: model = item_similarity</pre>"
       ],
       "metadata": {},
       "output_type": "display_data",
       "text": [
        "PROGRESS: Recsys training: model = item_similarity"
       ]
      },
      {
       "html": [
        "<pre>PROGRESS: Finished prediction in 0.023698s</pre>"
       ],
       "metadata": {},
       "output_type": "display_data",
       "text": [
        "PROGRESS: Finished prediction in 0.023698s"
       ]
      },
      {
       "html": [
        "<pre>PROGRESS: Recsys training: model = item_similarity</pre>"
       ],
       "metadata": {},
       "output_type": "display_data",
       "text": [
        "PROGRESS: Recsys training: model = item_similarity"
       ]
      },
      {
       "html": [
        "<pre>PROGRESS: Finished prediction in 0.023632s</pre>"
       ],
       "metadata": {},
       "output_type": "display_data",
       "text": [
        "PROGRESS: Finished prediction in 0.023632s"
       ]
      },
      {
       "html": [
        "<pre>PROGRESS: Recsys training: model = item_similarity</pre>"
       ],
       "metadata": {},
       "output_type": "display_data",
       "text": [
        "PROGRESS: Recsys training: model = item_similarity"
       ]
      },
      {
       "html": [
        "<pre>PROGRESS: Finished prediction in 0.020536s</pre>"
       ],
       "metadata": {},
       "output_type": "display_data",
       "text": [
        "PROGRESS: Finished prediction in 0.020536s"
       ]
      },
      {
       "html": [
        "<pre>PROGRESS: Recsys training: model = item_similarity</pre>"
       ],
       "metadata": {},
       "output_type": "display_data",
       "text": [
        "PROGRESS: Recsys training: model = item_similarity"
       ]
      },
      {
       "html": [
        "<pre>PROGRESS: Finished prediction in 0.019153s</pre>"
       ],
       "metadata": {},
       "output_type": "display_data",
       "text": [
        "PROGRESS: Finished prediction in 0.019153s"
       ]
      },
      {
       "html": [
        "<pre>PROGRESS: Recsys training: model = item_similarity</pre>"
       ],
       "metadata": {},
       "output_type": "display_data",
       "text": [
        "PROGRESS: Recsys training: model = item_similarity"
       ]
      },
      {
       "html": [
        "<pre>PROGRESS: Finished prediction in 0.023691s</pre>"
       ],
       "metadata": {},
       "output_type": "display_data",
       "text": [
        "PROGRESS: Finished prediction in 0.023691s"
       ]
      },
      {
       "html": [
        "<pre>PROGRESS: Recsys training: model = item_similarity</pre>"
       ],
       "metadata": {},
       "output_type": "display_data",
       "text": [
        "PROGRESS: Recsys training: model = item_similarity"
       ]
      },
      {
       "html": [
        "<pre>PROGRESS: Finished prediction in 0.024459s</pre>"
       ],
       "metadata": {},
       "output_type": "display_data",
       "text": [
        "PROGRESS: Finished prediction in 0.024459s"
       ]
      },
      {
       "html": [
        "<pre>PROGRESS: Recsys training: model = item_similarity</pre>"
       ],
       "metadata": {},
       "output_type": "display_data",
       "text": [
        "PROGRESS: Recsys training: model = item_similarity"
       ]
      },
      {
       "html": [
        "<pre>PROGRESS: Finished prediction in 0.022328s</pre>"
       ],
       "metadata": {},
       "output_type": "display_data",
       "text": [
        "PROGRESS: Finished prediction in 0.022328s"
       ]
      },
      {
       "html": [
        "<pre>PROGRESS: Recsys training: model = item_similarity</pre>"
       ],
       "metadata": {},
       "output_type": "display_data",
       "text": [
        "PROGRESS: Recsys training: model = item_similarity"
       ]
      },
      {
       "html": [
        "<pre>PROGRESS: Finished prediction in 0.023783s</pre>"
       ],
       "metadata": {},
       "output_type": "display_data",
       "text": [
        "PROGRESS: Finished prediction in 0.023783s"
       ]
      },
      {
       "html": [
        "<pre>PROGRESS: Recsys training: model = item_similarity</pre>"
       ],
       "metadata": {},
       "output_type": "display_data",
       "text": [
        "PROGRESS: Recsys training: model = item_similarity"
       ]
      },
      {
       "html": [
        "<pre>PROGRESS: Finished prediction in 0.020723s</pre>"
       ],
       "metadata": {},
       "output_type": "display_data",
       "text": [
        "PROGRESS: Finished prediction in 0.020723s"
       ]
      },
      {
       "html": [
        "<pre>PROGRESS: Recsys training: model = item_similarity</pre>"
       ],
       "metadata": {},
       "output_type": "display_data",
       "text": [
        "PROGRESS: Recsys training: model = item_similarity"
       ]
      },
      {
       "html": [
        "<pre>PROGRESS: Finished prediction in 0.022261s</pre>"
       ],
       "metadata": {},
       "output_type": "display_data",
       "text": [
        "PROGRESS: Finished prediction in 0.022261s"
       ]
      },
      {
       "html": [
        "<pre>PROGRESS: Recsys training: model = item_similarity</pre>"
       ],
       "metadata": {},
       "output_type": "display_data",
       "text": [
        "PROGRESS: Recsys training: model = item_similarity"
       ]
      },
      {
       "html": [
        "<pre>PROGRESS: Finished prediction in 0.021305s</pre>"
       ],
       "metadata": {},
       "output_type": "display_data",
       "text": [
        "PROGRESS: Finished prediction in 0.021305s"
       ]
      },
      {
       "html": [
        "<pre>PROGRESS: Recsys training: model = item_similarity</pre>"
       ],
       "metadata": {},
       "output_type": "display_data",
       "text": [
        "PROGRESS: Recsys training: model = item_similarity"
       ]
      },
      {
       "html": [
        "<pre>PROGRESS: Finished prediction in 0.02069s</pre>"
       ],
       "metadata": {},
       "output_type": "display_data",
       "text": [
        "PROGRESS: Finished prediction in 0.02069s"
       ]
      },
      {
       "html": [
        "<pre>PROGRESS: Recsys training: model = item_similarity</pre>"
       ],
       "metadata": {},
       "output_type": "display_data",
       "text": [
        "PROGRESS: Recsys training: model = item_similarity"
       ]
      },
      {
       "html": [
        "<pre>PROGRESS: Finished prediction in 0.020467s</pre>"
       ],
       "metadata": {},
       "output_type": "display_data",
       "text": [
        "PROGRESS: Finished prediction in 0.020467s"
       ]
      },
      {
       "html": [
        "<pre>PROGRESS: Recsys training: model = item_similarity</pre>"
       ],
       "metadata": {},
       "output_type": "display_data",
       "text": [
        "PROGRESS: Recsys training: model = item_similarity"
       ]
      },
      {
       "html": [
        "<pre>PROGRESS: Finished prediction in 0.021504s</pre>"
       ],
       "metadata": {},
       "output_type": "display_data",
       "text": [
        "PROGRESS: Finished prediction in 0.021504s"
       ]
      },
      {
       "html": [
        "<pre>PROGRESS: Recsys training: model = item_similarity</pre>"
       ],
       "metadata": {},
       "output_type": "display_data",
       "text": [
        "PROGRESS: Recsys training: model = item_similarity"
       ]
      },
      {
       "html": [
        "<pre>PROGRESS: Finished prediction in 0.024438s</pre>"
       ],
       "metadata": {},
       "output_type": "display_data",
       "text": [
        "PROGRESS: Finished prediction in 0.024438s"
       ]
      },
      {
       "html": [
        "<pre>PROGRESS: Recsys training: model = item_similarity</pre>"
       ],
       "metadata": {},
       "output_type": "display_data",
       "text": [
        "PROGRESS: Recsys training: model = item_similarity"
       ]
      },
      {
       "html": [
        "<pre>PROGRESS: Finished prediction in 0.022203s</pre>"
       ],
       "metadata": {},
       "output_type": "display_data",
       "text": [
        "PROGRESS: Finished prediction in 0.022203s"
       ]
      },
      {
       "html": [
        "<pre>PROGRESS: Recsys training: model = item_similarity</pre>"
       ],
       "metadata": {},
       "output_type": "display_data",
       "text": [
        "PROGRESS: Recsys training: model = item_similarity"
       ]
      },
      {
       "html": [
        "<pre>PROGRESS: Finished prediction in 0.023017s</pre>"
       ],
       "metadata": {},
       "output_type": "display_data",
       "text": [
        "PROGRESS: Finished prediction in 0.023017s"
       ]
      },
      {
       "html": [
        "<pre>PROGRESS: Recsys training: model = item_similarity</pre>"
       ],
       "metadata": {},
       "output_type": "display_data",
       "text": [
        "PROGRESS: Recsys training: model = item_similarity"
       ]
      },
      {
       "html": [
        "<pre>PROGRESS: Finished prediction in 0.013893s</pre>"
       ],
       "metadata": {},
       "output_type": "display_data",
       "text": [
        "PROGRESS: Finished prediction in 0.013893s"
       ]
      },
      {
       "html": [
        "<pre>PROGRESS: Recsys training: model = item_similarity</pre>"
       ],
       "metadata": {},
       "output_type": "display_data",
       "text": [
        "PROGRESS: Recsys training: model = item_similarity"
       ]
      },
      {
       "html": [
        "<pre>PROGRESS: Finished prediction in 0.015886s</pre>"
       ],
       "metadata": {},
       "output_type": "display_data",
       "text": [
        "PROGRESS: Finished prediction in 0.015886s"
       ]
      },
      {
       "html": [
        "<pre>PROGRESS: Recsys training: model = item_similarity</pre>"
       ],
       "metadata": {},
       "output_type": "display_data",
       "text": [
        "PROGRESS: Recsys training: model = item_similarity"
       ]
      },
      {
       "html": [
        "<pre>PROGRESS: Finished prediction in 0.016643s</pre>"
       ],
       "metadata": {},
       "output_type": "display_data",
       "text": [
        "PROGRESS: Finished prediction in 0.016643s"
       ]
      },
      {
       "html": [
        "<pre>PROGRESS: Recsys training: model = item_similarity</pre>"
       ],
       "metadata": {},
       "output_type": "display_data",
       "text": [
        "PROGRESS: Recsys training: model = item_similarity"
       ]
      },
      {
       "html": [
        "<pre>PROGRESS: Finished prediction in 0.015331s</pre>"
       ],
       "metadata": {},
       "output_type": "display_data",
       "text": [
        "PROGRESS: Finished prediction in 0.015331s"
       ]
      },
      {
       "html": [
        "<pre>PROGRESS: Recsys training: model = item_similarity</pre>"
       ],
       "metadata": {},
       "output_type": "display_data",
       "text": [
        "PROGRESS: Recsys training: model = item_similarity"
       ]
      },
      {
       "html": [
        "<pre>PROGRESS: Finished prediction in 0.013991s</pre>"
       ],
       "metadata": {},
       "output_type": "display_data",
       "text": [
        "PROGRESS: Finished prediction in 0.013991s"
       ]
      },
      {
       "html": [
        "<pre>PROGRESS: Recsys training: model = item_similarity</pre>"
       ],
       "metadata": {},
       "output_type": "display_data",
       "text": [
        "PROGRESS: Recsys training: model = item_similarity"
       ]
      },
      {
       "html": [
        "<pre>PROGRESS: Finished prediction in 0.017561s</pre>"
       ],
       "metadata": {},
       "output_type": "display_data",
       "text": [
        "PROGRESS: Finished prediction in 0.017561s"
       ]
      },
      {
       "html": [
        "<pre>PROGRESS: Recsys training: model = item_similarity</pre>"
       ],
       "metadata": {},
       "output_type": "display_data",
       "text": [
        "PROGRESS: Recsys training: model = item_similarity"
       ]
      },
      {
       "html": [
        "<pre>PROGRESS: Finished prediction in 0.016329s</pre>"
       ],
       "metadata": {},
       "output_type": "display_data",
       "text": [
        "PROGRESS: Finished prediction in 0.016329s"
       ]
      },
      {
       "html": [
        "<pre>PROGRESS: Recsys training: model = item_similarity</pre>"
       ],
       "metadata": {},
       "output_type": "display_data",
       "text": [
        "PROGRESS: Recsys training: model = item_similarity"
       ]
      },
      {
       "html": [
        "<pre>PROGRESS: Finished prediction in 0.023277s</pre>"
       ],
       "metadata": {},
       "output_type": "display_data",
       "text": [
        "PROGRESS: Finished prediction in 0.023277s"
       ]
      },
      {
       "html": [
        "<pre>PROGRESS: Recsys training: model = item_similarity</pre>"
       ],
       "metadata": {},
       "output_type": "display_data",
       "text": [
        "PROGRESS: Recsys training: model = item_similarity"
       ]
      },
      {
       "html": [
        "<pre>PROGRESS: Finished prediction in 0.018949s</pre>"
       ],
       "metadata": {},
       "output_type": "display_data",
       "text": [
        "PROGRESS: Finished prediction in 0.018949s"
       ]
      },
      {
       "html": [
        "<pre>PROGRESS: Recsys training: model = item_similarity</pre>"
       ],
       "metadata": {},
       "output_type": "display_data",
       "text": [
        "PROGRESS: Recsys training: model = item_similarity"
       ]
      },
      {
       "html": [
        "<pre>PROGRESS: Finished prediction in 0.020509s</pre>"
       ],
       "metadata": {},
       "output_type": "display_data",
       "text": [
        "PROGRESS: Finished prediction in 0.020509s"
       ]
      },
      {
       "html": [
        "<pre>PROGRESS: Recsys training: model = item_similarity</pre>"
       ],
       "metadata": {},
       "output_type": "display_data",
       "text": [
        "PROGRESS: Recsys training: model = item_similarity"
       ]
      },
      {
       "html": [
        "<pre>PROGRESS: Finished prediction in 0.028684s</pre>"
       ],
       "metadata": {},
       "output_type": "display_data",
       "text": [
        "PROGRESS: Finished prediction in 0.028684s"
       ]
      },
      {
       "html": [
        "<pre>PROGRESS: Recsys training: model = item_similarity</pre>"
       ],
       "metadata": {},
       "output_type": "display_data",
       "text": [
        "PROGRESS: Recsys training: model = item_similarity"
       ]
      },
      {
       "html": [
        "<pre>PROGRESS: Finished prediction in 0.022265s</pre>"
       ],
       "metadata": {},
       "output_type": "display_data",
       "text": [
        "PROGRESS: Finished prediction in 0.022265s"
       ]
      },
      {
       "html": [
        "<pre>PROGRESS: Recsys training: model = item_similarity</pre>"
       ],
       "metadata": {},
       "output_type": "display_data",
       "text": [
        "PROGRESS: Recsys training: model = item_similarity"
       ]
      },
      {
       "html": [
        "<pre>PROGRESS: Finished prediction in 0.021404s</pre>"
       ],
       "metadata": {},
       "output_type": "display_data",
       "text": [
        "PROGRESS: Finished prediction in 0.021404s"
       ]
      },
      {
       "html": [
        "<pre>PROGRESS: Recsys training: model = item_similarity</pre>"
       ],
       "metadata": {},
       "output_type": "display_data",
       "text": [
        "PROGRESS: Recsys training: model = item_similarity"
       ]
      },
      {
       "html": [
        "<pre>PROGRESS: Finished prediction in 0.020061s</pre>"
       ],
       "metadata": {},
       "output_type": "display_data",
       "text": [
        "PROGRESS: Finished prediction in 0.020061s"
       ]
      },
      {
       "html": [
        "<pre>PROGRESS: Recsys training: model = item_similarity</pre>"
       ],
       "metadata": {},
       "output_type": "display_data",
       "text": [
        "PROGRESS: Recsys training: model = item_similarity"
       ]
      },
      {
       "html": [
        "<pre>PROGRESS: Finished prediction in 0.020198s</pre>"
       ],
       "metadata": {},
       "output_type": "display_data",
       "text": [
        "PROGRESS: Finished prediction in 0.020198s"
       ]
      },
      {
       "html": [
        "<pre>PROGRESS: Recsys training: model = item_similarity</pre>"
       ],
       "metadata": {},
       "output_type": "display_data",
       "text": [
        "PROGRESS: Recsys training: model = item_similarity"
       ]
      },
      {
       "html": [
        "<pre>PROGRESS: Finished prediction in 0.022436s</pre>"
       ],
       "metadata": {},
       "output_type": "display_data",
       "text": [
        "PROGRESS: Finished prediction in 0.022436s"
       ]
      },
      {
       "html": [
        "<pre>PROGRESS: Recsys training: model = item_similarity</pre>"
       ],
       "metadata": {},
       "output_type": "display_data",
       "text": [
        "PROGRESS: Recsys training: model = item_similarity"
       ]
      },
      {
       "html": [
        "<pre>PROGRESS: Finished prediction in 0.024075s</pre>"
       ],
       "metadata": {},
       "output_type": "display_data",
       "text": [
        "PROGRESS: Finished prediction in 0.024075s"
       ]
      },
      {
       "html": [
        "<pre>PROGRESS: Recsys training: model = item_similarity</pre>"
       ],
       "metadata": {},
       "output_type": "display_data",
       "text": [
        "PROGRESS: Recsys training: model = item_similarity"
       ]
      },
      {
       "html": [
        "<pre>PROGRESS: Finished prediction in 0.023557s</pre>"
       ],
       "metadata": {},
       "output_type": "display_data",
       "text": [
        "PROGRESS: Finished prediction in 0.023557s"
       ]
      },
      {
       "html": [
        "<pre>PROGRESS: Recsys training: model = item_similarity</pre>"
       ],
       "metadata": {},
       "output_type": "display_data",
       "text": [
        "PROGRESS: Recsys training: model = item_similarity"
       ]
      },
      {
       "html": [
        "<pre>PROGRESS: Finished prediction in 0.02601s</pre>"
       ],
       "metadata": {},
       "output_type": "display_data",
       "text": [
        "PROGRESS: Finished prediction in 0.02601s"
       ]
      },
      {
       "html": [
        "<pre>PROGRESS: Recsys training: model = item_similarity</pre>"
       ],
       "metadata": {},
       "output_type": "display_data",
       "text": [
        "PROGRESS: Recsys training: model = item_similarity"
       ]
      },
      {
       "html": [
        "<pre>PROGRESS: Finished prediction in 0.022758s</pre>"
       ],
       "metadata": {},
       "output_type": "display_data",
       "text": [
        "PROGRESS: Finished prediction in 0.022758s"
       ]
      },
      {
       "html": [
        "<pre>PROGRESS: Recsys training: model = item_similarity</pre>"
       ],
       "metadata": {},
       "output_type": "display_data",
       "text": [
        "PROGRESS: Recsys training: model = item_similarity"
       ]
      },
      {
       "html": [
        "<pre>PROGRESS: Finished prediction in 0.026029s</pre>"
       ],
       "metadata": {},
       "output_type": "display_data",
       "text": [
        "PROGRESS: Finished prediction in 0.026029s"
       ]
      },
      {
       "html": [
        "<pre>PROGRESS: Recsys training: model = item_similarity</pre>"
       ],
       "metadata": {},
       "output_type": "display_data",
       "text": [
        "PROGRESS: Recsys training: model = item_similarity"
       ]
      },
      {
       "html": [
        "<pre>PROGRESS: Finished prediction in 0.021947s</pre>"
       ],
       "metadata": {},
       "output_type": "display_data",
       "text": [
        "PROGRESS: Finished prediction in 0.021947s"
       ]
      },
      {
       "html": [
        "<pre>PROGRESS: Recsys training: model = item_similarity</pre>"
       ],
       "metadata": {},
       "output_type": "display_data",
       "text": [
        "PROGRESS: Recsys training: model = item_similarity"
       ]
      },
      {
       "html": [
        "<pre>PROGRESS: Finished prediction in 0.025677s</pre>"
       ],
       "metadata": {},
       "output_type": "display_data",
       "text": [
        "PROGRESS: Finished prediction in 0.025677s"
       ]
      },
      {
       "html": [
        "<pre>PROGRESS: Recsys training: model = item_similarity</pre>"
       ],
       "metadata": {},
       "output_type": "display_data",
       "text": [
        "PROGRESS: Recsys training: model = item_similarity"
       ]
      },
      {
       "html": [
        "<pre>PROGRESS: Finished prediction in 0.027397s</pre>"
       ],
       "metadata": {},
       "output_type": "display_data",
       "text": [
        "PROGRESS: Finished prediction in 0.027397s"
       ]
      },
      {
       "html": [
        "<pre>PROGRESS: Recsys training: model = item_similarity</pre>"
       ],
       "metadata": {},
       "output_type": "display_data",
       "text": [
        "PROGRESS: Recsys training: model = item_similarity"
       ]
      },
      {
       "html": [
        "<pre>PROGRESS: Finished prediction in 0.025726s</pre>"
       ],
       "metadata": {},
       "output_type": "display_data",
       "text": [
        "PROGRESS: Finished prediction in 0.025726s"
       ]
      },
      {
       "html": [
        "<pre>PROGRESS: Recsys training: model = item_similarity</pre>"
       ],
       "metadata": {},
       "output_type": "display_data",
       "text": [
        "PROGRESS: Recsys training: model = item_similarity"
       ]
      },
      {
       "html": [
        "<pre>PROGRESS: Finished prediction in 0.060539s</pre>"
       ],
       "metadata": {},
       "output_type": "display_data",
       "text": [
        "PROGRESS: Finished prediction in 0.060539s"
       ]
      },
      {
       "html": [
        "<pre>PROGRESS: Recsys training: model = item_similarity</pre>"
       ],
       "metadata": {},
       "output_type": "display_data",
       "text": [
        "PROGRESS: Recsys training: model = item_similarity"
       ]
      },
      {
       "html": [
        "<pre>PROGRESS: Finished prediction in 0.025222s</pre>"
       ],
       "metadata": {},
       "output_type": "display_data",
       "text": [
        "PROGRESS: Finished prediction in 0.025222s"
       ]
      },
      {
       "html": [
        "<pre>PROGRESS: Recsys training: model = item_similarity</pre>"
       ],
       "metadata": {},
       "output_type": "display_data",
       "text": [
        "PROGRESS: Recsys training: model = item_similarity"
       ]
      },
      {
       "html": [
        "<pre>PROGRESS: Finished prediction in 0.028142s</pre>"
       ],
       "metadata": {},
       "output_type": "display_data",
       "text": [
        "PROGRESS: Finished prediction in 0.028142s"
       ]
      },
      {
       "html": [
        "<pre>PROGRESS: Recsys training: model = item_similarity</pre>"
       ],
       "metadata": {},
       "output_type": "display_data",
       "text": [
        "PROGRESS: Recsys training: model = item_similarity"
       ]
      },
      {
       "html": [
        "<pre>PROGRESS: Finished prediction in 0.034111s</pre>"
       ],
       "metadata": {},
       "output_type": "display_data",
       "text": [
        "PROGRESS: Finished prediction in 0.034111s"
       ]
      },
      {
       "html": [
        "<pre>PROGRESS: Recsys training: model = item_similarity</pre>"
       ],
       "metadata": {},
       "output_type": "display_data",
       "text": [
        "PROGRESS: Recsys training: model = item_similarity"
       ]
      },
      {
       "html": [
        "<pre>PROGRESS: Finished prediction in 0.029124s</pre>"
       ],
       "metadata": {},
       "output_type": "display_data",
       "text": [
        "PROGRESS: Finished prediction in 0.029124s"
       ]
      },
      {
       "html": [
        "<pre>PROGRESS: Recsys training: model = item_similarity</pre>"
       ],
       "metadata": {},
       "output_type": "display_data",
       "text": [
        "PROGRESS: Recsys training: model = item_similarity"
       ]
      },
      {
       "html": [
        "<pre>PROGRESS: Finished prediction in 0.017083s</pre>"
       ],
       "metadata": {},
       "output_type": "display_data",
       "text": [
        "PROGRESS: Finished prediction in 0.017083s"
       ]
      },
      {
       "html": [
        "<pre>PROGRESS: Recsys training: model = item_similarity</pre>"
       ],
       "metadata": {},
       "output_type": "display_data",
       "text": [
        "PROGRESS: Recsys training: model = item_similarity"
       ]
      },
      {
       "html": [
        "<pre>PROGRESS: Finished prediction in 0.014434s</pre>"
       ],
       "metadata": {},
       "output_type": "display_data",
       "text": [
        "PROGRESS: Finished prediction in 0.014434s"
       ]
      },
      {
       "html": [
        "<pre>PROGRESS: Recsys training: model = item_similarity</pre>"
       ],
       "metadata": {},
       "output_type": "display_data",
       "text": [
        "PROGRESS: Recsys training: model = item_similarity"
       ]
      },
      {
       "html": [
        "<pre>PROGRESS: Finished prediction in 0.016139s</pre>"
       ],
       "metadata": {},
       "output_type": "display_data",
       "text": [
        "PROGRESS: Finished prediction in 0.016139s"
       ]
      },
      {
       "html": [
        "<pre>PROGRESS: Recsys training: model = item_similarity</pre>"
       ],
       "metadata": {},
       "output_type": "display_data",
       "text": [
        "PROGRESS: Recsys training: model = item_similarity"
       ]
      },
      {
       "html": [
        "<pre>PROGRESS: Finished prediction in 0.013924s</pre>"
       ],
       "metadata": {},
       "output_type": "display_data",
       "text": [
        "PROGRESS: Finished prediction in 0.013924s"
       ]
      },
      {
       "html": [
        "<pre>PROGRESS: Recsys training: model = item_similarity</pre>"
       ],
       "metadata": {},
       "output_type": "display_data",
       "text": [
        "PROGRESS: Recsys training: model = item_similarity"
       ]
      },
      {
       "html": [
        "<pre>PROGRESS: Finished prediction in 0.016712s</pre>"
       ],
       "metadata": {},
       "output_type": "display_data",
       "text": [
        "PROGRESS: Finished prediction in 0.016712s"
       ]
      },
      {
       "html": [
        "<pre>PROGRESS: Recsys training: model = item_similarity</pre>"
       ],
       "metadata": {},
       "output_type": "display_data",
       "text": [
        "PROGRESS: Recsys training: model = item_similarity"
       ]
      },
      {
       "html": [
        "<pre>PROGRESS: Finished prediction in 0.015249s</pre>"
       ],
       "metadata": {},
       "output_type": "display_data",
       "text": [
        "PROGRESS: Finished prediction in 0.015249s"
       ]
      },
      {
       "html": [
        "<pre>PROGRESS: Recsys training: model = item_similarity</pre>"
       ],
       "metadata": {},
       "output_type": "display_data",
       "text": [
        "PROGRESS: Recsys training: model = item_similarity"
       ]
      },
      {
       "html": [
        "<pre>PROGRESS: Finished prediction in 0.0342s</pre>"
       ],
       "metadata": {},
       "output_type": "display_data",
       "text": [
        "PROGRESS: Finished prediction in 0.0342s"
       ]
      },
      {
       "html": [
        "<pre>PROGRESS: Recsys training: model = item_similarity</pre>"
       ],
       "metadata": {},
       "output_type": "display_data",
       "text": [
        "PROGRESS: Recsys training: model = item_similarity"
       ]
      },
      {
       "html": [
        "<pre>PROGRESS: Finished prediction in 0.021069s</pre>"
       ],
       "metadata": {},
       "output_type": "display_data",
       "text": [
        "PROGRESS: Finished prediction in 0.021069s"
       ]
      },
      {
       "html": [
        "<pre>PROGRESS: Recsys training: model = item_similarity</pre>"
       ],
       "metadata": {},
       "output_type": "display_data",
       "text": [
        "PROGRESS: Recsys training: model = item_similarity"
       ]
      },
      {
       "html": [
        "<pre>PROGRESS: Finished prediction in 0.016644s</pre>"
       ],
       "metadata": {},
       "output_type": "display_data",
       "text": [
        "PROGRESS: Finished prediction in 0.016644s"
       ]
      },
      {
       "html": [
        "<pre>PROGRESS: Recsys training: model = item_similarity</pre>"
       ],
       "metadata": {},
       "output_type": "display_data",
       "text": [
        "PROGRESS: Recsys training: model = item_similarity"
       ]
      },
      {
       "html": [
        "<pre>PROGRESS: Finished prediction in 0.023262s</pre>"
       ],
       "metadata": {},
       "output_type": "display_data",
       "text": [
        "PROGRESS: Finished prediction in 0.023262s"
       ]
      },
      {
       "html": [
        "<pre>PROGRESS: Recsys training: model = item_similarity</pre>"
       ],
       "metadata": {},
       "output_type": "display_data",
       "text": [
        "PROGRESS: Recsys training: model = item_similarity"
       ]
      },
      {
       "html": [
        "<pre>PROGRESS: Finished prediction in 0.027509s</pre>"
       ],
       "metadata": {},
       "output_type": "display_data",
       "text": [
        "PROGRESS: Finished prediction in 0.027509s"
       ]
      },
      {
       "html": [
        "<pre>PROGRESS: Recsys training: model = item_similarity</pre>"
       ],
       "metadata": {},
       "output_type": "display_data",
       "text": [
        "PROGRESS: Recsys training: model = item_similarity"
       ]
      },
      {
       "html": [
        "<pre>PROGRESS: Finished prediction in 0.020741s</pre>"
       ],
       "metadata": {},
       "output_type": "display_data",
       "text": [
        "PROGRESS: Finished prediction in 0.020741s"
       ]
      },
      {
       "html": [
        "<pre>PROGRESS: Recsys training: model = item_similarity</pre>"
       ],
       "metadata": {},
       "output_type": "display_data",
       "text": [
        "PROGRESS: Recsys training: model = item_similarity"
       ]
      },
      {
       "html": [
        "<pre>PROGRESS: Finished prediction in 0.0233s</pre>"
       ],
       "metadata": {},
       "output_type": "display_data",
       "text": [
        "PROGRESS: Finished prediction in 0.0233s"
       ]
      },
      {
       "html": [
        "<pre>PROGRESS: Recsys training: model = item_similarity</pre>"
       ],
       "metadata": {},
       "output_type": "display_data",
       "text": [
        "PROGRESS: Recsys training: model = item_similarity"
       ]
      },
      {
       "html": [
        "<pre>PROGRESS: Finished prediction in 0.023937s</pre>"
       ],
       "metadata": {},
       "output_type": "display_data",
       "text": [
        "PROGRESS: Finished prediction in 0.023937s"
       ]
      },
      {
       "html": [
        "<pre>PROGRESS: Recsys training: model = item_similarity</pre>"
       ],
       "metadata": {},
       "output_type": "display_data",
       "text": [
        "PROGRESS: Recsys training: model = item_similarity"
       ]
      },
      {
       "html": [
        "<pre>PROGRESS: Finished prediction in 0.023231s</pre>"
       ],
       "metadata": {},
       "output_type": "display_data",
       "text": [
        "PROGRESS: Finished prediction in 0.023231s"
       ]
      },
      {
       "html": [
        "<pre>PROGRESS: Recsys training: model = item_similarity</pre>"
       ],
       "metadata": {},
       "output_type": "display_data",
       "text": [
        "PROGRESS: Recsys training: model = item_similarity"
       ]
      },
      {
       "html": [
        "<pre>PROGRESS: Finished prediction in 0.028005s</pre>"
       ],
       "metadata": {},
       "output_type": "display_data",
       "text": [
        "PROGRESS: Finished prediction in 0.028005s"
       ]
      },
      {
       "html": [
        "<pre>PROGRESS: Recsys training: model = item_similarity</pre>"
       ],
       "metadata": {},
       "output_type": "display_data",
       "text": [
        "PROGRESS: Recsys training: model = item_similarity"
       ]
      },
      {
       "html": [
        "<pre>PROGRESS: Finished prediction in 0.024956s</pre>"
       ],
       "metadata": {},
       "output_type": "display_data",
       "text": [
        "PROGRESS: Finished prediction in 0.024956s"
       ]
      },
      {
       "html": [
        "<pre>PROGRESS: Recsys training: model = item_similarity</pre>"
       ],
       "metadata": {},
       "output_type": "display_data",
       "text": [
        "PROGRESS: Recsys training: model = item_similarity"
       ]
      },
      {
       "html": [
        "<pre>PROGRESS: Finished prediction in 0.037037s</pre>"
       ],
       "metadata": {},
       "output_type": "display_data",
       "text": [
        "PROGRESS: Finished prediction in 0.037037s"
       ]
      },
      {
       "html": [
        "<pre>PROGRESS: Recsys training: model = item_similarity</pre>"
       ],
       "metadata": {},
       "output_type": "display_data",
       "text": [
        "PROGRESS: Recsys training: model = item_similarity"
       ]
      },
      {
       "html": [
        "<pre>PROGRESS: Finished prediction in 0.034277s</pre>"
       ],
       "metadata": {},
       "output_type": "display_data",
       "text": [
        "PROGRESS: Finished prediction in 0.034277s"
       ]
      },
      {
       "html": [
        "<pre>PROGRESS: Recsys training: model = item_similarity</pre>"
       ],
       "metadata": {},
       "output_type": "display_data",
       "text": [
        "PROGRESS: Recsys training: model = item_similarity"
       ]
      },
      {
       "html": [
        "<pre>PROGRESS: Finished prediction in 0.024503s</pre>"
       ],
       "metadata": {},
       "output_type": "display_data",
       "text": [
        "PROGRESS: Finished prediction in 0.024503s"
       ]
      },
      {
       "html": [
        "<pre>PROGRESS: Recsys training: model = item_similarity</pre>"
       ],
       "metadata": {},
       "output_type": "display_data",
       "text": [
        "PROGRESS: Recsys training: model = item_similarity"
       ]
      },
      {
       "html": [
        "<pre>PROGRESS: Finished prediction in 0.027674s</pre>"
       ],
       "metadata": {},
       "output_type": "display_data",
       "text": [
        "PROGRESS: Finished prediction in 0.027674s"
       ]
      },
      {
       "html": [
        "<pre>PROGRESS: Recsys training: model = item_similarity</pre>"
       ],
       "metadata": {},
       "output_type": "display_data",
       "text": [
        "PROGRESS: Recsys training: model = item_similarity"
       ]
      },
      {
       "html": [
        "<pre>PROGRESS: Finished prediction in 0.027433s</pre>"
       ],
       "metadata": {},
       "output_type": "display_data",
       "text": [
        "PROGRESS: Finished prediction in 0.027433s"
       ]
      },
      {
       "html": [
        "<pre>PROGRESS: Recsys training: model = item_similarity</pre>"
       ],
       "metadata": {},
       "output_type": "display_data",
       "text": [
        "PROGRESS: Recsys training: model = item_similarity"
       ]
      },
      {
       "html": [
        "<pre>PROGRESS: Finished prediction in 0.027272s</pre>"
       ],
       "metadata": {},
       "output_type": "display_data",
       "text": [
        "PROGRESS: Finished prediction in 0.027272s"
       ]
      },
      {
       "html": [
        "<pre>PROGRESS: Recsys training: model = item_similarity</pre>"
       ],
       "metadata": {},
       "output_type": "display_data",
       "text": [
        "PROGRESS: Recsys training: model = item_similarity"
       ]
      },
      {
       "html": [
        "<pre>PROGRESS: Finished prediction in 0.039729s</pre>"
       ],
       "metadata": {},
       "output_type": "display_data",
       "text": [
        "PROGRESS: Finished prediction in 0.039729s"
       ]
      },
      {
       "html": [
        "<pre>PROGRESS: Recsys training: model = item_similarity</pre>"
       ],
       "metadata": {},
       "output_type": "display_data",
       "text": [
        "PROGRESS: Recsys training: model = item_similarity"
       ]
      },
      {
       "html": [
        "<pre>PROGRESS: Finished prediction in 0.032209s</pre>"
       ],
       "metadata": {},
       "output_type": "display_data",
       "text": [
        "PROGRESS: Finished prediction in 0.032209s"
       ]
      },
      {
       "html": [
        "<pre>PROGRESS: Recsys training: model = item_similarity</pre>"
       ],
       "metadata": {},
       "output_type": "display_data",
       "text": [
        "PROGRESS: Recsys training: model = item_similarity"
       ]
      },
      {
       "html": [
        "<pre>PROGRESS: Finished prediction in 0.031663s</pre>"
       ],
       "metadata": {},
       "output_type": "display_data",
       "text": [
        "PROGRESS: Finished prediction in 0.031663s"
       ]
      },
      {
       "html": [
        "<pre>PROGRESS: Recsys training: model = item_similarity</pre>"
       ],
       "metadata": {},
       "output_type": "display_data",
       "text": [
        "PROGRESS: Recsys training: model = item_similarity"
       ]
      },
      {
       "html": [
        "<pre>PROGRESS: Finished prediction in 0.027679s</pre>"
       ],
       "metadata": {},
       "output_type": "display_data",
       "text": [
        "PROGRESS: Finished prediction in 0.027679s"
       ]
      },
      {
       "html": [
        "<pre>PROGRESS: Recsys training: model = item_similarity</pre>"
       ],
       "metadata": {},
       "output_type": "display_data",
       "text": [
        "PROGRESS: Recsys training: model = item_similarity"
       ]
      },
      {
       "html": [
        "<pre>PROGRESS: Finished prediction in 0.025272s</pre>"
       ],
       "metadata": {},
       "output_type": "display_data",
       "text": [
        "PROGRESS: Finished prediction in 0.025272s"
       ]
      },
      {
       "html": [
        "<pre>PROGRESS: Recsys training: model = item_similarity</pre>"
       ],
       "metadata": {},
       "output_type": "display_data",
       "text": [
        "PROGRESS: Recsys training: model = item_similarity"
       ]
      },
      {
       "html": [
        "<pre>PROGRESS: Finished prediction in 0.030304s</pre>"
       ],
       "metadata": {},
       "output_type": "display_data",
       "text": [
        "PROGRESS: Finished prediction in 0.030304s"
       ]
      },
      {
       "html": [
        "<pre>PROGRESS: Recsys training: model = item_similarity</pre>"
       ],
       "metadata": {},
       "output_type": "display_data",
       "text": [
        "PROGRESS: Recsys training: model = item_similarity"
       ]
      },
      {
       "html": [
        "<pre>PROGRESS: Finished prediction in 0.031014s</pre>"
       ],
       "metadata": {},
       "output_type": "display_data",
       "text": [
        "PROGRESS: Finished prediction in 0.031014s"
       ]
      },
      {
       "html": [
        "<pre>PROGRESS: Recsys training: model = item_similarity</pre>"
       ],
       "metadata": {},
       "output_type": "display_data",
       "text": [
        "PROGRESS: Recsys training: model = item_similarity"
       ]
      },
      {
       "html": [
        "<pre>PROGRESS: Finished prediction in 0.014057s</pre>"
       ],
       "metadata": {},
       "output_type": "display_data",
       "text": [
        "PROGRESS: Finished prediction in 0.014057s"
       ]
      },
      {
       "html": [
        "<pre>PROGRESS: Recsys training: model = item_similarity</pre>"
       ],
       "metadata": {},
       "output_type": "display_data",
       "text": [
        "PROGRESS: Recsys training: model = item_similarity"
       ]
      },
      {
       "html": [
        "<pre>PROGRESS: Finished prediction in 0.015655s</pre>"
       ],
       "metadata": {},
       "output_type": "display_data",
       "text": [
        "PROGRESS: Finished prediction in 0.015655s"
       ]
      },
      {
       "html": [
        "<pre>PROGRESS: Recsys training: model = item_similarity</pre>"
       ],
       "metadata": {},
       "output_type": "display_data",
       "text": [
        "PROGRESS: Recsys training: model = item_similarity"
       ]
      },
      {
       "html": [
        "<pre>PROGRESS: Finished prediction in 0.015818s</pre>"
       ],
       "metadata": {},
       "output_type": "display_data",
       "text": [
        "PROGRESS: Finished prediction in 0.015818s"
       ]
      },
      {
       "html": [
        "<pre>PROGRESS: Recsys training: model = item_similarity</pre>"
       ],
       "metadata": {},
       "output_type": "display_data",
       "text": [
        "PROGRESS: Recsys training: model = item_similarity"
       ]
      },
      {
       "html": [
        "<pre>PROGRESS: Finished prediction in 0.019103s</pre>"
       ],
       "metadata": {},
       "output_type": "display_data",
       "text": [
        "PROGRESS: Finished prediction in 0.019103s"
       ]
      },
      {
       "html": [
        "<pre>PROGRESS: Recsys training: model = item_similarity</pre>"
       ],
       "metadata": {},
       "output_type": "display_data",
       "text": [
        "PROGRESS: Recsys training: model = item_similarity"
       ]
      },
      {
       "html": [
        "<pre>PROGRESS: Finished prediction in 0.015338s</pre>"
       ],
       "metadata": {},
       "output_type": "display_data",
       "text": [
        "PROGRESS: Finished prediction in 0.015338s"
       ]
      },
      {
       "html": [
        "<pre>PROGRESS: Recsys training: model = item_similarity</pre>"
       ],
       "metadata": {},
       "output_type": "display_data",
       "text": [
        "PROGRESS: Recsys training: model = item_similarity"
       ]
      },
      {
       "html": [
        "<pre>PROGRESS: Finished prediction in 0.018341s</pre>"
       ],
       "metadata": {},
       "output_type": "display_data",
       "text": [
        "PROGRESS: Finished prediction in 0.018341s"
       ]
      },
      {
       "html": [
        "<pre>PROGRESS: Recsys training: model = item_similarity</pre>"
       ],
       "metadata": {},
       "output_type": "display_data",
       "text": [
        "PROGRESS: Recsys training: model = item_similarity"
       ]
      },
      {
       "html": [
        "<pre>PROGRESS: Finished prediction in 0.024574s</pre>"
       ],
       "metadata": {},
       "output_type": "display_data",
       "text": [
        "PROGRESS: Finished prediction in 0.024574s"
       ]
      },
      {
       "html": [
        "<pre>PROGRESS: Recsys training: model = item_similarity</pre>"
       ],
       "metadata": {},
       "output_type": "display_data",
       "text": [
        "PROGRESS: Recsys training: model = item_similarity"
       ]
      },
      {
       "html": [
        "<pre>PROGRESS: Finished prediction in 0.016407s</pre>"
       ],
       "metadata": {},
       "output_type": "display_data",
       "text": [
        "PROGRESS: Finished prediction in 0.016407s"
       ]
      },
      {
       "html": [
        "<pre>PROGRESS: Recsys training: model = item_similarity</pre>"
       ],
       "metadata": {},
       "output_type": "display_data",
       "text": [
        "PROGRESS: Recsys training: model = item_similarity"
       ]
      },
      {
       "html": [
        "<pre>PROGRESS: Finished prediction in 0.021251s</pre>"
       ],
       "metadata": {},
       "output_type": "display_data",
       "text": [
        "PROGRESS: Finished prediction in 0.021251s"
       ]
      },
      {
       "html": [
        "<pre>PROGRESS: Recsys training: model = item_similarity</pre>"
       ],
       "metadata": {},
       "output_type": "display_data",
       "text": [
        "PROGRESS: Recsys training: model = item_similarity"
       ]
      },
      {
       "html": [
        "<pre>PROGRESS: Finished prediction in 0.017924s</pre>"
       ],
       "metadata": {},
       "output_type": "display_data",
       "text": [
        "PROGRESS: Finished prediction in 0.017924s"
       ]
      },
      {
       "html": [
        "<pre>PROGRESS: Recsys training: model = item_similarity</pre>"
       ],
       "metadata": {},
       "output_type": "display_data",
       "text": [
        "PROGRESS: Recsys training: model = item_similarity"
       ]
      },
      {
       "html": [
        "<pre>PROGRESS: Finished prediction in 0.019795s</pre>"
       ],
       "metadata": {},
       "output_type": "display_data",
       "text": [
        "PROGRESS: Finished prediction in 0.019795s"
       ]
      },
      {
       "html": [
        "<pre>PROGRESS: Recsys training: model = item_similarity</pre>"
       ],
       "metadata": {},
       "output_type": "display_data",
       "text": [
        "PROGRESS: Recsys training: model = item_similarity"
       ]
      },
      {
       "html": [
        "<pre>PROGRESS: Finished prediction in 0.016607s</pre>"
       ],
       "metadata": {},
       "output_type": "display_data",
       "text": [
        "PROGRESS: Finished prediction in 0.016607s"
       ]
      },
      {
       "html": [
        "<pre>PROGRESS: Recsys training: model = item_similarity</pre>"
       ],
       "metadata": {},
       "output_type": "display_data",
       "text": [
        "PROGRESS: Recsys training: model = item_similarity"
       ]
      },
      {
       "html": [
        "<pre>PROGRESS: Finished prediction in 0.021122s</pre>"
       ],
       "metadata": {},
       "output_type": "display_data",
       "text": [
        "PROGRESS: Finished prediction in 0.021122s"
       ]
      },
      {
       "html": [
        "<pre>PROGRESS: Recsys training: model = item_similarity</pre>"
       ],
       "metadata": {},
       "output_type": "display_data",
       "text": [
        "PROGRESS: Recsys training: model = item_similarity"
       ]
      },
      {
       "html": [
        "<pre>PROGRESS: Finished prediction in 0.017437s</pre>"
       ],
       "metadata": {},
       "output_type": "display_data",
       "text": [
        "PROGRESS: Finished prediction in 0.017437s"
       ]
      },
      {
       "html": [
        "<pre>PROGRESS: Recsys training: model = item_similarity</pre>"
       ],
       "metadata": {},
       "output_type": "display_data",
       "text": [
        "PROGRESS: Recsys training: model = item_similarity"
       ]
      },
      {
       "html": [
        "<pre>PROGRESS: Finished prediction in 0.022298s</pre>"
       ],
       "metadata": {},
       "output_type": "display_data",
       "text": [
        "PROGRESS: Finished prediction in 0.022298s"
       ]
      },
      {
       "html": [
        "<pre>PROGRESS: Recsys training: model = item_similarity</pre>"
       ],
       "metadata": {},
       "output_type": "display_data",
       "text": [
        "PROGRESS: Recsys training: model = item_similarity"
       ]
      },
      {
       "html": [
        "<pre>PROGRESS: Finished prediction in 0.021254s</pre>"
       ],
       "metadata": {},
       "output_type": "display_data",
       "text": [
        "PROGRESS: Finished prediction in 0.021254s"
       ]
      },
      {
       "html": [
        "<pre>PROGRESS: Recsys training: model = item_similarity</pre>"
       ],
       "metadata": {},
       "output_type": "display_data",
       "text": [
        "PROGRESS: Recsys training: model = item_similarity"
       ]
      },
      {
       "html": [
        "<pre>PROGRESS: Finished prediction in 0.018157s</pre>"
       ],
       "metadata": {},
       "output_type": "display_data",
       "text": [
        "PROGRESS: Finished prediction in 0.018157s"
       ]
      },
      {
       "html": [
        "<pre>PROGRESS: Recsys training: model = item_similarity</pre>"
       ],
       "metadata": {},
       "output_type": "display_data",
       "text": [
        "PROGRESS: Recsys training: model = item_similarity"
       ]
      },
      {
       "html": [
        "<pre>PROGRESS: Finished prediction in 0.020816s</pre>"
       ],
       "metadata": {},
       "output_type": "display_data",
       "text": [
        "PROGRESS: Finished prediction in 0.020816s"
       ]
      },
      {
       "html": [
        "<pre>PROGRESS: Recsys training: model = item_similarity</pre>"
       ],
       "metadata": {},
       "output_type": "display_data",
       "text": [
        "PROGRESS: Recsys training: model = item_similarity"
       ]
      },
      {
       "html": [
        "<pre>PROGRESS: Finished prediction in 0.027843s</pre>"
       ],
       "metadata": {},
       "output_type": "display_data",
       "text": [
        "PROGRESS: Finished prediction in 0.027843s"
       ]
      },
      {
       "html": [
        "<pre>PROGRESS: Recsys training: model = item_similarity</pre>"
       ],
       "metadata": {},
       "output_type": "display_data",
       "text": [
        "PROGRESS: Recsys training: model = item_similarity"
       ]
      },
      {
       "html": [
        "<pre>PROGRESS: Finished prediction in 0.023738s</pre>"
       ],
       "metadata": {},
       "output_type": "display_data",
       "text": [
        "PROGRESS: Finished prediction in 0.023738s"
       ]
      },
      {
       "html": [
        "<pre>PROGRESS: Recsys training: model = item_similarity</pre>"
       ],
       "metadata": {},
       "output_type": "display_data",
       "text": [
        "PROGRESS: Recsys training: model = item_similarity"
       ]
      },
      {
       "html": [
        "<pre>PROGRESS: Finished prediction in 0.023553s</pre>"
       ],
       "metadata": {},
       "output_type": "display_data",
       "text": [
        "PROGRESS: Finished prediction in 0.023553s"
       ]
      },
      {
       "html": [
        "<pre>PROGRESS: Recsys training: model = item_similarity</pre>"
       ],
       "metadata": {},
       "output_type": "display_data",
       "text": [
        "PROGRESS: Recsys training: model = item_similarity"
       ]
      },
      {
       "html": [
        "<pre>PROGRESS: Finished prediction in 0.025235s</pre>"
       ],
       "metadata": {},
       "output_type": "display_data",
       "text": [
        "PROGRESS: Finished prediction in 0.025235s"
       ]
      },
      {
       "html": [
        "<pre>PROGRESS: Recsys training: model = item_similarity</pre>"
       ],
       "metadata": {},
       "output_type": "display_data",
       "text": [
        "PROGRESS: Recsys training: model = item_similarity"
       ]
      },
      {
       "html": [
        "<pre>PROGRESS: Finished prediction in 0.023225s</pre>"
       ],
       "metadata": {},
       "output_type": "display_data",
       "text": [
        "PROGRESS: Finished prediction in 0.023225s"
       ]
      },
      {
       "html": [
        "<pre>PROGRESS: Recsys training: model = item_similarity</pre>"
       ],
       "metadata": {},
       "output_type": "display_data",
       "text": [
        "PROGRESS: Recsys training: model = item_similarity"
       ]
      },
      {
       "html": [
        "<pre>PROGRESS: Finished prediction in 0.02574s</pre>"
       ],
       "metadata": {},
       "output_type": "display_data",
       "text": [
        "PROGRESS: Finished prediction in 0.02574s"
       ]
      },
      {
       "html": [
        "<pre>PROGRESS: Recsys training: model = item_similarity</pre>"
       ],
       "metadata": {},
       "output_type": "display_data",
       "text": [
        "PROGRESS: Recsys training: model = item_similarity"
       ]
      },
      {
       "html": [
        "<pre>PROGRESS: Finished prediction in 0.024183s</pre>"
       ],
       "metadata": {},
       "output_type": "display_data",
       "text": [
        "PROGRESS: Finished prediction in 0.024183s"
       ]
      },
      {
       "html": [
        "<pre>PROGRESS: Recsys training: model = item_similarity</pre>"
       ],
       "metadata": {},
       "output_type": "display_data",
       "text": [
        "PROGRESS: Recsys training: model = item_similarity"
       ]
      },
      {
       "html": [
        "<pre>PROGRESS: Finished prediction in 0.024112s</pre>"
       ],
       "metadata": {},
       "output_type": "display_data",
       "text": [
        "PROGRESS: Finished prediction in 0.024112s"
       ]
      },
      {
       "html": [
        "<pre>PROGRESS: Recsys training: model = item_similarity</pre>"
       ],
       "metadata": {},
       "output_type": "display_data",
       "text": [
        "PROGRESS: Recsys training: model = item_similarity"
       ]
      },
      {
       "html": [
        "<pre>PROGRESS: Finished prediction in 0.023306s</pre>"
       ],
       "metadata": {},
       "output_type": "display_data",
       "text": [
        "PROGRESS: Finished prediction in 0.023306s"
       ]
      },
      {
       "html": [
        "<pre>PROGRESS: Recsys training: model = item_similarity</pre>"
       ],
       "metadata": {},
       "output_type": "display_data",
       "text": [
        "PROGRESS: Recsys training: model = item_similarity"
       ]
      },
      {
       "html": [
        "<pre>PROGRESS: Finished prediction in 0.024334s</pre>"
       ],
       "metadata": {},
       "output_type": "display_data",
       "text": [
        "PROGRESS: Finished prediction in 0.024334s"
       ]
      },
      {
       "html": [
        "<pre>PROGRESS: Recsys training: model = item_similarity</pre>"
       ],
       "metadata": {},
       "output_type": "display_data",
       "text": [
        "PROGRESS: Recsys training: model = item_similarity"
       ]
      },
      {
       "html": [
        "<pre>PROGRESS: Finished prediction in 0.02514s</pre>"
       ],
       "metadata": {},
       "output_type": "display_data",
       "text": [
        "PROGRESS: Finished prediction in 0.02514s"
       ]
      },
      {
       "html": [
        "<pre>PROGRESS: Recsys training: model = item_similarity</pre>"
       ],
       "metadata": {},
       "output_type": "display_data",
       "text": [
        "PROGRESS: Recsys training: model = item_similarity"
       ]
      },
      {
       "html": [
        "<pre>PROGRESS: Finished prediction in 0.024798s</pre>"
       ],
       "metadata": {},
       "output_type": "display_data",
       "text": [
        "PROGRESS: Finished prediction in 0.024798s"
       ]
      },
      {
       "html": [
        "<pre>PROGRESS: Recsys training: model = item_similarity</pre>"
       ],
       "metadata": {},
       "output_type": "display_data",
       "text": [
        "PROGRESS: Recsys training: model = item_similarity"
       ]
      },
      {
       "html": [
        "<pre>PROGRESS: Finished prediction in 0.01641s</pre>"
       ],
       "metadata": {},
       "output_type": "display_data",
       "text": [
        "PROGRESS: Finished prediction in 0.01641s"
       ]
      },
      {
       "html": [
        "<pre>PROGRESS: Recsys training: model = item_similarity</pre>"
       ],
       "metadata": {},
       "output_type": "display_data",
       "text": [
        "PROGRESS: Recsys training: model = item_similarity"
       ]
      },
      {
       "html": [
        "<pre>PROGRESS: Finished prediction in 0.015201s</pre>"
       ],
       "metadata": {},
       "output_type": "display_data",
       "text": [
        "PROGRESS: Finished prediction in 0.015201s"
       ]
      },
      {
       "html": [
        "<pre>PROGRESS: Recsys training: model = item_similarity</pre>"
       ],
       "metadata": {},
       "output_type": "display_data",
       "text": [
        "PROGRESS: Recsys training: model = item_similarity"
       ]
      },
      {
       "html": [
        "<pre>PROGRESS: Finished prediction in 0.014388s</pre>"
       ],
       "metadata": {},
       "output_type": "display_data",
       "text": [
        "PROGRESS: Finished prediction in 0.014388s"
       ]
      },
      {
       "html": [
        "<pre>PROGRESS: Recsys training: model = item_similarity</pre>"
       ],
       "metadata": {},
       "output_type": "display_data",
       "text": [
        "PROGRESS: Recsys training: model = item_similarity"
       ]
      },
      {
       "html": [
        "<pre>PROGRESS: Finished prediction in 0.015662s</pre>"
       ],
       "metadata": {},
       "output_type": "display_data",
       "text": [
        "PROGRESS: Finished prediction in 0.015662s"
       ]
      },
      {
       "html": [
        "<pre>PROGRESS: Recsys training: model = item_similarity</pre>"
       ],
       "metadata": {},
       "output_type": "display_data",
       "text": [
        "PROGRESS: Recsys training: model = item_similarity"
       ]
      },
      {
       "html": [
        "<pre>PROGRESS: Finished prediction in 0.017227s</pre>"
       ],
       "metadata": {},
       "output_type": "display_data",
       "text": [
        "PROGRESS: Finished prediction in 0.017227s"
       ]
      },
      {
       "html": [
        "<pre>PROGRESS: Recsys training: model = item_similarity</pre>"
       ],
       "metadata": {},
       "output_type": "display_data",
       "text": [
        "PROGRESS: Recsys training: model = item_similarity"
       ]
      },
      {
       "html": [
        "<pre>PROGRESS: Finished prediction in 0.017476s</pre>"
       ],
       "metadata": {},
       "output_type": "display_data",
       "text": [
        "PROGRESS: Finished prediction in 0.017476s"
       ]
      },
      {
       "html": [
        "<pre>PROGRESS: Recsys training: model = item_similarity</pre>"
       ],
       "metadata": {},
       "output_type": "display_data",
       "text": [
        "PROGRESS: Recsys training: model = item_similarity"
       ]
      },
      {
       "html": [
        "<pre>PROGRESS: Finished prediction in 0.015861s</pre>"
       ],
       "metadata": {},
       "output_type": "display_data",
       "text": [
        "PROGRESS: Finished prediction in 0.015861s"
       ]
      },
      {
       "html": [
        "<pre>PROGRESS: Recsys training: model = item_similarity</pre>"
       ],
       "metadata": {},
       "output_type": "display_data",
       "text": [
        "PROGRESS: Recsys training: model = item_similarity"
       ]
      },
      {
       "html": [
        "<pre>PROGRESS: Finished prediction in 0.015093s</pre>"
       ],
       "metadata": {},
       "output_type": "display_data",
       "text": [
        "PROGRESS: Finished prediction in 0.015093s"
       ]
      },
      {
       "html": [
        "<pre>PROGRESS: Recsys training: model = item_similarity</pre>"
       ],
       "metadata": {},
       "output_type": "display_data",
       "text": [
        "PROGRESS: Recsys training: model = item_similarity"
       ]
      },
      {
       "html": [
        "<pre>PROGRESS: Finished prediction in 0.021701s</pre>"
       ],
       "metadata": {},
       "output_type": "display_data",
       "text": [
        "PROGRESS: Finished prediction in 0.021701s"
       ]
      },
      {
       "html": [
        "<pre>PROGRESS: Recsys training: model = item_similarity</pre>"
       ],
       "metadata": {},
       "output_type": "display_data",
       "text": [
        "PROGRESS: Recsys training: model = item_similarity"
       ]
      },
      {
       "html": [
        "<pre>PROGRESS: Finished prediction in 0.016074s</pre>"
       ],
       "metadata": {},
       "output_type": "display_data",
       "text": [
        "PROGRESS: Finished prediction in 0.016074s"
       ]
      },
      {
       "html": [
        "<pre>PROGRESS: Recsys training: model = item_similarity</pre>"
       ],
       "metadata": {},
       "output_type": "display_data",
       "text": [
        "PROGRESS: Recsys training: model = item_similarity"
       ]
      },
      {
       "html": [
        "<pre>PROGRESS: Finished prediction in 0.019001s</pre>"
       ],
       "metadata": {},
       "output_type": "display_data",
       "text": [
        "PROGRESS: Finished prediction in 0.019001s"
       ]
      },
      {
       "html": [
        "<pre>PROGRESS: Recsys training: model = item_similarity</pre>"
       ],
       "metadata": {},
       "output_type": "display_data",
       "text": [
        "PROGRESS: Recsys training: model = item_similarity"
       ]
      },
      {
       "html": [
        "<pre>PROGRESS: Finished prediction in 0.016857s</pre>"
       ],
       "metadata": {},
       "output_type": "display_data",
       "text": [
        "PROGRESS: Finished prediction in 0.016857s"
       ]
      },
      {
       "html": [
        "<pre>PROGRESS: Recsys training: model = item_similarity</pre>"
       ],
       "metadata": {},
       "output_type": "display_data",
       "text": [
        "PROGRESS: Recsys training: model = item_similarity"
       ]
      },
      {
       "html": [
        "<pre>PROGRESS: Finished prediction in 0.023321s</pre>"
       ],
       "metadata": {},
       "output_type": "display_data",
       "text": [
        "PROGRESS: Finished prediction in 0.023321s"
       ]
      },
      {
       "html": [
        "<pre>PROGRESS: Recsys training: model = item_similarity</pre>"
       ],
       "metadata": {},
       "output_type": "display_data",
       "text": [
        "PROGRESS: Recsys training: model = item_similarity"
       ]
      },
      {
       "html": [
        "<pre>PROGRESS: Finished prediction in 0.021372s</pre>"
       ],
       "metadata": {},
       "output_type": "display_data",
       "text": [
        "PROGRESS: Finished prediction in 0.021372s"
       ]
      },
      {
       "html": [
        "<pre>PROGRESS: Recsys training: model = item_similarity</pre>"
       ],
       "metadata": {},
       "output_type": "display_data",
       "text": [
        "PROGRESS: Recsys training: model = item_similarity"
       ]
      },
      {
       "html": [
        "<pre>PROGRESS: Finished prediction in 0.018293s</pre>"
       ],
       "metadata": {},
       "output_type": "display_data",
       "text": [
        "PROGRESS: Finished prediction in 0.018293s"
       ]
      },
      {
       "html": [
        "<pre>PROGRESS: Recsys training: model = item_similarity</pre>"
       ],
       "metadata": {},
       "output_type": "display_data",
       "text": [
        "PROGRESS: Recsys training: model = item_similarity"
       ]
      },
      {
       "html": [
        "<pre>PROGRESS: Finished prediction in 0.019955s</pre>"
       ],
       "metadata": {},
       "output_type": "display_data",
       "text": [
        "PROGRESS: Finished prediction in 0.019955s"
       ]
      },
      {
       "html": [
        "<pre>PROGRESS: Recsys training: model = item_similarity</pre>"
       ],
       "metadata": {},
       "output_type": "display_data",
       "text": [
        "PROGRESS: Recsys training: model = item_similarity"
       ]
      },
      {
       "html": [
        "<pre>PROGRESS: Finished prediction in 0.022266s</pre>"
       ],
       "metadata": {},
       "output_type": "display_data",
       "text": [
        "PROGRESS: Finished prediction in 0.022266s"
       ]
      },
      {
       "html": [
        "<pre>PROGRESS: Recsys training: model = item_similarity</pre>"
       ],
       "metadata": {},
       "output_type": "display_data",
       "text": [
        "PROGRESS: Recsys training: model = item_similarity"
       ]
      },
      {
       "html": [
        "<pre>PROGRESS: Finished prediction in 0.024723s</pre>"
       ],
       "metadata": {},
       "output_type": "display_data",
       "text": [
        "PROGRESS: Finished prediction in 0.024723s"
       ]
      },
      {
       "html": [
        "<pre>PROGRESS: Recsys training: model = item_similarity</pre>"
       ],
       "metadata": {},
       "output_type": "display_data",
       "text": [
        "PROGRESS: Recsys training: model = item_similarity"
       ]
      },
      {
       "html": [
        "<pre>PROGRESS: Finished prediction in 0.023644s</pre>"
       ],
       "metadata": {},
       "output_type": "display_data",
       "text": [
        "PROGRESS: Finished prediction in 0.023644s"
       ]
      },
      {
       "html": [
        "<pre>PROGRESS: Recsys training: model = item_similarity</pre>"
       ],
       "metadata": {},
       "output_type": "display_data",
       "text": [
        "PROGRESS: Recsys training: model = item_similarity"
       ]
      },
      {
       "html": [
        "<pre>PROGRESS: Finished prediction in 0.027922s</pre>"
       ],
       "metadata": {},
       "output_type": "display_data",
       "text": [
        "PROGRESS: Finished prediction in 0.027922s"
       ]
      },
      {
       "html": [
        "<pre>PROGRESS: Recsys training: model = item_similarity</pre>"
       ],
       "metadata": {},
       "output_type": "display_data",
       "text": [
        "PROGRESS: Recsys training: model = item_similarity"
       ]
      },
      {
       "html": [
        "<pre>PROGRESS: Finished prediction in 0.033791s</pre>"
       ],
       "metadata": {},
       "output_type": "display_data",
       "text": [
        "PROGRESS: Finished prediction in 0.033791s"
       ]
      },
      {
       "html": [
        "<pre>PROGRESS: Recsys training: model = item_similarity</pre>"
       ],
       "metadata": {},
       "output_type": "display_data",
       "text": [
        "PROGRESS: Recsys training: model = item_similarity"
       ]
      },
      {
       "html": [
        "<pre>PROGRESS: Finished prediction in 0.02251s</pre>"
       ],
       "metadata": {},
       "output_type": "display_data",
       "text": [
        "PROGRESS: Finished prediction in 0.02251s"
       ]
      },
      {
       "html": [
        "<pre>PROGRESS: Recsys training: model = item_similarity</pre>"
       ],
       "metadata": {},
       "output_type": "display_data",
       "text": [
        "PROGRESS: Recsys training: model = item_similarity"
       ]
      },
      {
       "html": [
        "<pre>PROGRESS: Finished prediction in 0.027534s</pre>"
       ],
       "metadata": {},
       "output_type": "display_data",
       "text": [
        "PROGRESS: Finished prediction in 0.027534s"
       ]
      },
      {
       "html": [
        "<pre>PROGRESS: Recsys training: model = item_similarity</pre>"
       ],
       "metadata": {},
       "output_type": "display_data",
       "text": [
        "PROGRESS: Recsys training: model = item_similarity"
       ]
      },
      {
       "html": [
        "<pre>PROGRESS: Finished prediction in 0.025164s</pre>"
       ],
       "metadata": {},
       "output_type": "display_data",
       "text": [
        "PROGRESS: Finished prediction in 0.025164s"
       ]
      },
      {
       "html": [
        "<pre>PROGRESS: Recsys training: model = item_similarity</pre>"
       ],
       "metadata": {},
       "output_type": "display_data",
       "text": [
        "PROGRESS: Recsys training: model = item_similarity"
       ]
      },
      {
       "html": [
        "<pre>PROGRESS: Finished prediction in 0.025484s</pre>"
       ],
       "metadata": {},
       "output_type": "display_data",
       "text": [
        "PROGRESS: Finished prediction in 0.025484s"
       ]
      },
      {
       "html": [
        "<pre>PROGRESS: Recsys training: model = item_similarity</pre>"
       ],
       "metadata": {},
       "output_type": "display_data",
       "text": [
        "PROGRESS: Recsys training: model = item_similarity"
       ]
      },
      {
       "html": [
        "<pre>PROGRESS: Finished prediction in 0.029568s</pre>"
       ],
       "metadata": {},
       "output_type": "display_data",
       "text": [
        "PROGRESS: Finished prediction in 0.029568s"
       ]
      },
      {
       "html": [
        "<pre>PROGRESS: Recsys training: model = item_similarity</pre>"
       ],
       "metadata": {},
       "output_type": "display_data",
       "text": [
        "PROGRESS: Recsys training: model = item_similarity"
       ]
      },
      {
       "html": [
        "<pre>PROGRESS: Finished prediction in 0.02639s</pre>"
       ],
       "metadata": {},
       "output_type": "display_data",
       "text": [
        "PROGRESS: Finished prediction in 0.02639s"
       ]
      },
      {
       "html": [
        "<pre>PROGRESS: Recsys training: model = item_similarity</pre>"
       ],
       "metadata": {},
       "output_type": "display_data",
       "text": [
        "PROGRESS: Recsys training: model = item_similarity"
       ]
      },
      {
       "html": [
        "<pre>PROGRESS: Finished prediction in 0.028333s</pre>"
       ],
       "metadata": {},
       "output_type": "display_data",
       "text": [
        "PROGRESS: Finished prediction in 0.028333s"
       ]
      },
      {
       "html": [
        "<pre>PROGRESS: Recsys training: model = item_similarity</pre>"
       ],
       "metadata": {},
       "output_type": "display_data",
       "text": [
        "PROGRESS: Recsys training: model = item_similarity"
       ]
      },
      {
       "html": [
        "<pre>PROGRESS: Finished prediction in 0.028309s</pre>"
       ],
       "metadata": {},
       "output_type": "display_data",
       "text": [
        "PROGRESS: Finished prediction in 0.028309s"
       ]
      },
      {
       "html": [
        "<pre>PROGRESS: Recsys training: model = item_similarity</pre>"
       ],
       "metadata": {},
       "output_type": "display_data",
       "text": [
        "PROGRESS: Recsys training: model = item_similarity"
       ]
      },
      {
       "html": [
        "<pre>PROGRESS: Finished prediction in 0.026618s</pre>"
       ],
       "metadata": {},
       "output_type": "display_data",
       "text": [
        "PROGRESS: Finished prediction in 0.026618s"
       ]
      },
      {
       "html": [
        "<pre>PROGRESS: Recsys training: model = item_similarity</pre>"
       ],
       "metadata": {},
       "output_type": "display_data",
       "text": [
        "PROGRESS: Recsys training: model = item_similarity"
       ]
      },
      {
       "html": [
        "<pre>PROGRESS: Finished prediction in 0.015579s</pre>"
       ],
       "metadata": {},
       "output_type": "display_data",
       "text": [
        "PROGRESS: Finished prediction in 0.015579s"
       ]
      },
      {
       "html": [
        "<pre>PROGRESS: Recsys training: model = item_similarity</pre>"
       ],
       "metadata": {},
       "output_type": "display_data",
       "text": [
        "PROGRESS: Recsys training: model = item_similarity"
       ]
      },
      {
       "html": [
        "<pre>PROGRESS: Finished prediction in 0.01095s</pre>"
       ],
       "metadata": {},
       "output_type": "display_data",
       "text": [
        "PROGRESS: Finished prediction in 0.01095s"
       ]
      },
      {
       "html": [
        "<pre>PROGRESS: Recsys training: model = item_similarity</pre>"
       ],
       "metadata": {},
       "output_type": "display_data",
       "text": [
        "PROGRESS: Recsys training: model = item_similarity"
       ]
      },
      {
       "html": [
        "<pre>PROGRESS: Finished prediction in 0.012301s</pre>"
       ],
       "metadata": {},
       "output_type": "display_data",
       "text": [
        "PROGRESS: Finished prediction in 0.012301s"
       ]
      },
      {
       "html": [
        "<pre>PROGRESS: Recsys training: model = item_similarity</pre>"
       ],
       "metadata": {},
       "output_type": "display_data",
       "text": [
        "PROGRESS: Recsys training: model = item_similarity"
       ]
      },
      {
       "html": [
        "<pre>PROGRESS: Finished prediction in 0.021887s</pre>"
       ],
       "metadata": {},
       "output_type": "display_data",
       "text": [
        "PROGRESS: Finished prediction in 0.021887s"
       ]
      },
      {
       "html": [
        "<pre>PROGRESS: Recsys training: model = item_similarity</pre>"
       ],
       "metadata": {},
       "output_type": "display_data",
       "text": [
        "PROGRESS: Recsys training: model = item_similarity"
       ]
      },
      {
       "html": [
        "<pre>PROGRESS: Finished prediction in 0.015685s</pre>"
       ],
       "metadata": {},
       "output_type": "display_data",
       "text": [
        "PROGRESS: Finished prediction in 0.015685s"
       ]
      },
      {
       "html": [
        "<pre>PROGRESS: Recsys training: model = item_similarity</pre>"
       ],
       "metadata": {},
       "output_type": "display_data",
       "text": [
        "PROGRESS: Recsys training: model = item_similarity"
       ]
      },
      {
       "html": [
        "<pre>PROGRESS: Finished prediction in 0.023551s</pre>"
       ],
       "metadata": {},
       "output_type": "display_data",
       "text": [
        "PROGRESS: Finished prediction in 0.023551s"
       ]
      },
      {
       "html": [
        "<pre>PROGRESS: Recsys training: model = item_similarity</pre>"
       ],
       "metadata": {},
       "output_type": "display_data",
       "text": [
        "PROGRESS: Recsys training: model = item_similarity"
       ]
      },
      {
       "html": [
        "<pre>PROGRESS: Finished prediction in 0.019383s</pre>"
       ],
       "metadata": {},
       "output_type": "display_data",
       "text": [
        "PROGRESS: Finished prediction in 0.019383s"
       ]
      },
      {
       "html": [
        "<pre>PROGRESS: Recsys training: model = item_similarity</pre>"
       ],
       "metadata": {},
       "output_type": "display_data",
       "text": [
        "PROGRESS: Recsys training: model = item_similarity"
       ]
      },
      {
       "html": [
        "<pre>PROGRESS: Finished prediction in 0.018992s</pre>"
       ],
       "metadata": {},
       "output_type": "display_data",
       "text": [
        "PROGRESS: Finished prediction in 0.018992s"
       ]
      },
      {
       "html": [
        "<pre>PROGRESS: Recsys training: model = item_similarity</pre>"
       ],
       "metadata": {},
       "output_type": "display_data",
       "text": [
        "PROGRESS: Recsys training: model = item_similarity"
       ]
      },
      {
       "html": [
        "<pre>PROGRESS: Finished prediction in 0.020885s</pre>"
       ],
       "metadata": {},
       "output_type": "display_data",
       "text": [
        "PROGRESS: Finished prediction in 0.020885s"
       ]
      },
      {
       "html": [
        "<pre>PROGRESS: Recsys training: model = item_similarity</pre>"
       ],
       "metadata": {},
       "output_type": "display_data",
       "text": [
        "PROGRESS: Recsys training: model = item_similarity"
       ]
      },
      {
       "html": [
        "<pre>PROGRESS: Finished prediction in 0.022459s</pre>"
       ],
       "metadata": {},
       "output_type": "display_data",
       "text": [
        "PROGRESS: Finished prediction in 0.022459s"
       ]
      },
      {
       "html": [
        "<pre>PROGRESS: Recsys training: model = item_similarity</pre>"
       ],
       "metadata": {},
       "output_type": "display_data",
       "text": [
        "PROGRESS: Recsys training: model = item_similarity"
       ]
      },
      {
       "html": [
        "<pre>PROGRESS: Finished prediction in 0.019678s</pre>"
       ],
       "metadata": {},
       "output_type": "display_data",
       "text": [
        "PROGRESS: Finished prediction in 0.019678s"
       ]
      },
      {
       "html": [
        "<pre>PROGRESS: Recsys training: model = item_similarity</pre>"
       ],
       "metadata": {},
       "output_type": "display_data",
       "text": [
        "PROGRESS: Recsys training: model = item_similarity"
       ]
      },
      {
       "html": [
        "<pre>PROGRESS: Finished prediction in 0.022669s</pre>"
       ],
       "metadata": {},
       "output_type": "display_data",
       "text": [
        "PROGRESS: Finished prediction in 0.022669s"
       ]
      },
      {
       "html": [
        "<pre>PROGRESS: Recsys training: model = item_similarity</pre>"
       ],
       "metadata": {},
       "output_type": "display_data",
       "text": [
        "PROGRESS: Recsys training: model = item_similarity"
       ]
      },
      {
       "html": [
        "<pre>PROGRESS: Finished prediction in 0.045862s</pre>"
       ],
       "metadata": {},
       "output_type": "display_data",
       "text": [
        "PROGRESS: Finished prediction in 0.045862s"
       ]
      },
      {
       "html": [
        "<pre>PROGRESS: Recsys training: model = item_similarity</pre>"
       ],
       "metadata": {},
       "output_type": "display_data",
       "text": [
        "PROGRESS: Recsys training: model = item_similarity"
       ]
      },
      {
       "html": [
        "<pre>PROGRESS: Finished prediction in 0.03128s</pre>"
       ],
       "metadata": {},
       "output_type": "display_data",
       "text": [
        "PROGRESS: Finished prediction in 0.03128s"
       ]
      },
      {
       "html": [
        "<pre>PROGRESS: Recsys training: model = item_similarity</pre>"
       ],
       "metadata": {},
       "output_type": "display_data",
       "text": [
        "PROGRESS: Recsys training: model = item_similarity"
       ]
      },
      {
       "html": [
        "<pre>PROGRESS: Finished prediction in 0.027068s</pre>"
       ],
       "metadata": {},
       "output_type": "display_data",
       "text": [
        "PROGRESS: Finished prediction in 0.027068s"
       ]
      },
      {
       "html": [
        "<pre>PROGRESS: Recsys training: model = item_similarity</pre>"
       ],
       "metadata": {},
       "output_type": "display_data",
       "text": [
        "PROGRESS: Recsys training: model = item_similarity"
       ]
      },
      {
       "html": [
        "<pre>PROGRESS: Finished prediction in 0.02594s</pre>"
       ],
       "metadata": {},
       "output_type": "display_data",
       "text": [
        "PROGRESS: Finished prediction in 0.02594s"
       ]
      },
      {
       "html": [
        "<pre>PROGRESS: Recsys training: model = item_similarity</pre>"
       ],
       "metadata": {},
       "output_type": "display_data",
       "text": [
        "PROGRESS: Recsys training: model = item_similarity"
       ]
      },
      {
       "html": [
        "<pre>PROGRESS: Finished prediction in 0.021622s</pre>"
       ],
       "metadata": {},
       "output_type": "display_data",
       "text": [
        "PROGRESS: Finished prediction in 0.021622s"
       ]
      },
      {
       "html": [
        "<pre>PROGRESS: Recsys training: model = item_similarity</pre>"
       ],
       "metadata": {},
       "output_type": "display_data",
       "text": [
        "PROGRESS: Recsys training: model = item_similarity"
       ]
      },
      {
       "html": [
        "<pre>PROGRESS: Finished prediction in 0.024744s</pre>"
       ],
       "metadata": {},
       "output_type": "display_data",
       "text": [
        "PROGRESS: Finished prediction in 0.024744s"
       ]
      },
      {
       "html": [
        "<pre>PROGRESS: Recsys training: model = item_similarity</pre>"
       ],
       "metadata": {},
       "output_type": "display_data",
       "text": [
        "PROGRESS: Recsys training: model = item_similarity"
       ]
      },
      {
       "html": [
        "<pre>PROGRESS: Finished prediction in 0.027419s</pre>"
       ],
       "metadata": {},
       "output_type": "display_data",
       "text": [
        "PROGRESS: Finished prediction in 0.027419s"
       ]
      },
      {
       "html": [
        "<pre>PROGRESS: Recsys training: model = item_similarity</pre>"
       ],
       "metadata": {},
       "output_type": "display_data",
       "text": [
        "PROGRESS: Recsys training: model = item_similarity"
       ]
      },
      {
       "html": [
        "<pre>PROGRESS: Finished prediction in 0.025321s</pre>"
       ],
       "metadata": {},
       "output_type": "display_data",
       "text": [
        "PROGRESS: Finished prediction in 0.025321s"
       ]
      },
      {
       "html": [
        "<pre>PROGRESS: Recsys training: model = item_similarity</pre>"
       ],
       "metadata": {},
       "output_type": "display_data",
       "text": [
        "PROGRESS: Recsys training: model = item_similarity"
       ]
      },
      {
       "html": [
        "<pre>PROGRESS: Finished prediction in 0.027026s</pre>"
       ],
       "metadata": {},
       "output_type": "display_data",
       "text": [
        "PROGRESS: Finished prediction in 0.027026s"
       ]
      },
      {
       "html": [
        "<pre>PROGRESS: Recsys training: model = item_similarity</pre>"
       ],
       "metadata": {},
       "output_type": "display_data",
       "text": [
        "PROGRESS: Recsys training: model = item_similarity"
       ]
      },
      {
       "html": [
        "<pre>PROGRESS: Finished prediction in 0.022543s</pre>"
       ],
       "metadata": {},
       "output_type": "display_data",
       "text": [
        "PROGRESS: Finished prediction in 0.022543s"
       ]
      },
      {
       "html": [
        "<pre>PROGRESS: Recsys training: model = item_similarity</pre>"
       ],
       "metadata": {},
       "output_type": "display_data",
       "text": [
        "PROGRESS: Recsys training: model = item_similarity"
       ]
      },
      {
       "html": [
        "<pre>PROGRESS: Finished prediction in 0.025225s</pre>"
       ],
       "metadata": {},
       "output_type": "display_data",
       "text": [
        "PROGRESS: Finished prediction in 0.025225s"
       ]
      },
      {
       "html": [
        "<pre>PROGRESS: Recsys training: model = item_similarity</pre>"
       ],
       "metadata": {},
       "output_type": "display_data",
       "text": [
        "PROGRESS: Recsys training: model = item_similarity"
       ]
      },
      {
       "html": [
        "<pre>PROGRESS: Finished prediction in 0.02575s</pre>"
       ],
       "metadata": {},
       "output_type": "display_data",
       "text": [
        "PROGRESS: Finished prediction in 0.02575s"
       ]
      },
      {
       "html": [
        "<pre>PROGRESS: Recsys training: model = item_similarity</pre>"
       ],
       "metadata": {},
       "output_type": "display_data",
       "text": [
        "PROGRESS: Recsys training: model = item_similarity"
       ]
      },
      {
       "html": [
        "<pre>PROGRESS: Finished prediction in 0.025649s</pre>"
       ],
       "metadata": {},
       "output_type": "display_data",
       "text": [
        "PROGRESS: Finished prediction in 0.025649s"
       ]
      },
      {
       "html": [
        "<pre>PROGRESS: Recsys training: model = item_similarity</pre>"
       ],
       "metadata": {},
       "output_type": "display_data",
       "text": [
        "PROGRESS: Recsys training: model = item_similarity"
       ]
      },
      {
       "html": [
        "<pre>PROGRESS: Finished prediction in 0.024509s</pre>"
       ],
       "metadata": {},
       "output_type": "display_data",
       "text": [
        "PROGRESS: Finished prediction in 0.024509s"
       ]
      },
      {
       "html": [
        "<pre>PROGRESS: Recsys training: model = item_similarity</pre>"
       ],
       "metadata": {},
       "output_type": "display_data",
       "text": [
        "PROGRESS: Recsys training: model = item_similarity"
       ]
      },
      {
       "html": [
        "<pre>PROGRESS: Finished prediction in 0.028854s</pre>"
       ],
       "metadata": {},
       "output_type": "display_data",
       "text": [
        "PROGRESS: Finished prediction in 0.028854s"
       ]
      },
      {
       "html": [
        "<pre>PROGRESS: Recsys training: model = item_similarity</pre>"
       ],
       "metadata": {},
       "output_type": "display_data",
       "text": [
        "PROGRESS: Recsys training: model = item_similarity"
       ]
      },
      {
       "html": [
        "<pre>PROGRESS: Finished prediction in 0.028184s</pre>"
       ],
       "metadata": {},
       "output_type": "display_data",
       "text": [
        "PROGRESS: Finished prediction in 0.028184s"
       ]
      },
      {
       "html": [
        "<pre>PROGRESS: Recsys training: model = item_similarity</pre>"
       ],
       "metadata": {},
       "output_type": "display_data",
       "text": [
        "PROGRESS: Recsys training: model = item_similarity"
       ]
      },
      {
       "html": [
        "<pre>PROGRESS: Finished prediction in 0.032077s</pre>"
       ],
       "metadata": {},
       "output_type": "display_data",
       "text": [
        "PROGRESS: Finished prediction in 0.032077s"
       ]
      },
      {
       "html": [
        "<pre>PROGRESS: Recsys training: model = item_similarity</pre>"
       ],
       "metadata": {},
       "output_type": "display_data",
       "text": [
        "PROGRESS: Recsys training: model = item_similarity"
       ]
      },
      {
       "html": [
        "<pre>PROGRESS: Finished prediction in 0.029513s</pre>"
       ],
       "metadata": {},
       "output_type": "display_data",
       "text": [
        "PROGRESS: Finished prediction in 0.029513s"
       ]
      },
      {
       "html": [
        "<pre>PROGRESS: Recsys training: model = item_similarity</pre>"
       ],
       "metadata": {},
       "output_type": "display_data",
       "text": [
        "PROGRESS: Recsys training: model = item_similarity"
       ]
      },
      {
       "html": [
        "<pre>PROGRESS: Finished prediction in 0.013354s</pre>"
       ],
       "metadata": {},
       "output_type": "display_data",
       "text": [
        "PROGRESS: Finished prediction in 0.013354s"
       ]
      },
      {
       "html": [
        "<pre>PROGRESS: Recsys training: model = item_similarity</pre>"
       ],
       "metadata": {},
       "output_type": "display_data",
       "text": [
        "PROGRESS: Recsys training: model = item_similarity"
       ]
      },
      {
       "html": [
        "<pre>PROGRESS: Finished prediction in 0.01634s</pre>"
       ],
       "metadata": {},
       "output_type": "display_data",
       "text": [
        "PROGRESS: Finished prediction in 0.01634s"
       ]
      },
      {
       "html": [
        "<pre>PROGRESS: Recsys training: model = item_similarity</pre>"
       ],
       "metadata": {},
       "output_type": "display_data",
       "text": [
        "PROGRESS: Recsys training: model = item_similarity"
       ]
      },
      {
       "html": [
        "<pre>PROGRESS: Finished prediction in 0.018003s</pre>"
       ],
       "metadata": {},
       "output_type": "display_data",
       "text": [
        "PROGRESS: Finished prediction in 0.018003s"
       ]
      },
      {
       "html": [
        "<pre>PROGRESS: Recsys training: model = item_similarity</pre>"
       ],
       "metadata": {},
       "output_type": "display_data",
       "text": [
        "PROGRESS: Recsys training: model = item_similarity"
       ]
      },
      {
       "html": [
        "<pre>PROGRESS: Finished prediction in 0.016011s</pre>"
       ],
       "metadata": {},
       "output_type": "display_data",
       "text": [
        "PROGRESS: Finished prediction in 0.016011s"
       ]
      },
      {
       "html": [
        "<pre>PROGRESS: Recsys training: model = item_similarity</pre>"
       ],
       "metadata": {},
       "output_type": "display_data",
       "text": [
        "PROGRESS: Recsys training: model = item_similarity"
       ]
      },
      {
       "html": [
        "<pre>PROGRESS: Finished prediction in 0.014402s</pre>"
       ],
       "metadata": {},
       "output_type": "display_data",
       "text": [
        "PROGRESS: Finished prediction in 0.014402s"
       ]
      },
      {
       "html": [
        "<pre>PROGRESS: Recsys training: model = item_similarity</pre>"
       ],
       "metadata": {},
       "output_type": "display_data",
       "text": [
        "PROGRESS: Recsys training: model = item_similarity"
       ]
      },
      {
       "html": [
        "<pre>PROGRESS: Finished prediction in 0.017515s</pre>"
       ],
       "metadata": {},
       "output_type": "display_data",
       "text": [
        "PROGRESS: Finished prediction in 0.017515s"
       ]
      },
      {
       "html": [
        "<pre>PROGRESS: Recsys training: model = item_similarity</pre>"
       ],
       "metadata": {},
       "output_type": "display_data",
       "text": [
        "PROGRESS: Recsys training: model = item_similarity"
       ]
      },
      {
       "html": [
        "<pre>PROGRESS: Finished prediction in 0.017973s</pre>"
       ],
       "metadata": {},
       "output_type": "display_data",
       "text": [
        "PROGRESS: Finished prediction in 0.017973s"
       ]
      },
      {
       "html": [
        "<pre>PROGRESS: Recsys training: model = item_similarity</pre>"
       ],
       "metadata": {},
       "output_type": "display_data",
       "text": [
        "PROGRESS: Recsys training: model = item_similarity"
       ]
      },
      {
       "html": [
        "<pre>PROGRESS: Finished prediction in 0.0192s</pre>"
       ],
       "metadata": {},
       "output_type": "display_data",
       "text": [
        "PROGRESS: Finished prediction in 0.0192s"
       ]
      },
      {
       "html": [
        "<pre>PROGRESS: Recsys training: model = item_similarity</pre>"
       ],
       "metadata": {},
       "output_type": "display_data",
       "text": [
        "PROGRESS: Recsys training: model = item_similarity"
       ]
      },
      {
       "html": [
        "<pre>PROGRESS: Finished prediction in 0.017067s</pre>"
       ],
       "metadata": {},
       "output_type": "display_data",
       "text": [
        "PROGRESS: Finished prediction in 0.017067s"
       ]
      },
      {
       "html": [
        "<pre>PROGRESS: Recsys training: model = item_similarity</pre>"
       ],
       "metadata": {},
       "output_type": "display_data",
       "text": [
        "PROGRESS: Recsys training: model = item_similarity"
       ]
      },
      {
       "html": [
        "<pre>PROGRESS: Finished prediction in 0.01809s</pre>"
       ],
       "metadata": {},
       "output_type": "display_data",
       "text": [
        "PROGRESS: Finished prediction in 0.01809s"
       ]
      },
      {
       "html": [
        "<pre>PROGRESS: Recsys training: model = item_similarity</pre>"
       ],
       "metadata": {},
       "output_type": "display_data",
       "text": [
        "PROGRESS: Recsys training: model = item_similarity"
       ]
      },
      {
       "html": [
        "<pre>PROGRESS: Finished prediction in 0.021337s</pre>"
       ],
       "metadata": {},
       "output_type": "display_data",
       "text": [
        "PROGRESS: Finished prediction in 0.021337s"
       ]
      },
      {
       "html": [
        "<pre>PROGRESS: Recsys training: model = item_similarity</pre>"
       ],
       "metadata": {},
       "output_type": "display_data",
       "text": [
        "PROGRESS: Recsys training: model = item_similarity"
       ]
      },
      {
       "html": [
        "<pre>PROGRESS: Finished prediction in 0.021449s</pre>"
       ],
       "metadata": {},
       "output_type": "display_data",
       "text": [
        "PROGRESS: Finished prediction in 0.021449s"
       ]
      },
      {
       "html": [
        "<pre>PROGRESS: Recsys training: model = item_similarity</pre>"
       ],
       "metadata": {},
       "output_type": "display_data",
       "text": [
        "PROGRESS: Recsys training: model = item_similarity"
       ]
      },
      {
       "html": [
        "<pre>PROGRESS: Finished prediction in 0.031351s</pre>"
       ],
       "metadata": {},
       "output_type": "display_data",
       "text": [
        "PROGRESS: Finished prediction in 0.031351s"
       ]
      },
      {
       "html": [
        "<pre>PROGRESS: Recsys training: model = item_similarity</pre>"
       ],
       "metadata": {},
       "output_type": "display_data",
       "text": [
        "PROGRESS: Recsys training: model = item_similarity"
       ]
      },
      {
       "html": [
        "<pre>PROGRESS: Finished prediction in 0.031558s</pre>"
       ],
       "metadata": {},
       "output_type": "display_data",
       "text": [
        "PROGRESS: Finished prediction in 0.031558s"
       ]
      },
      {
       "html": [
        "<pre>PROGRESS: Recsys training: model = item_similarity</pre>"
       ],
       "metadata": {},
       "output_type": "display_data",
       "text": [
        "PROGRESS: Recsys training: model = item_similarity"
       ]
      },
      {
       "html": [
        "<pre>PROGRESS: Finished prediction in 0.020737s</pre>"
       ],
       "metadata": {},
       "output_type": "display_data",
       "text": [
        "PROGRESS: Finished prediction in 0.020737s"
       ]
      },
      {
       "html": [
        "<pre>PROGRESS: Recsys training: model = item_similarity</pre>"
       ],
       "metadata": {},
       "output_type": "display_data",
       "text": [
        "PROGRESS: Recsys training: model = item_similarity"
       ]
      },
      {
       "html": [
        "<pre>PROGRESS: Finished prediction in 0.021852s</pre>"
       ],
       "metadata": {},
       "output_type": "display_data",
       "text": [
        "PROGRESS: Finished prediction in 0.021852s"
       ]
      },
      {
       "html": [
        "<pre>PROGRESS: Recsys training: model = item_similarity</pre>"
       ],
       "metadata": {},
       "output_type": "display_data",
       "text": [
        "PROGRESS: Recsys training: model = item_similarity"
       ]
      },
      {
       "html": [
        "<pre>PROGRESS: Finished prediction in 0.0249s</pre>"
       ],
       "metadata": {},
       "output_type": "display_data",
       "text": [
        "PROGRESS: Finished prediction in 0.0249s"
       ]
      },
      {
       "html": [
        "<pre>PROGRESS: Recsys training: model = item_similarity</pre>"
       ],
       "metadata": {},
       "output_type": "display_data",
       "text": [
        "PROGRESS: Recsys training: model = item_similarity"
       ]
      },
      {
       "html": [
        "<pre>PROGRESS: Finished prediction in 0.019438s</pre>"
       ],
       "metadata": {},
       "output_type": "display_data",
       "text": [
        "PROGRESS: Finished prediction in 0.019438s"
       ]
      },
      {
       "html": [
        "<pre>PROGRESS: Recsys training: model = item_similarity</pre>"
       ],
       "metadata": {},
       "output_type": "display_data",
       "text": [
        "PROGRESS: Recsys training: model = item_similarity"
       ]
      },
      {
       "html": [
        "<pre>PROGRESS: Finished prediction in 0.020109s</pre>"
       ],
       "metadata": {},
       "output_type": "display_data",
       "text": [
        "PROGRESS: Finished prediction in 0.020109s"
       ]
      },
      {
       "html": [
        "<pre>PROGRESS: Recsys training: model = item_similarity</pre>"
       ],
       "metadata": {},
       "output_type": "display_data",
       "text": [
        "PROGRESS: Recsys training: model = item_similarity"
       ]
      },
      {
       "html": [
        "<pre>PROGRESS: Finished prediction in 0.021803s</pre>"
       ],
       "metadata": {},
       "output_type": "display_data",
       "text": [
        "PROGRESS: Finished prediction in 0.021803s"
       ]
      },
      {
       "html": [
        "<pre>PROGRESS: Recsys training: model = item_similarity</pre>"
       ],
       "metadata": {},
       "output_type": "display_data",
       "text": [
        "PROGRESS: Recsys training: model = item_similarity"
       ]
      },
      {
       "html": [
        "<pre>PROGRESS: Finished prediction in 0.020153s</pre>"
       ],
       "metadata": {},
       "output_type": "display_data",
       "text": [
        "PROGRESS: Finished prediction in 0.020153s"
       ]
      },
      {
       "html": [
        "<pre>PROGRESS: Recsys training: model = item_similarity</pre>"
       ],
       "metadata": {},
       "output_type": "display_data",
       "text": [
        "PROGRESS: Recsys training: model = item_similarity"
       ]
      },
      {
       "html": [
        "<pre>PROGRESS: Finished prediction in 0.022012s</pre>"
       ],
       "metadata": {},
       "output_type": "display_data",
       "text": [
        "PROGRESS: Finished prediction in 0.022012s"
       ]
      },
      {
       "html": [
        "<pre>PROGRESS: Recsys training: model = item_similarity</pre>"
       ],
       "metadata": {},
       "output_type": "display_data",
       "text": [
        "PROGRESS: Recsys training: model = item_similarity"
       ]
      },
      {
       "html": [
        "<pre>PROGRESS: Finished prediction in 0.025235s</pre>"
       ],
       "metadata": {},
       "output_type": "display_data",
       "text": [
        "PROGRESS: Finished prediction in 0.025235s"
       ]
      },
      {
       "html": [
        "<pre>PROGRESS: Recsys training: model = item_similarity</pre>"
       ],
       "metadata": {},
       "output_type": "display_data",
       "text": [
        "PROGRESS: Recsys training: model = item_similarity"
       ]
      },
      {
       "html": [
        "<pre>PROGRESS: Finished prediction in 0.024879s</pre>"
       ],
       "metadata": {},
       "output_type": "display_data",
       "text": [
        "PROGRESS: Finished prediction in 0.024879s"
       ]
      },
      {
       "html": [
        "<pre>PROGRESS: Recsys training: model = item_similarity</pre>"
       ],
       "metadata": {},
       "output_type": "display_data",
       "text": [
        "PROGRESS: Recsys training: model = item_similarity"
       ]
      },
      {
       "html": [
        "<pre>PROGRESS: Finished prediction in 0.024083s</pre>"
       ],
       "metadata": {},
       "output_type": "display_data",
       "text": [
        "PROGRESS: Finished prediction in 0.024083s"
       ]
      },
      {
       "html": [
        "<pre>PROGRESS: Recsys training: model = item_similarity</pre>"
       ],
       "metadata": {},
       "output_type": "display_data",
       "text": [
        "PROGRESS: Recsys training: model = item_similarity"
       ]
      },
      {
       "html": [
        "<pre>PROGRESS: Finished prediction in 0.023293s</pre>"
       ],
       "metadata": {},
       "output_type": "display_data",
       "text": [
        "PROGRESS: Finished prediction in 0.023293s"
       ]
      },
      {
       "html": [
        "<pre>PROGRESS: Recsys training: model = item_similarity</pre>"
       ],
       "metadata": {},
       "output_type": "display_data",
       "text": [
        "PROGRESS: Recsys training: model = item_similarity"
       ]
      },
      {
       "html": [
        "<pre>PROGRESS: Finished prediction in 0.022378s</pre>"
       ],
       "metadata": {},
       "output_type": "display_data",
       "text": [
        "PROGRESS: Finished prediction in 0.022378s"
       ]
      },
      {
       "html": [
        "<pre>PROGRESS: Recsys training: model = item_similarity</pre>"
       ],
       "metadata": {},
       "output_type": "display_data",
       "text": [
        "PROGRESS: Recsys training: model = item_similarity"
       ]
      },
      {
       "html": [
        "<pre>PROGRESS: Finished prediction in 0.020628s</pre>"
       ],
       "metadata": {},
       "output_type": "display_data",
       "text": [
        "PROGRESS: Finished prediction in 0.020628s"
       ]
      },
      {
       "html": [
        "<pre>PROGRESS: Recsys training: model = item_similarity</pre>"
       ],
       "metadata": {},
       "output_type": "display_data",
       "text": [
        "PROGRESS: Recsys training: model = item_similarity"
       ]
      },
      {
       "html": [
        "<pre>PROGRESS: Finished prediction in 0.02243s</pre>"
       ],
       "metadata": {},
       "output_type": "display_data",
       "text": [
        "PROGRESS: Finished prediction in 0.02243s"
       ]
      },
      {
       "html": [
        "<pre>PROGRESS: Recsys training: model = item_similarity</pre>"
       ],
       "metadata": {},
       "output_type": "display_data",
       "text": [
        "PROGRESS: Recsys training: model = item_similarity"
       ]
      },
      {
       "html": [
        "<pre>PROGRESS: Finished prediction in 0.021082s</pre>"
       ],
       "metadata": {},
       "output_type": "display_data",
       "text": [
        "PROGRESS: Finished prediction in 0.021082s"
       ]
      },
      {
       "metadata": {},
       "output_type": "display_data",
       "png": "[encoded data removed]",
       "text": [
        "<matplotlib.figure.Figure at 0x7f18d7701990>"
       ]
      }
     ],
     "prompt_number": 23
    },
    {
     "cell_type": "code",
     "collapsed": false,
     "input": [
      "print np.mean(np.array(RSE[\"jaccard\"]),axis=0)\n",
      "\n",
      "for i in xrange(0,6):\n",
      "   for method in [\"jaccard\",\"cosine\",\"pearson\"]:\n",
      "      plt.plot(range(10,210,10),np.mean(np.array(RSE[method]),axis=0),label=method)"
     ],
     "language": "python",
     "metadata": {},
     "outputs": [
      {
       "output_type": "stream",
       "stream": "stdout",
       "text": [
        "[ 1.05075051  1.00991853  0.99296156  0.9854102   0.98227085  0.98048416\n",
        "  0.97938783  0.97917729  0.97894396  0.97941381  0.97991457  0.98090679\n",
        "  0.98168169  0.98215451  0.98287998  0.98351253  0.98416018  0.98481302\n",
        "  0.9855286   0.98636891]\n"
       ]
      },
      {
       "metadata": {},
       "output_type": "display_data",
       "png": "[encoded data removed]",
       "text": [
        "<matplotlib.figure.Figure at 0x7f18d779f850>"
       ]
      }
     ],
     "prompt_number": 22
    },
    {
     "cell_type": "heading",
     "level": 2,
     "metadata": {},
     "source": [
      "Matrix Factorization Recommendation\n"
     ]
    },
    {
     "cell_type": "code",
     "collapsed": false,
     "input": [
      "#parameters to test:\n",
      "#num_factors : int, optional\n",
      "#regularization : float, optional\n",
      "#linear_regularization : float, optionals\n",
      "#ranking_regularization : float, optional\n",
      "#max_iterations : int, optional\n",
      "#sgd_step_size : float, optional\n",
      "for i,(train, test) in enumerate(ml100Files()):\n",
      "    mat_fac = graphlab.recommender.ranking_factorization_recommender.create(train, user_id='user_id', item_id='item_id',verbose=False,max_iterations=200)\n",
      "    print \"RMSE = \"+str(mat_fac.evaluate_rmse(test,target=\"rating\")[\"rmse_overall\"])"
     ],
     "language": "python",
     "metadata": {},
     "outputs": [
      {
       "html": [
        "<pre>PROGRESS: Recsys training: model = ranking_factorization_recommender</pre>"
       ],
       "metadata": {},
       "output_type": "display_data",
       "text": [
        "PROGRESS: Recsys training: model = ranking_factorization_recommender"
       ]
      },
      {
       "output_type": "stream",
       "stream": "stdout",
       "text": [
        "RMSE = 3.27605948292"
       ]
      },
      {
       "html": [
        "<pre>PROGRESS: Recsys training: model = ranking_factorization_recommender</pre>"
       ],
       "metadata": {},
       "output_type": "display_data",
       "text": [
        "PROGRESS: Recsys training: model = ranking_factorization_recommender"
       ]
      },
      {
       "output_type": "stream",
       "stream": "stdout",
       "text": [
        "\n",
        "RMSE = 3.26954178199"
       ]
      },
      {
       "html": [
        "<pre>PROGRESS: Recsys training: model = ranking_factorization_recommender</pre>"
       ],
       "metadata": {},
       "output_type": "display_data",
       "text": [
        "PROGRESS: Recsys training: model = ranking_factorization_recommender"
       ]
      },
      {
       "output_type": "stream",
       "stream": "stdout",
       "text": [
        "\n",
        "RMSE = 3.2361481945"
       ]
      },
      {
       "html": [
        "<pre>PROGRESS: Recsys training: model = ranking_factorization_recommender</pre>"
       ],
       "metadata": {},
       "output_type": "display_data",
       "text": [
        "PROGRESS: Recsys training: model = ranking_factorization_recommender"
       ]
      },
      {
       "output_type": "stream",
       "stream": "stdout",
       "text": [
        "\n",
        "RMSE = 3.23021630034"
       ]
      },
      {
       "html": [
        "<pre>PROGRESS: Recsys training: model = ranking_factorization_recommender</pre>"
       ],
       "metadata": {},
       "output_type": "display_data",
       "text": [
        "PROGRESS: Recsys training: model = ranking_factorization_recommender"
       ]
      },
      {
       "output_type": "stream",
       "stream": "stdout",
       "text": [
        "\n",
        "RMSE = 3.24397155586"
       ]
      },
      {
       "output_type": "stream",
       "stream": "stdout",
       "text": [
        "\n"
       ]
      }
     ],
     "prompt_number": 9
    },
    {
     "cell_type": "code",
     "collapsed": false,
     "input": [
      "data = loadFileML100(\"ml-100k/u.data\")\n",
      "RSE = []\n",
      "for i,(train, test) in enumerate(ml100Files()):\n",
      "    err=[]\n",
      "    for k in xrange(10,200,10):\n",
      "        mat_fac = graphlab.recommender.ranking_factorization_recommender.create(train, user_id='user_id',num_factors=k, item_id='item_id',verbose=False,max_iterations=140)\n",
      "        err.append(mat_fac.evaluate_rmse(test,target=\"rating\")[\"rmse_overall\"])\n",
      "    RSE.append(err)\n",
      "\n",
      "plt.plot(range(10,200,10),RSE)"
     ],
     "language": "python",
     "metadata": {},
     "outputs": [
      {
       "html": [
        "<pre>PROGRESS: Recsys training: model = ranking_factorization_recommender</pre>"
       ],
       "metadata": {},
       "output_type": "display_data",
       "text": [
        "PROGRESS: Recsys training: model = ranking_factorization_recommender"
       ]
      },
      {
       "html": [
        "<pre>PROGRESS: Recsys training: model = ranking_factorization_recommender</pre>"
       ],
       "metadata": {},
       "output_type": "display_data",
       "text": [
        "PROGRESS: Recsys training: model = ranking_factorization_recommender"
       ]
      },
      {
       "html": [
        "<pre>PROGRESS: Recsys training: model = ranking_factorization_recommender</pre>"
       ],
       "metadata": {},
       "output_type": "display_data",
       "text": [
        "PROGRESS: Recsys training: model = ranking_factorization_recommender"
       ]
      },
      {
       "html": [
        "<pre>PROGRESS: Recsys training: model = ranking_factorization_recommender</pre>"
       ],
       "metadata": {},
       "output_type": "display_data",
       "text": [
        "PROGRESS: Recsys training: model = ranking_factorization_recommender"
       ]
      },
      {
       "html": [
        "<pre>PROGRESS: Recsys training: model = ranking_factorization_recommender</pre>"
       ],
       "metadata": {},
       "output_type": "display_data",
       "text": [
        "PROGRESS: Recsys training: model = ranking_factorization_recommender"
       ]
      },
      {
       "html": [
        "<pre>PROGRESS: Recsys training: model = ranking_factorization_recommender</pre>"
       ],
       "metadata": {},
       "output_type": "display_data",
       "text": [
        "PROGRESS: Recsys training: model = ranking_factorization_recommender"
       ]
      },
      {
       "html": [
        "<pre>PROGRESS: Recsys training: model = ranking_factorization_recommender</pre>"
       ],
       "metadata": {},
       "output_type": "display_data",
       "text": [
        "PROGRESS: Recsys training: model = ranking_factorization_recommender"
       ]
      },
      {
       "html": [
        "<pre>PROGRESS: Recsys training: model = ranking_factorization_recommender</pre>"
       ],
       "metadata": {},
       "output_type": "display_data",
       "text": [
        "PROGRESS: Recsys training: model = ranking_factorization_recommender"
       ]
      },
      {
       "html": [
        "<pre>PROGRESS: Recsys training: model = ranking_factorization_recommender</pre>"
       ],
       "metadata": {},
       "output_type": "display_data",
       "text": [
        "PROGRESS: Recsys training: model = ranking_factorization_recommender"
       ]
      },
      {
       "html": [
        "<pre>PROGRESS: Recsys training: model = ranking_factorization_recommender</pre>"
       ],
       "metadata": {},
       "output_type": "display_data",
       "text": [
        "PROGRESS: Recsys training: model = ranking_factorization_recommender"
       ]
      },
      {
       "html": [
        "<pre>PROGRESS: Recsys training: model = ranking_factorization_recommender</pre>"
       ],
       "metadata": {},
       "output_type": "display_data",
       "text": [
        "PROGRESS: Recsys training: model = ranking_factorization_recommender"
       ]
      },
      {
       "html": [
        "<pre>PROGRESS: Recsys training: model = ranking_factorization_recommender</pre>"
       ],
       "metadata": {},
       "output_type": "display_data",
       "text": [
        "PROGRESS: Recsys training: model = ranking_factorization_recommender"
       ]
      },
      {
       "html": [
        "<pre>PROGRESS: Recsys training: model = ranking_factorization_recommender</pre>"
       ],
       "metadata": {},
       "output_type": "display_data",
       "text": [
        "PROGRESS: Recsys training: model = ranking_factorization_recommender"
       ]
      },
      {
       "html": [
        "<pre>PROGRESS: Recsys training: model = ranking_factorization_recommender</pre>"
       ],
       "metadata": {},
       "output_type": "display_data",
       "text": [
        "PROGRESS: Recsys training: model = ranking_factorization_recommender"
       ]
      },
      {
       "html": [
        "<pre>PROGRESS: Recsys training: model = ranking_factorization_recommender</pre>"
       ],
       "metadata": {},
       "output_type": "display_data",
       "text": [
        "PROGRESS: Recsys training: model = ranking_factorization_recommender"
       ]
      },
      {
       "html": [
        "<pre>PROGRESS: Recsys training: model = ranking_factorization_recommender</pre>"
       ],
       "metadata": {},
       "output_type": "display_data",
       "text": [
        "PROGRESS: Recsys training: model = ranking_factorization_recommender"
       ]
      },
      {
       "html": [
        "<pre>PROGRESS: Recsys training: model = ranking_factorization_recommender</pre>"
       ],
       "metadata": {},
       "output_type": "display_data",
       "text": [
        "PROGRESS: Recsys training: model = ranking_factorization_recommender"
       ]
      },
      {
       "html": [
        "<pre>PROGRESS: Recsys training: model = ranking_factorization_recommender</pre>"
       ],
       "metadata": {},
       "output_type": "display_data",
       "text": [
        "PROGRESS: Recsys training: model = ranking_factorization_recommender"
       ]
      },
      {
       "html": [
        "<pre>PROGRESS: Recsys training: model = ranking_factorization_recommender</pre>"
       ],
       "metadata": {},
       "output_type": "display_data",
       "text": [
        "PROGRESS: Recsys training: model = ranking_factorization_recommender"
       ]
      },
      {
       "html": [
        "<pre>PROGRESS: Recsys training: model = ranking_factorization_recommender</pre>"
       ],
       "metadata": {},
       "output_type": "display_data",
       "text": [
        "PROGRESS: Recsys training: model = ranking_factorization_recommender"
       ]
      },
      {
       "html": [
        "<pre>PROGRESS: Recsys training: model = ranking_factorization_recommender</pre>"
       ],
       "metadata": {},
       "output_type": "display_data",
       "text": [
        "PROGRESS: Recsys training: model = ranking_factorization_recommender"
       ]
      },
      {
       "html": [
        "<pre>PROGRESS: Recsys training: model = ranking_factorization_recommender</pre>"
       ],
       "metadata": {},
       "output_type": "display_data",
       "text": [
        "PROGRESS: Recsys training: model = ranking_factorization_recommender"
       ]
      },
      {
       "html": [
        "<pre>PROGRESS: Recsys training: model = ranking_factorization_recommender</pre>"
       ],
       "metadata": {},
       "output_type": "display_data",
       "text": [
        "PROGRESS: Recsys training: model = ranking_factorization_recommender"
       ]
      },
      {
       "html": [
        "<pre>PROGRESS: Recsys training: model = ranking_factorization_recommender</pre>"
       ],
       "metadata": {},
       "output_type": "display_data",
       "text": [
        "PROGRESS: Recsys training: model = ranking_factorization_recommender"
       ]
      },
      {
       "html": [
        "<pre>PROGRESS: Recsys training: model = ranking_factorization_recommender</pre>"
       ],
       "metadata": {},
       "output_type": "display_data",
       "text": [
        "PROGRESS: Recsys training: model = ranking_factorization_recommender"
       ]
      },
      {
       "html": [
        "<pre>PROGRESS: Recsys training: model = ranking_factorization_recommender</pre>"
       ],
       "metadata": {},
       "output_type": "display_data",
       "text": [
        "PROGRESS: Recsys training: model = ranking_factorization_recommender"
       ]
      },
      {
       "html": [
        "<pre>PROGRESS: Recsys training: model = ranking_factorization_recommender</pre>"
       ],
       "metadata": {},
       "output_type": "display_data",
       "text": [
        "PROGRESS: Recsys training: model = ranking_factorization_recommender"
       ]
      },
      {
       "html": [
        "<pre>PROGRESS: Recsys training: model = ranking_factorization_recommender</pre>"
       ],
       "metadata": {},
       "output_type": "display_data",
       "text": [
        "PROGRESS: Recsys training: model = ranking_factorization_recommender"
       ]
      },
      {
       "html": [
        "<pre>PROGRESS: Recsys training: model = ranking_factorization_recommender</pre>"
       ],
       "metadata": {},
       "output_type": "display_data",
       "text": [
        "PROGRESS: Recsys training: model = ranking_factorization_recommender"
       ]
      },
      {
       "html": [
        "<pre>PROGRESS: Recsys training: model = ranking_factorization_recommender</pre>"
       ],
       "metadata": {},
       "output_type": "display_data",
       "text": [
        "PROGRESS: Recsys training: model = ranking_factorization_recommender"
       ]
      },
      {
       "html": [
        "<pre>PROGRESS: Recsys training: model = ranking_factorization_recommender</pre>"
       ],
       "metadata": {},
       "output_type": "display_data",
       "text": [
        "PROGRESS: Recsys training: model = ranking_factorization_recommender"
       ]
      },
      {
       "html": [
        "<pre>PROGRESS: Recsys training: model = ranking_factorization_recommender</pre>"
       ],
       "metadata": {},
       "output_type": "display_data",
       "text": [
        "PROGRESS: Recsys training: model = ranking_factorization_recommender"
       ]
      },
      {
       "html": [
        "<pre>PROGRESS: Recsys training: model = ranking_factorization_recommender</pre>"
       ],
       "metadata": {},
       "output_type": "display_data",
       "text": [
        "PROGRESS: Recsys training: model = ranking_factorization_recommender"
       ]
      },
      {
       "html": [
        "<pre>PROGRESS: Recsys training: model = ranking_factorization_recommender</pre>"
       ],
       "metadata": {},
       "output_type": "display_data",
       "text": [
        "PROGRESS: Recsys training: model = ranking_factorization_recommender"
       ]
      },
      {
       "html": [
        "<pre>PROGRESS: Recsys training: model = ranking_factorization_recommender</pre>"
       ],
       "metadata": {},
       "output_type": "display_data",
       "text": [
        "PROGRESS: Recsys training: model = ranking_factorization_recommender"
       ]
      },
      {
       "html": [
        "<pre>PROGRESS: Recsys training: model = ranking_factorization_recommender</pre>"
       ],
       "metadata": {},
       "output_type": "display_data",
       "text": [
        "PROGRESS: Recsys training: model = ranking_factorization_recommender"
       ]
      },
      {
       "html": [
        "<pre>PROGRESS: Recsys training: model = ranking_factorization_recommender</pre>"
       ],
       "metadata": {},
       "output_type": "display_data",
       "text": [
        "PROGRESS: Recsys training: model = ranking_factorization_recommender"
       ]
      },
      {
       "html": [
        "<pre>PROGRESS: Recsys training: model = ranking_factorization_recommender</pre>"
       ],
       "metadata": {},
       "output_type": "display_data",
       "text": [
        "PROGRESS: Recsys training: model = ranking_factorization_recommender"
       ]
      },
      {
       "html": [
        "<pre>PROGRESS: Recsys training: model = ranking_factorization_recommender</pre>"
       ],
       "metadata": {},
       "output_type": "display_data",
       "text": [
        "PROGRESS: Recsys training: model = ranking_factorization_recommender"
       ]
      },
      {
       "html": [
        "<pre>PROGRESS: Recsys training: model = ranking_factorization_recommender</pre>"
       ],
       "metadata": {},
       "output_type": "display_data",
       "text": [
        "PROGRESS: Recsys training: model = ranking_factorization_recommender"
       ]
      },
      {
       "html": [
        "<pre>PROGRESS: Recsys training: model = ranking_factorization_recommender</pre>"
       ],
       "metadata": {},
       "output_type": "display_data",
       "text": [
        "PROGRESS: Recsys training: model = ranking_factorization_recommender"
       ]
      },
      {
       "html": [
        "<pre>PROGRESS: Recsys training: model = ranking_factorization_recommender</pre>"
       ],
       "metadata": {},
       "output_type": "display_data",
       "text": [
        "PROGRESS: Recsys training: model = ranking_factorization_recommender"
       ]
      },
      {
       "html": [
        "<pre>PROGRESS: Recsys training: model = ranking_factorization_recommender</pre>"
       ],
       "metadata": {},
       "output_type": "display_data",
       "text": [
        "PROGRESS: Recsys training: model = ranking_factorization_recommender"
       ]
      },
      {
       "html": [
        "<pre>PROGRESS: Recsys training: model = ranking_factorization_recommender</pre>"
       ],
       "metadata": {},
       "output_type": "display_data",
       "text": [
        "PROGRESS: Recsys training: model = ranking_factorization_recommender"
       ]
      },
      {
       "html": [
        "<pre>PROGRESS: Recsys training: model = ranking_factorization_recommender</pre>"
       ],
       "metadata": {},
       "output_type": "display_data",
       "text": [
        "PROGRESS: Recsys training: model = ranking_factorization_recommender"
       ]
      },
      {
       "html": [
        "<pre>PROGRESS: Recsys training: model = ranking_factorization_recommender</pre>"
       ],
       "metadata": {},
       "output_type": "display_data",
       "text": [
        "PROGRESS: Recsys training: model = ranking_factorization_recommender"
       ]
      },
      {
       "html": [
        "<pre>PROGRESS: Recsys training: model = ranking_factorization_recommender</pre>"
       ],
       "metadata": {},
       "output_type": "display_data",
       "text": [
        "PROGRESS: Recsys training: model = ranking_factorization_recommender"
       ]
      },
      {
       "html": [
        "<pre>PROGRESS: Recsys training: model = ranking_factorization_recommender</pre>"
       ],
       "metadata": {},
       "output_type": "display_data",
       "text": [
        "PROGRESS: Recsys training: model = ranking_factorization_recommender"
       ]
      },
      {
       "html": [
        "<pre>PROGRESS: Recsys training: model = ranking_factorization_recommender</pre>"
       ],
       "metadata": {},
       "output_type": "display_data",
       "text": [
        "PROGRESS: Recsys training: model = ranking_factorization_recommender"
       ]
      },
      {
       "html": [
        "<pre>PROGRESS: Recsys training: model = ranking_factorization_recommender</pre>"
       ],
       "metadata": {},
       "output_type": "display_data",
       "text": [
        "PROGRESS: Recsys training: model = ranking_factorization_recommender"
       ]
      },
      {
       "html": [
        "<pre>PROGRESS: Recsys training: model = ranking_factorization_recommender</pre>"
       ],
       "metadata": {},
       "output_type": "display_data",
       "text": [
        "PROGRESS: Recsys training: model = ranking_factorization_recommender"
       ]
      },
      {
       "html": [
        "<pre>PROGRESS: Recsys training: model = ranking_factorization_recommender</pre>"
       ],
       "metadata": {},
       "output_type": "display_data",
       "text": [
        "PROGRESS: Recsys training: model = ranking_factorization_recommender"
       ]
      },
      {
       "html": [
        "<pre>PROGRESS: Recsys training: model = ranking_factorization_recommender</pre>"
       ],
       "metadata": {},
       "output_type": "display_data",
       "text": [
        "PROGRESS: Recsys training: model = ranking_factorization_recommender"
       ]
      },
      {
       "html": [
        "<pre>PROGRESS: Recsys training: model = ranking_factorization_recommender</pre>"
       ],
       "metadata": {},
       "output_type": "display_data",
       "text": [
        "PROGRESS: Recsys training: model = ranking_factorization_recommender"
       ]
      },
      {
       "html": [
        "<pre>PROGRESS: Recsys training: model = ranking_factorization_recommender</pre>"
       ],
       "metadata": {},
       "output_type": "display_data",
       "text": [
        "PROGRESS: Recsys training: model = ranking_factorization_recommender"
       ]
      },
      {
       "html": [
        "<pre>PROGRESS: Recsys training: model = ranking_factorization_recommender</pre>"
       ],
       "metadata": {},
       "output_type": "display_data",
       "text": [
        "PROGRESS: Recsys training: model = ranking_factorization_recommender"
       ]
      },
      {
       "html": [
        "<pre>PROGRESS: Recsys training: model = ranking_factorization_recommender</pre>"
       ],
       "metadata": {},
       "output_type": "display_data",
       "text": [
        "PROGRESS: Recsys training: model = ranking_factorization_recommender"
       ]
      },
      {
       "html": [
        "<pre>PROGRESS: Recsys training: model = ranking_factorization_recommender</pre>"
       ],
       "metadata": {},
       "output_type": "display_data",
       "text": [
        "PROGRESS: Recsys training: model = ranking_factorization_recommender"
       ]
      },
      {
       "html": [
        "<pre>PROGRESS: Recsys training: model = ranking_factorization_recommender</pre>"
       ],
       "metadata": {},
       "output_type": "display_data",
       "text": [
        "PROGRESS: Recsys training: model = ranking_factorization_recommender"
       ]
      },
      {
       "html": [
        "<pre>PROGRESS: Recsys training: model = ranking_factorization_recommender</pre>"
       ],
       "metadata": {},
       "output_type": "display_data",
       "text": [
        "PROGRESS: Recsys training: model = ranking_factorization_recommender"
       ]
      },
      {
       "html": [
        "<pre>PROGRESS: Recsys training: model = ranking_factorization_recommender</pre>"
       ],
       "metadata": {},
       "output_type": "display_data",
       "text": [
        "PROGRESS: Recsys training: model = ranking_factorization_recommender"
       ]
      },
      {
       "html": [
        "<pre>PROGRESS: Recsys training: model = ranking_factorization_recommender</pre>"
       ],
       "metadata": {},
       "output_type": "display_data",
       "text": [
        "PROGRESS: Recsys training: model = ranking_factorization_recommender"
       ]
      },
      {
       "html": [
        "<pre>PROGRESS: Recsys training: model = ranking_factorization_recommender</pre>"
       ],
       "metadata": {},
       "output_type": "display_data",
       "text": [
        "PROGRESS: Recsys training: model = ranking_factorization_recommender"
       ]
      },
      {
       "html": [
        "<pre>PROGRESS: Recsys training: model = ranking_factorization_recommender</pre>"
       ],
       "metadata": {},
       "output_type": "display_data",
       "text": [
        "PROGRESS: Recsys training: model = ranking_factorization_recommender"
       ]
      },
      {
       "html": [
        "<pre>PROGRESS: Recsys training: model = ranking_factorization_recommender</pre>"
       ],
       "metadata": {},
       "output_type": "display_data",
       "text": [
        "PROGRESS: Recsys training: model = ranking_factorization_recommender"
       ]
      },
      {
       "html": [
        "<pre>PROGRESS: Recsys training: model = ranking_factorization_recommender</pre>"
       ],
       "metadata": {},
       "output_type": "display_data",
       "text": [
        "PROGRESS: Recsys training: model = ranking_factorization_recommender"
       ]
      },
      {
       "html": [
        "<pre>PROGRESS: Recsys training: model = ranking_factorization_recommender</pre>"
       ],
       "metadata": {},
       "output_type": "display_data",
       "text": [
        "PROGRESS: Recsys training: model = ranking_factorization_recommender"
       ]
      },
      {
       "html": [
        "<pre>PROGRESS: Recsys training: model = ranking_factorization_recommender</pre>"
       ],
       "metadata": {},
       "output_type": "display_data",
       "text": [
        "PROGRESS: Recsys training: model = ranking_factorization_recommender"
       ]
      },
      {
       "html": [
        "<pre>PROGRESS: Recsys training: model = ranking_factorization_recommender</pre>"
       ],
       "metadata": {},
       "output_type": "display_data",
       "text": [
        "PROGRESS: Recsys training: model = ranking_factorization_recommender"
       ]
      },
      {
       "html": [
        "<pre>PROGRESS: Recsys training: model = ranking_factorization_recommender</pre>"
       ],
       "metadata": {},
       "output_type": "display_data",
       "text": [
        "PROGRESS: Recsys training: model = ranking_factorization_recommender"
       ]
      },
      {
       "html": [
        "<pre>PROGRESS: Recsys training: model = ranking_factorization_recommender</pre>"
       ],
       "metadata": {},
       "output_type": "display_data",
       "text": [
        "PROGRESS: Recsys training: model = ranking_factorization_recommender"
       ]
      },
      {
       "html": [
        "<pre>PROGRESS: Recsys training: model = ranking_factorization_recommender</pre>"
       ],
       "metadata": {},
       "output_type": "display_data",
       "text": [
        "PROGRESS: Recsys training: model = ranking_factorization_recommender"
       ]
      },
      {
       "html": [
        "<pre>PROGRESS: Recsys training: model = ranking_factorization_recommender</pre>"
       ],
       "metadata": {},
       "output_type": "display_data",
       "text": [
        "PROGRESS: Recsys training: model = ranking_factorization_recommender"
       ]
      },
      {
       "html": [
        "<pre>PROGRESS: Recsys training: model = ranking_factorization_recommender</pre>"
       ],
       "metadata": {},
       "output_type": "display_data",
       "text": [
        "PROGRESS: Recsys training: model = ranking_factorization_recommender"
       ]
      },
      {
       "html": [
        "<pre>PROGRESS: Recsys training: model = ranking_factorization_recommender</pre>"
       ],
       "metadata": {},
       "output_type": "display_data",
       "text": [
        "PROGRESS: Recsys training: model = ranking_factorization_recommender"
       ]
      },
      {
       "html": [
        "<pre>PROGRESS: Recsys training: model = ranking_factorization_recommender</pre>"
       ],
       "metadata": {},
       "output_type": "display_data",
       "text": [
        "PROGRESS: Recsys training: model = ranking_factorization_recommender"
       ]
      },
      {
       "html": [
        "<pre>PROGRESS: Recsys training: model = ranking_factorization_recommender</pre>"
       ],
       "metadata": {},
       "output_type": "display_data",
       "text": [
        "PROGRESS: Recsys training: model = ranking_factorization_recommender"
       ]
      },
      {
       "html": [
        "<pre>PROGRESS: Recsys training: model = ranking_factorization_recommender</pre>"
       ],
       "metadata": {},
       "output_type": "display_data",
       "text": [
        "PROGRESS: Recsys training: model = ranking_factorization_recommender"
       ]
      },
      {
       "html": [
        "<pre>PROGRESS: Recsys training: model = ranking_factorization_recommender</pre>"
       ],
       "metadata": {},
       "output_type": "display_data",
       "text": [
        "PROGRESS: Recsys training: model = ranking_factorization_recommender"
       ]
      },
      {
       "html": [
        "<pre>PROGRESS: Recsys training: model = ranking_factorization_recommender</pre>"
       ],
       "metadata": {},
       "output_type": "display_data",
       "text": [
        "PROGRESS: Recsys training: model = ranking_factorization_recommender"
       ]
      },
      {
       "html": [
        "<pre>PROGRESS: Recsys training: model = ranking_factorization_recommender</pre>"
       ],
       "metadata": {},
       "output_type": "display_data",
       "text": [
        "PROGRESS: Recsys training: model = ranking_factorization_recommender"
       ]
      },
      {
       "html": [
        "<pre>PROGRESS: Recsys training: model = ranking_factorization_recommender</pre>"
       ],
       "metadata": {},
       "output_type": "display_data",
       "text": [
        "PROGRESS: Recsys training: model = ranking_factorization_recommender"
       ]
      },
      {
       "html": [
        "<pre>PROGRESS: Recsys training: model = ranking_factorization_recommender</pre>"
       ],
       "metadata": {},
       "output_type": "display_data",
       "text": [
        "PROGRESS: Recsys training: model = ranking_factorization_recommender"
       ]
      },
      {
       "html": [
        "<pre>PROGRESS: Recsys training: model = ranking_factorization_recommender</pre>"
       ],
       "metadata": {},
       "output_type": "display_data",
       "text": [
        "PROGRESS: Recsys training: model = ranking_factorization_recommender"
       ]
      },
      {
       "html": [
        "<pre>PROGRESS: Recsys training: model = ranking_factorization_recommender</pre>"
       ],
       "metadata": {},
       "output_type": "display_data",
       "text": [
        "PROGRESS: Recsys training: model = ranking_factorization_recommender"
       ]
      },
      {
       "html": [
        "<pre>PROGRESS: Recsys training: model = ranking_factorization_recommender</pre>"
       ],
       "metadata": {},
       "output_type": "display_data",
       "text": [
        "PROGRESS: Recsys training: model = ranking_factorization_recommender"
       ]
      },
      {
       "html": [
        "<pre>PROGRESS: Recsys training: model = ranking_factorization_recommender</pre>"
       ],
       "metadata": {},
       "output_type": "display_data",
       "text": [
        "PROGRESS: Recsys training: model = ranking_factorization_recommender"
       ]
      },
      {
       "html": [
        "<pre>PROGRESS: Recsys training: model = ranking_factorization_recommender</pre>"
       ],
       "metadata": {},
       "output_type": "display_data",
       "text": [
        "PROGRESS: Recsys training: model = ranking_factorization_recommender"
       ]
      },
      {
       "html": [
        "<pre>PROGRESS: Recsys training: model = ranking_factorization_recommender</pre>"
       ],
       "metadata": {},
       "output_type": "display_data",
       "text": [
        "PROGRESS: Recsys training: model = ranking_factorization_recommender"
       ]
      },
      {
       "html": [
        "<pre>PROGRESS: Recsys training: model = ranking_factorization_recommender</pre>"
       ],
       "metadata": {},
       "output_type": "display_data",
       "text": [
        "PROGRESS: Recsys training: model = ranking_factorization_recommender"
       ]
      },
      {
       "html": [
        "<pre>PROGRESS: Recsys training: model = ranking_factorization_recommender</pre>"
       ],
       "metadata": {},
       "output_type": "display_data",
       "text": [
        "PROGRESS: Recsys training: model = ranking_factorization_recommender"
       ]
      },
      {
       "html": [
        "<pre>PROGRESS: Recsys training: model = ranking_factorization_recommender</pre>"
       ],
       "metadata": {},
       "output_type": "display_data",
       "text": [
        "PROGRESS: Recsys training: model = ranking_factorization_recommender"
       ]
      },
      {
       "html": [
        "<pre>PROGRESS: Recsys training: model = ranking_factorization_recommender</pre>"
       ],
       "metadata": {},
       "output_type": "display_data",
       "text": [
        "PROGRESS: Recsys training: model = ranking_factorization_recommender"
       ]
      },
      {
       "html": [
        "<pre>PROGRESS: Recsys training: model = ranking_factorization_recommender</pre>"
       ],
       "metadata": {},
       "output_type": "display_data",
       "text": [
        "PROGRESS: Recsys training: model = ranking_factorization_recommender"
       ]
      },
      {
       "html": [
        "<pre>PROGRESS: Recsys training: model = ranking_factorization_recommender</pre>"
       ],
       "metadata": {},
       "output_type": "display_data",
       "text": [
        "PROGRESS: Recsys training: model = ranking_factorization_recommender"
       ]
      },
      {
       "ename": "ValueError",
       "evalue": "x and y must have same first dimension",
       "output_type": "pyerr",
       "traceback": [
        "\u001b[0;31m---------------------------------------------------------------------------\u001b[0m\n\u001b[0;31mValueError\u001b[0m                                Traceback (most recent call last)",
        "\u001b[0;32m<ipython-input-26-95bb3fa60e3c>\u001b[0m in \u001b[0;36m<module>\u001b[0;34m()\u001b[0m\n\u001b[1;32m      6\u001b[0m         \u001b[0mRSE\u001b[0m\u001b[0;34m.\u001b[0m\u001b[0mappend\u001b[0m\u001b[0;34m(\u001b[0m\u001b[0mmat_fac\u001b[0m\u001b[0;34m.\u001b[0m\u001b[0mevaluate_rmse\u001b[0m\u001b[0;34m(\u001b[0m\u001b[0mtest\u001b[0m\u001b[0;34m,\u001b[0m\u001b[0mtarget\u001b[0m\u001b[0;34m=\u001b[0m\u001b[0;34m\"rating\"\u001b[0m\u001b[0;34m)\u001b[0m\u001b[0;34m[\u001b[0m\u001b[0;34m\"rmse_overall\"\u001b[0m\u001b[0;34m]\u001b[0m\u001b[0;34m)\u001b[0m\u001b[0;34m\u001b[0m\u001b[0m\n\u001b[1;32m      7\u001b[0m \u001b[0;34m\u001b[0m\u001b[0m\n\u001b[0;32m----> 8\u001b[0;31m \u001b[0mplt\u001b[0m\u001b[0;34m.\u001b[0m\u001b[0mplot\u001b[0m\u001b[0;34m(\u001b[0m\u001b[0mrange\u001b[0m\u001b[0;34m(\u001b[0m\u001b[0;36m10\u001b[0m\u001b[0;34m,\u001b[0m\u001b[0;36m200\u001b[0m\u001b[0;34m,\u001b[0m\u001b[0;36m10\u001b[0m\u001b[0;34m)\u001b[0m\u001b[0;34m,\u001b[0m\u001b[0mRSE\u001b[0m\u001b[0;34m)\u001b[0m\u001b[0;34m\u001b[0m\u001b[0m\n\u001b[0m",
        "\u001b[0;32m/usr/lib/pymodules/python2.7/matplotlib/pyplot.pyc\u001b[0m in \u001b[0;36mplot\u001b[0;34m(*args, **kwargs)\u001b[0m\n\u001b[1;32m   2985\u001b[0m         \u001b[0max\u001b[0m\u001b[0;34m.\u001b[0m\u001b[0mhold\u001b[0m\u001b[0;34m(\u001b[0m\u001b[0mhold\u001b[0m\u001b[0;34m)\u001b[0m\u001b[0;34m\u001b[0m\u001b[0m\n\u001b[1;32m   2986\u001b[0m     \u001b[0;32mtry\u001b[0m\u001b[0;34m:\u001b[0m\u001b[0;34m\u001b[0m\u001b[0m\n\u001b[0;32m-> 2987\u001b[0;31m         \u001b[0mret\u001b[0m \u001b[0;34m=\u001b[0m \u001b[0max\u001b[0m\u001b[0;34m.\u001b[0m\u001b[0mplot\u001b[0m\u001b[0;34m(\u001b[0m\u001b[0;34m*\u001b[0m\u001b[0margs\u001b[0m\u001b[0;34m,\u001b[0m \u001b[0;34m**\u001b[0m\u001b[0mkwargs\u001b[0m\u001b[0;34m)\u001b[0m\u001b[0;34m\u001b[0m\u001b[0m\n\u001b[0m\u001b[1;32m   2988\u001b[0m         \u001b[0mdraw_if_interactive\u001b[0m\u001b[0;34m(\u001b[0m\u001b[0;34m)\u001b[0m\u001b[0;34m\u001b[0m\u001b[0m\n\u001b[1;32m   2989\u001b[0m     \u001b[0;32mfinally\u001b[0m\u001b[0;34m:\u001b[0m\u001b[0;34m\u001b[0m\u001b[0m\n",
        "\u001b[0;32m/usr/lib/pymodules/python2.7/matplotlib/axes.pyc\u001b[0m in \u001b[0;36mplot\u001b[0;34m(self, *args, **kwargs)\u001b[0m\n\u001b[1;32m   4135\u001b[0m         \u001b[0mlines\u001b[0m \u001b[0;34m=\u001b[0m \u001b[0;34m[\u001b[0m\u001b[0;34m]\u001b[0m\u001b[0;34m\u001b[0m\u001b[0m\n\u001b[1;32m   4136\u001b[0m \u001b[0;34m\u001b[0m\u001b[0m\n\u001b[0;32m-> 4137\u001b[0;31m         \u001b[0;32mfor\u001b[0m \u001b[0mline\u001b[0m \u001b[0;32min\u001b[0m \u001b[0mself\u001b[0m\u001b[0;34m.\u001b[0m\u001b[0m_get_lines\u001b[0m\u001b[0;34m(\u001b[0m\u001b[0;34m*\u001b[0m\u001b[0margs\u001b[0m\u001b[0;34m,\u001b[0m \u001b[0;34m**\u001b[0m\u001b[0mkwargs\u001b[0m\u001b[0;34m)\u001b[0m\u001b[0;34m:\u001b[0m\u001b[0;34m\u001b[0m\u001b[0m\n\u001b[0m\u001b[1;32m   4138\u001b[0m             \u001b[0mself\u001b[0m\u001b[0;34m.\u001b[0m\u001b[0madd_line\u001b[0m\u001b[0;34m(\u001b[0m\u001b[0mline\u001b[0m\u001b[0;34m)\u001b[0m\u001b[0;34m\u001b[0m\u001b[0m\n\u001b[1;32m   4139\u001b[0m             \u001b[0mlines\u001b[0m\u001b[0;34m.\u001b[0m\u001b[0mappend\u001b[0m\u001b[0;34m(\u001b[0m\u001b[0mline\u001b[0m\u001b[0;34m)\u001b[0m\u001b[0;34m\u001b[0m\u001b[0m\n",
        "\u001b[0;32m/usr/lib/pymodules/python2.7/matplotlib/axes.pyc\u001b[0m in \u001b[0;36m_grab_next_args\u001b[0;34m(self, *args, **kwargs)\u001b[0m\n\u001b[1;32m    315\u001b[0m                 \u001b[0;32mreturn\u001b[0m\u001b[0;34m\u001b[0m\u001b[0m\n\u001b[1;32m    316\u001b[0m             \u001b[0;32mif\u001b[0m \u001b[0mlen\u001b[0m\u001b[0;34m(\u001b[0m\u001b[0mremaining\u001b[0m\u001b[0;34m)\u001b[0m \u001b[0;34m<=\u001b[0m \u001b[0;36m3\u001b[0m\u001b[0;34m:\u001b[0m\u001b[0;34m\u001b[0m\u001b[0m\n\u001b[0;32m--> 317\u001b[0;31m                 \u001b[0;32mfor\u001b[0m \u001b[0mseg\u001b[0m \u001b[0;32min\u001b[0m \u001b[0mself\u001b[0m\u001b[0;34m.\u001b[0m\u001b[0m_plot_args\u001b[0m\u001b[0;34m(\u001b[0m\u001b[0mremaining\u001b[0m\u001b[0;34m,\u001b[0m \u001b[0mkwargs\u001b[0m\u001b[0;34m)\u001b[0m\u001b[0;34m:\u001b[0m\u001b[0;34m\u001b[0m\u001b[0m\n\u001b[0m\u001b[1;32m    318\u001b[0m                     \u001b[0;32myield\u001b[0m \u001b[0mseg\u001b[0m\u001b[0;34m\u001b[0m\u001b[0m\n\u001b[1;32m    319\u001b[0m                 \u001b[0;32mreturn\u001b[0m\u001b[0;34m\u001b[0m\u001b[0m\n",
        "\u001b[0;32m/usr/lib/pymodules/python2.7/matplotlib/axes.pyc\u001b[0m in \u001b[0;36m_plot_args\u001b[0;34m(self, tup, kwargs)\u001b[0m\n\u001b[1;32m    293\u001b[0m             \u001b[0mx\u001b[0m \u001b[0;34m=\u001b[0m \u001b[0mnp\u001b[0m\u001b[0;34m.\u001b[0m\u001b[0marange\u001b[0m\u001b[0;34m(\u001b[0m\u001b[0my\u001b[0m\u001b[0;34m.\u001b[0m\u001b[0mshape\u001b[0m\u001b[0;34m[\u001b[0m\u001b[0;36m0\u001b[0m\u001b[0;34m]\u001b[0m\u001b[0;34m,\u001b[0m \u001b[0mdtype\u001b[0m\u001b[0;34m=\u001b[0m\u001b[0mfloat\u001b[0m\u001b[0;34m)\u001b[0m\u001b[0;34m\u001b[0m\u001b[0m\n\u001b[1;32m    294\u001b[0m \u001b[0;34m\u001b[0m\u001b[0m\n\u001b[0;32m--> 295\u001b[0;31m         \u001b[0mx\u001b[0m\u001b[0;34m,\u001b[0m \u001b[0my\u001b[0m \u001b[0;34m=\u001b[0m \u001b[0mself\u001b[0m\u001b[0;34m.\u001b[0m\u001b[0m_xy_from_xy\u001b[0m\u001b[0;34m(\u001b[0m\u001b[0mx\u001b[0m\u001b[0;34m,\u001b[0m \u001b[0my\u001b[0m\u001b[0;34m)\u001b[0m\u001b[0;34m\u001b[0m\u001b[0m\n\u001b[0m\u001b[1;32m    296\u001b[0m \u001b[0;34m\u001b[0m\u001b[0m\n\u001b[1;32m    297\u001b[0m         \u001b[0;32mif\u001b[0m \u001b[0mself\u001b[0m\u001b[0;34m.\u001b[0m\u001b[0mcommand\u001b[0m \u001b[0;34m==\u001b[0m \u001b[0;34m'plot'\u001b[0m\u001b[0;34m:\u001b[0m\u001b[0;34m\u001b[0m\u001b[0m\n",
        "\u001b[0;32m/usr/lib/pymodules/python2.7/matplotlib/axes.pyc\u001b[0m in \u001b[0;36m_xy_from_xy\u001b[0;34m(self, x, y)\u001b[0m\n\u001b[1;32m    235\u001b[0m         \u001b[0my\u001b[0m \u001b[0;34m=\u001b[0m \u001b[0mnp\u001b[0m\u001b[0;34m.\u001b[0m\u001b[0matleast_1d\u001b[0m\u001b[0;34m(\u001b[0m\u001b[0my\u001b[0m\u001b[0;34m)\u001b[0m\u001b[0;34m\u001b[0m\u001b[0m\n\u001b[1;32m    236\u001b[0m         \u001b[0;32mif\u001b[0m \u001b[0mx\u001b[0m\u001b[0;34m.\u001b[0m\u001b[0mshape\u001b[0m\u001b[0;34m[\u001b[0m\u001b[0;36m0\u001b[0m\u001b[0;34m]\u001b[0m \u001b[0;34m!=\u001b[0m \u001b[0my\u001b[0m\u001b[0;34m.\u001b[0m\u001b[0mshape\u001b[0m\u001b[0;34m[\u001b[0m\u001b[0;36m0\u001b[0m\u001b[0;34m]\u001b[0m\u001b[0;34m:\u001b[0m\u001b[0;34m\u001b[0m\u001b[0m\n\u001b[0;32m--> 237\u001b[0;31m             \u001b[0;32mraise\u001b[0m \u001b[0mValueError\u001b[0m\u001b[0;34m(\u001b[0m\u001b[0;34m\"x and y must have same first dimension\"\u001b[0m\u001b[0;34m)\u001b[0m\u001b[0;34m\u001b[0m\u001b[0m\n\u001b[0m\u001b[1;32m    238\u001b[0m         \u001b[0;32mif\u001b[0m \u001b[0mx\u001b[0m\u001b[0;34m.\u001b[0m\u001b[0mndim\u001b[0m \u001b[0;34m>\u001b[0m \u001b[0;36m2\u001b[0m \u001b[0;32mor\u001b[0m \u001b[0my\u001b[0m\u001b[0;34m.\u001b[0m\u001b[0mndim\u001b[0m \u001b[0;34m>\u001b[0m \u001b[0;36m2\u001b[0m\u001b[0;34m:\u001b[0m\u001b[0;34m\u001b[0m\u001b[0m\n\u001b[1;32m    239\u001b[0m             \u001b[0;32mraise\u001b[0m \u001b[0mValueError\u001b[0m\u001b[0;34m(\u001b[0m\u001b[0;34m\"x and y can be no greater than 2-D\"\u001b[0m\u001b[0;34m)\u001b[0m\u001b[0;34m\u001b[0m\u001b[0m\n",
        "\u001b[0;31mValueError\u001b[0m: x and y must have same first dimension"
       ]
      },
      {
       "metadata": {},
       "output_type": "display_data",
       "png": "[encoded data removed]",
       "text": [
        "<matplotlib.figure.Figure at 0x7f18d7724690>"
       ]
      }
     ],
     "prompt_number": 26
    },
    {
     "cell_type": "code",
     "collapsed": false,
     "input": [
      "len(RSE)\n",
      "RSE"
     ],
     "language": "python",
     "metadata": {},
     "outputs": [
      {
       "metadata": {},
       "output_type": "pyout",
       "prompt_number": 31,
       "text": [
        "[3.1820435743153523,\n",
        " 3.229430854471318,\n",
        " 3.263905805436303,\n",
        " 3.3366727571646977,\n",
        " 3.382368361879546,\n",
        " 3.4419520311420344,\n",
        " 3.4542003603491804,\n",
        " 3.5147475647111364,\n",
        " 3.543738579403698,\n",
        " 3.615150476145388,\n",
        " 3.5644251537739837,\n",
        " 3.6020823410969385,\n",
        " 3.615172658169071,\n",
        " 3.6374579374033287,\n",
        " 3.6471721038248357,\n",
        " 3.63493350310242,\n",
        " 3.6391681895365733,\n",
        " 3.6485725696189877,\n",
        " 3.658140711102728,\n",
        " 3.1711863514714627,\n",
        " 3.207221960344658,\n",
        " 3.250959158233277,\n",
        " 3.315339845409459,\n",
        " 3.3386772027835847,\n",
        " 3.4186932024197714,\n",
        " 3.4799126015803368,\n",
        " 3.5055124881310853,\n",
        " 3.5485852108606286,\n",
        " 3.590166643608693,\n",
        " 3.5938376090233364,\n",
        " 3.608442234293575,\n",
        " 3.631494224086891,\n",
        " 3.632513392026658,\n",
        " 3.635052080927039,\n",
        " 3.660808816288723,\n",
        " 3.6400210577751317,\n",
        " 3.6438636757020433,\n",
        " 3.6422202816971536,\n",
        " 3.1538339245085023,\n",
        " 3.176535549010346,\n",
        " 3.2208550942982326,\n",
        " 3.2706429238219856,\n",
        " 3.3056915004074154,\n",
        " 3.4154760774737856,\n",
        " 3.4281777432009135,\n",
        " 3.501011435613043,\n",
        " 3.535389395716094,\n",
        " 3.551143536837023,\n",
        " 3.5870703747691377,\n",
        " 3.58613449237334,\n",
        " 3.582322286246539,\n",
        " 3.578956546316524,\n",
        " 3.6281082399523172,\n",
        " 3.616592812775516,\n",
        " 3.6234515576775306,\n",
        " 3.6085623758599015,\n",
        " 3.6053757822445376,\n",
        " 3.1352672652835314,\n",
        " 3.1770660834695446,\n",
        " 3.223447149012069,\n",
        " 3.2803111584906115,\n",
        " 3.3371328405337395,\n",
        " 3.388276314194111,\n",
        " 3.4513107986494167,\n",
        " 3.4781832712753284,\n",
        " 3.516684355248335,\n",
        " 3.540663324086419,\n",
        " 3.566582670800302,\n",
        " 3.543992309074837,\n",
        " 3.5843352129084574,\n",
        " 3.593748693873929,\n",
        " 3.610870367804072,\n",
        " 3.6243723444005767,\n",
        " 3.609037714967124,\n",
        " 3.6131619842532836,\n",
        " 3.6242066328009956,\n",
        " 3.153723642486201,\n",
        " 3.190673435028749,\n",
        " 3.2204952079053175,\n",
        " 3.2855495373976145,\n",
        " 3.355755671906973,\n",
        " 3.388524061685508,\n",
        " 3.4403807836828233,\n",
        " 3.487413752683751,\n",
        " 3.5282465562977783,\n",
        " 3.5486608059173603,\n",
        " 3.563276239847516,\n",
        " 3.5780449127597747,\n",
        " 3.596684101893128,\n",
        " 3.5845956885954093,\n",
        " 3.619161420456043,\n",
        " 3.5957198890724524,\n",
        " 3.617653748214355,\n",
        " 3.631689722597242,\n",
        " 3.607212664276379]"
       ]
      }
     ],
     "prompt_number": 31
    },
    {
     "cell_type": "code",
     "collapsed": false,
     "input": [
      "a = np.array(RSE)\n",
      "a = a.reshape((5,19))\n",
      "a = np.mean(a,axos)\n",
      "a\n"
     ],
     "language": "python",
     "metadata": {},
     "outputs": [
      {
       "metadata": {},
       "output_type": "pyout",
       "prompt_number": 48,
       "text": [
        "1.0"
       ]
      }
     ],
     "prompt_number": 48
    }
   ],
   "metadata": {}
  }
 ]
}